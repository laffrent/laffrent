{
 "cells": [
  {
   "cell_type": "markdown",
   "metadata": {},
   "source": [
    "<div class=\"alert alert-block alert-info\">\n",
    "<b>Комментарий ревьюера:</b>\n",
    "\n",
    "Мне понравился твой проект! Спасибо за качественную работу)\n",
    "</div>"
   ]
  },
  {
   "cell_type": "markdown",
   "metadata": {},
   "source": [
    "<div class=\"alert alert-block alert-info\">\n",
    "<b>Комментарий студента:</b> Спасибо за проверку и отдельно за рекомендации, добавил в закладки =)\n",
    "</div>"
   ]
  },
  {
   "cell_type": "markdown",
   "metadata": {},
   "source": [
    "<div class=\"alert alert-block alert-success\">\n",
    "<b>V2 ✔️ Привет!</b>\n",
    "</div>"
   ]
  },
  {
   "cell_type": "markdown",
   "metadata": {},
   "source": [
    "Привет, Евгений!)\n",
    "<br> Меня зовут Дуолан 👋 Буду проверять твой проект. Давай вместе доведем его до идеала 😉\n",
    "<br> Дальнейшее общение будет происходить на «ты», если это не вызывает никаких проблем.\n",
    "<br> Желательно реагировать на каждый мой комментарий («исправил», «не понятно как исправить ошибку», ...)\n",
    "<br> Пожалуйста, не удаляй мои комментарии, они будут необходимы для повторного ревью.\n",
    "\n",
    "Комментарии будут в <font color='green'>зеленой</font>, <font color='blue'>синей</font> или <font color='red'>красной</font> рамках:\n",
    "\n",
    "<div class=\"alert alert-block alert-success\">\n",
    "<b>✔️ Успех:</b> Если все сделано отлично\n",
    "</div>\n",
    "\n",
    "<div class=\"alert alert-block alert-warning\">\n",
    "<b>⚠️ Совет:</b> Если можно немного улучшить\n",
    "</div>\n",
    "\n",
    "<div class=\"alert alert-block alert-danger\">\n",
    "<b>❌ Замечание:</b> Если требуются исправления\n",
    "</div>\n",
    "\n",
    "Работа не может быть принята с красными комментариями.\n",
    "\n",
    "-------------------\n",
    "\n",
    "Будет очень хорошо, если ты будешь помечать свои действия следующим образом:\n",
    "\n",
    "<div class=\"alert alert-block alert-info\">\n",
    "<b>Комментарий студента:</b> ...\n",
    "</div>\n",
    "\n",
    "<div class=\"alert alert-block alert-info\">\n",
    "<b>Изменения:</b> Были внесены следующие изменения ...\n",
    "</div>"
   ]
  },
  {
   "cell_type": "markdown",
   "metadata": {},
   "source": [
    "# Определение стоимости автомобилей"
   ]
  },
  {
   "cell_type": "markdown",
   "metadata": {},
   "source": [
    "Сервис по продаже автомобилей с пробегом «Не бит, не крашен» разрабатывает приложение для привлечения новых клиентов. В нём можно быстро узнать рыночную стоимость своего автомобиля. В нашем распоряжении исторические данные: технические характеристики, комплектации и цены автомобилей. Нам нужно построить модель для определения стоимости. \n",
    "\n",
    "Заказчику важны:\n",
    "\n",
    "- качество предсказания;\n",
    "- скорость предсказания;\n",
    "- время обучения.\n",
    "\n",
    "Описание данных\\\n",
    "**Признаки**\n",
    "\n",
    "    DateCrawled — дата скачивания анкеты из базы\n",
    "    VehicleType — тип автомобильного кузова\n",
    "    RegistrationYear — год регистрации автомобиля\n",
    "    Gearbox — тип коробки передач\n",
    "    Power — мощность (л. с.)\n",
    "    Model — модель автомобиля\n",
    "    Kilometer — пробег (км)\n",
    "    RegistrationMonth — месяц регистрации автомобиля\n",
    "    FuelType — тип топлива\n",
    "    Brand — марка автомобиля\n",
    "    NotRepaired — была машина в ремонте или нет\n",
    "    DateCreated — дата создания анкеты\n",
    "    NumberOfPictures — количество фотографий автомобиля\n",
    "    PostalCode — почтовый индекс владельца анкеты (пользователя)\n",
    "    LastSeen — дата последней активности пользователя\n",
    "\n",
    "**Целевой признак**\n",
    "\n",
    "    Price — цена (евро)"
   ]
  },
  {
   "cell_type": "markdown",
   "metadata": {},
   "source": [
    "## Подготовка данных"
   ]
  },
  {
   "cell_type": "markdown",
   "metadata": {},
   "source": [
    "Загрузим необходимые библиотеки"
   ]
  },
  {
   "cell_type": "code",
   "execution_count": null,
   "metadata": {
    "scrolled": true
   },
   "outputs": [],
   "source": [
    "import re\n",
    "import os\n",
    "\n",
    "from IPython.display import display\n",
    "\n",
    "import pandas as pd\n",
    "import numpy as np\n",
    "\n",
    "import matplotlib.pyplot as plt\n",
    "\n",
    "#plt.style.use('dark_background') # Темная тема для matplotlib\n",
    "\n",
    "import plotly.express as px\n",
    "import plotly.graph_objects as go\n",
    "from plotly.subplots import make_subplots\n",
    "\n",
    "from sklearn.compose import ColumnTransformer\n",
    "from sklearn.dummy import DummyRegressor\n",
    "from sklearn.linear_model import Ridge\n",
    "from sklearn.metrics import mean_squared_error\n",
    "from sklearn.model_selection import RandomizedSearchCV\n",
    "from sklearn.model_selection import train_test_split\n",
    "from sklearn.pipeline import make_pipeline\n",
    "from sklearn.pipeline import Pipeline\n",
    "from sklearn.preprocessing import MinMaxScaler\n",
    "from sklearn.preprocessing import OneHotEncoder\n",
    "from sklearn.preprocessing import RobustScaler\n",
    "from sklearn.utils import shuffle # Миксер\n",
    "from sklearn.utils.validation import check_is_fitted\n",
    "\n",
    "\n",
    "# !pip install skimpy\n",
    "# from skimpy import clean_columns\n",
    "\n",
    "!pip install plotly==5.5.0 # Для тренажера так как ошибка textauto в heatmap\n",
    "\n",
    "!pip install lightgbm\n",
    "from lightgbm import LGBMRegressor as lgbmr\n",
    "\n",
    "!pip install catboost\n",
    "from catboost import CatBoostRegressor"
   ]
  },
  {
   "cell_type": "markdown",
   "metadata": {},
   "source": [
    "<div class=\"alert alert-block alert-success\">\n",
    "<b>✔️ Успех:</b>\n",
    "\n",
    "Импорт выглядит отлично 👍\n",
    "</div>"
   ]
  },
  {
   "cell_type": "markdown",
   "metadata": {},
   "source": [
    "Загрузим данные"
   ]
  },
  {
   "cell_type": "code",
   "execution_count": null,
   "metadata": {},
   "outputs": [],
   "source": [
    "pth1 = '/content/drive/MyDrive/data/autos.csv' # Для Colab\n",
    "pth2 = '/datasets/autos.csv'\n",
    "if os.path.exists(pth1):\n",
    "    df = pd.read_csv(pth1)\n",
    "    print(\"Датасет успешно загружен c GoogleDisc\")\n",
    "elif os.path.exists(pth2):\n",
    "    df = pd.read_csv(pth2)\n",
    "    print(\"Датасет успешно загружен c Яндекс.Практикум\")\n",
    "else:\n",
    "    print(\"Проверьте правильность пути к датасету\")"
   ]
  },
  {
   "cell_type": "code",
   "execution_count": null,
   "metadata": {},
   "outputs": [],
   "source": [
    "df.head()"
   ]
  },
  {
   "cell_type": "markdown",
   "metadata": {},
   "source": [
    "Переименуем столбцы"
   ]
  },
  {
   "cell_type": "code",
   "execution_count": null,
   "metadata": {},
   "outputs": [],
   "source": [
    "new_columns_name=[]\n",
    "for column in df.columns:\n",
    "    new_columns_name.append(re.sub(r'(?<!^)(?=[A-Z])', '_', column).lower())\n",
    "df.columns = new_columns_name"
   ]
  },
  {
   "cell_type": "code",
   "execution_count": null,
   "metadata": {},
   "outputs": [],
   "source": [
    "df.head()"
   ]
  },
  {
   "cell_type": "code",
   "execution_count": null,
   "metadata": {},
   "outputs": [],
   "source": [
    "df.tail()"
   ]
  },
  {
   "cell_type": "code",
   "execution_count": null,
   "metadata": {},
   "outputs": [],
   "source": [
    "df.info()"
   ]
  },
  {
   "cell_type": "markdown",
   "metadata": {},
   "source": [
    "<div class=\"alert alert-block alert-success\">\n",
    "<b>✔️ Успех:</b> \n",
    "\n",
    "Работать с такими названиями гораздо удобнее)\n",
    "</div>"
   ]
  },
  {
   "cell_type": "markdown",
   "metadata": {},
   "source": [
    "Проверим на пропуски"
   ]
  },
  {
   "cell_type": "code",
   "execution_count": null,
   "metadata": {},
   "outputs": [],
   "source": [
    "display(pd.DataFrame(round((df.isna().mean()*100),2), columns=['NaNs, %']).style.format(\n",
    "    '{:.2f}').background_gradient('coolwarm'))"
   ]
  },
  {
   "cell_type": "markdown",
   "metadata": {},
   "source": [
    "Довольно значительное количество пропусков во всех столбцах где они были обнаружены, поэтому просто удалить не получится попробуем обработать их далее"
   ]
  },
  {
   "cell_type": "markdown",
   "metadata": {},
   "source": [
    "Проверим на дубликаты"
   ]
  },
  {
   "cell_type": "code",
   "execution_count": null,
   "metadata": {},
   "outputs": [],
   "source": [
    "df.duplicated().sum()"
   ]
  },
  {
   "cell_type": "code",
   "execution_count": null,
   "metadata": {},
   "outputs": [],
   "source": [
    "df = df.drop_duplicates()"
   ]
  },
  {
   "cell_type": "markdown",
   "metadata": {},
   "source": [
    "<div class=\"alert alert-block alert-success\">\n",
    "<b>✔️ Успех:</b>\n",
    "\n",
    "От явных дубликатов избавились 👍\n",
    "</div>"
   ]
  },
  {
   "cell_type": "markdown",
   "metadata": {},
   "source": [
    "Проверим столбцы `last_seen`, `date_created`, `date_crawled`"
   ]
  },
  {
   "cell_type": "code",
   "execution_count": null,
   "metadata": {},
   "outputs": [],
   "source": [
    "df['date_created'] = pd.to_datetime(df['date_created'])\n",
    "df['last_seen'] = pd.to_datetime(df['last_seen'])\n",
    "df['date_crawled'] = pd.to_datetime(df['date_crawled'])"
   ]
  },
  {
   "cell_type": "code",
   "execution_count": null,
   "metadata": {},
   "outputs": [],
   "source": [
    "df[['last_seen', 'date_created', 'date_crawled']].apply([min, max], axis=0)"
   ]
  },
  {
   "cell_type": "code",
   "execution_count": null,
   "metadata": {},
   "outputs": [],
   "source": [
    "(df['date_crawled'] - df['last_seen']).mean()"
   ]
  },
  {
   "cell_type": "markdown",
   "metadata": {},
   "source": [
    "Дата скачивания анкеты была проставлена раньше чем дата последнего визита пользователя\n",
    "Похоже что эти столбцы не принесут польезной информации как и столбец с датой создания анкеты `date_created`, удалим их, заодно избавимся от столбца с нулевыми значениями, `number_of_pictures`"
   ]
  },
  {
   "cell_type": "code",
   "execution_count": null,
   "metadata": {},
   "outputs": [],
   "source": [
    "df = df.drop(['last_seen', \n",
    "              'date_created', \n",
    "              #'date_crawled', оставим для фильтра года месяца регистрации\n",
    "              'number_of_pictures'], axis=1)"
   ]
  },
  {
   "cell_type": "code",
   "execution_count": null,
   "metadata": {},
   "outputs": [],
   "source": [
    "df.describe()"
   ]
  },
  {
   "cell_type": "markdown",
   "metadata": {},
   "source": [
    "<div class=\"alert alert-block alert-success\">\n",
    "<b>✔️ Успех:</b>\n",
    "\n",
    "Удалить неинформативные признаки - хорошее решение 👍\n",
    "</div>"
   ]
  },
  {
   "cell_type": "markdown",
   "metadata": {},
   "source": [
    "В цене есть \"0\", оправданием может служить плохое техническое состояние или необходимость уплаты налога при утилизации. Не исключаем также вероятность автоматического заполнения пропусков \"0\", как и для столбца `power`, а также месяца регистрации `registration_month`"
   ]
  },
  {
   "cell_type": "markdown",
   "metadata": {},
   "source": [
    "Проверим какие марки встречаются у нас, с количеством моделей"
   ]
  },
  {
   "cell_type": "code",
   "execution_count": null,
   "metadata": {},
   "outputs": [],
   "source": [
    "df.groupby('brand')['model'].nunique()"
   ]
  },
  {
   "cell_type": "markdown",
   "metadata": {},
   "source": [
    "sonstige_autos - автомобили бывшие в эксплуатации, скорее всего используется вместо неизвестных значений, также заменим rover = land_rover"
   ]
  },
  {
   "cell_type": "code",
   "execution_count": null,
   "metadata": {},
   "outputs": [],
   "source": [
    "df.loc[df['brand'] == 'land_rover', 'brand'] = 'rover'"
   ]
  },
  {
   "cell_type": "markdown",
   "metadata": {},
   "source": [
    "<div class=\"alert alert-block alert-success\">\n",
    "<b>✔️ Успех:</b> 👍\n",
    "</div>"
   ]
  },
  {
   "cell_type": "markdown",
   "metadata": {},
   "source": [
    "Проверим есть ли совпадающие названия у разных производителей, если есть добавим к ней название производителя"
   ]
  },
  {
   "cell_type": "code",
   "execution_count": null,
   "metadata": {},
   "outputs": [],
   "source": [
    "for model in df['model'].unique():\n",
    "    if df[df['model'] == model]['brand'].nunique() > 1:\n",
    "        print( model, df[df['model'] == model]['brand'].unique())\n",
    "        df['model'].where(~(df['model'] == model), other=df.brand + ' ' + model, inplace=True)"
   ]
  },
  {
   "cell_type": "markdown",
   "metadata": {},
   "source": [
    "Заменим пропуски в названиях моделей на название бренда добавив unknown_model"
   ]
  },
  {
   "cell_type": "code",
   "execution_count": null,
   "metadata": {},
   "outputs": [],
   "source": [
    "df['model'].where(~(df['model'].isna()), other=df['brand'] +' unknown_model', inplace=True)"
   ]
  },
  {
   "cell_type": "markdown",
   "metadata": {},
   "source": [
    "<div class=\"alert alert-block alert-success\">\n",
    "<b>✔️ Успех:</b>\n",
    "\n",
    "Согласен с таким заполнением 👍\n",
    "</div>"
   ]
  },
  {
   "cell_type": "markdown",
   "metadata": {},
   "source": [
    "В названиях моделей встречается reihe - с немецкого переводится как \"линия\", значит можно предположить что датасет немецкий.\n",
    "Система присвоения индексов совпадает с принятой почтой Германии\n",
    "Заменим индексы на названия регионов"
   ]
  },
  {
   "cell_type": "code",
   "execution_count": null,
   "metadata": {},
   "outputs": [],
   "source": [
    "df['zone'] = df['postal_code'] // 10000\n",
    "df = df.drop('postal_code', axis=1)\n",
    "\n",
    "index_dict = {0: \"Dresden_Leipzig\", \n",
    "              1: \"Berlin\", \n",
    "              2: \"Hamburg_Bremen\", \n",
    "              3: \"Hannover\", \n",
    "              4: \"Duesseldorf_Dortmund\", \n",
    "              5: \"Koeln\", \n",
    "              6: \"Frankfurt\", \n",
    "              7: \"Stuttgart\", \n",
    "              8: \"Muenchen\", \n",
    "              9: \"Nuernberg_Bayer\"}\n",
    "\n",
    "df.zone = df.zone.replace(index_dict)"
   ]
  },
  {
   "cell_type": "code",
   "execution_count": null,
   "metadata": {},
   "outputs": [],
   "source": [
    "zone_model_pivot = df.pivot_table(index='zone', values='model', aggfunc='count')\n",
    "\n",
    "fig = px.bar(zone_model_pivot, y=\"model\")\n",
    "fig.update_layout(bargap=0.05, \n",
    "                  title_text='Количество объявлений по регионам',\n",
    "                  xaxis_title_text='Регион',\n",
    "                  yaxis_title_text='Количество')\n",
    "fig.show()"
   ]
  },
  {
   "cell_type": "markdown",
   "metadata": {},
   "source": [
    "Посмотрим на пробег автомобилей в датасете"
   ]
  },
  {
   "cell_type": "code",
   "execution_count": null,
   "metadata": {},
   "outputs": [],
   "source": [
    "df.kilometer.unique()"
   ]
  },
  {
   "cell_type": "markdown",
   "metadata": {},
   "source": [
    "Похоже, что пробег пользователь выбирает из представленных доступных значений"
   ]
  },
  {
   "cell_type": "code",
   "execution_count": null,
   "metadata": {},
   "outputs": [],
   "source": [
    "fig = px.histogram(df, x=\"kilometer\")\n",
    "fig.update_layout(bargap=0.05, \n",
    "                  title_text='Пробег автомобилей',\n",
    "                  xaxis_title_text='Год',\n",
    "                  yaxis_title_text='Количество')\n",
    "fig.show()"
   ]
  },
  {
   "cell_type": "markdown",
   "metadata": {},
   "source": [
    "Значительная часть автомобилей представлена с пробегом 150 000км. И так как это максимальное доступное число скорее всего в реальности пробег у автомобилей значительно выше. "
   ]
  },
  {
   "cell_type": "markdown",
   "metadata": {},
   "source": [
    "Проверим столбец с годом регистрации `registration_year`"
   ]
  },
  {
   "cell_type": "code",
   "execution_count": null,
   "metadata": {},
   "outputs": [],
   "source": [
    "fig = go.Figure()\n",
    "fig.add_trace(go.Box(x=df['registration_year'], name=' ',\n",
    "                marker_color = 'indianred'))\n",
    "fig.update_layout(title_text='Годы регистраций автомобилей')\n",
    "fig.update_traces(orientation='h')\n",
    "fig.update_xaxes(range=[1960, 2020])\n",
    "fig.show()"
   ]
  },
  {
   "cell_type": "code",
   "execution_count": null,
   "metadata": {
    "scrolled": true
   },
   "outputs": [],
   "source": [
    "df.query('1950 > registration_year')"
   ]
  },
  {
   "cell_type": "code",
   "execution_count": null,
   "metadata": {
    "scrolled": true
   },
   "outputs": [],
   "source": [
    "df.query('2017 < registration_year')"
   ]
  },
  {
   "cell_type": "markdown",
   "metadata": {},
   "source": [
    "Данные старше 1960 похожи на выбросы удалим их, а также объявления с годом регистрации старше 2016 года(по дате скачивания анкеты)"
   ]
  },
  {
   "cell_type": "code",
   "execution_count": null,
   "metadata": {},
   "outputs": [],
   "source": [
    "df = df.query('1960 < registration_year < 2017')"
   ]
  },
  {
   "cell_type": "code",
   "execution_count": null,
   "metadata": {},
   "outputs": [],
   "source": [
    "df = df[~((df['registration_year'] == 2016) & (df['registration_month'] > 4))]"
   ]
  },
  {
   "cell_type": "code",
   "execution_count": null,
   "metadata": {},
   "outputs": [],
   "source": [
    "df.info()"
   ]
  },
  {
   "cell_type": "code",
   "execution_count": null,
   "metadata": {},
   "outputs": [],
   "source": [
    "fig = px.histogram(df, x=\"registration_year\")\n",
    "fig.update_layout(bargap=0.05, \n",
    "                  title_text='Количество объявлений по годам регистрации автомобиля',\n",
    "                  xaxis_title_text='Год',\n",
    "                  yaxis_title_text='Количество')\n",
    "fig.show()"
   ]
  },
  {
   "cell_type": "markdown",
   "metadata": {},
   "source": [
    "<div class=\"alert alert-block alert-danger\">\n",
    "<b>❌ Замечание:</b>\n",
    "\n",
    "Год регистрации нужно ограничить сверху 2016 годом. Максимальный год — дата скачивания анкеты (DateCrawled) 2016.\n",
    "</div>"
   ]
  },
  {
   "cell_type": "markdown",
   "metadata": {},
   "source": [
    "<div class=\"alert alert-block alert-info\">\n",
    "<b>Комментарий студента:</b> Исправил год\n",
    "</div>\n",
    "\n",
    "<div class=\"alert alert-block alert-info\">\n",
    "<b>Изменения:</b> Были внесены следующие изменения:\n",
    "\n",
    "Срезал год и потом все что старше максимальной даты скачивания\\\n",
    "df = df.query('1960 < registration_year < 2017')\\\n",
    "df = df[~((df['registration_year'] == 2016) & (df['registration_month'] > 4))]\n",
    "        \n",
    "Как вариант: хотел месяц и год регистрации преобразовать в дату и сравнить с датой скачивания(так как скачивание длилось месяц - возможно туда бы еще, что нибудь попало и был бы более универсальный код), но нули в месяце все портят \n",
    "</div>"
   ]
  },
  {
   "cell_type": "markdown",
   "metadata": {},
   "source": [
    "<div class=\"alert alert-block alert-success\">\n",
    "<b>V2 ✔️ Успешно исправлено</b>\n",
    "</div>"
   ]
  },
  {
   "cell_type": "markdown",
   "metadata": {},
   "source": [
    "Проверим столбец с месяцем регистрации `registration_month`"
   ]
  },
  {
   "cell_type": "code",
   "execution_count": null,
   "metadata": {},
   "outputs": [],
   "source": [
    "fig = px.histogram(df, x=\"registration_month\")\n",
    "fig.update_layout(bargap=0.05, \n",
    "                  title_text='Количество объявлений по месяцам',\n",
    "                  xaxis_title_text='Месяц',\n",
    "                  yaxis_title_text='Количество')\n",
    "fig.show()"
   ]
  },
  {
   "cell_type": "code",
   "execution_count": null,
   "metadata": {},
   "outputs": [],
   "source": [
    "display(df.query('registration_year > 1980').pivot_table(index='registration_month', \n",
    "                                                 columns='registration_year', \n",
    "                                                 values='model',  \n",
    "                                                 aggfunc='count').style.format(\n",
    "    '{:.2f}').background_gradient('coolwarm'))"
   ]
  },
  {
   "cell_type": "markdown",
   "metadata": {},
   "source": [
    "Нулем в месяцах предположительно, заполняются пропущенные значения. Значительное количество нулевых значений встречается до 2000 года и после 2015. Данные о продажах по месяцам могут показать некоторую сезонность в коллебаниях цен, но учитывая число пропусков скорее всего эта информация будет не доступна. Удалим столбец."
   ]
  },
  {
   "cell_type": "code",
   "execution_count": null,
   "metadata": {},
   "outputs": [],
   "source": [
    "df = df.drop(['registration_month'], axis=1)"
   ]
  },
  {
   "cell_type": "markdown",
   "metadata": {},
   "source": [
    "<div class=\"alert alert-block alert-success\">\n",
    "<b>✔️ Успех:</b> 👍\n",
    "</div>"
   ]
  },
  {
   "cell_type": "markdown",
   "metadata": {},
   "source": [
    "Посмотрим распределение цен на автомобили"
   ]
  },
  {
   "cell_type": "code",
   "execution_count": null,
   "metadata": {},
   "outputs": [],
   "source": [
    "df.price.describe()"
   ]
  },
  {
   "cell_type": "code",
   "execution_count": null,
   "metadata": {},
   "outputs": [],
   "source": [
    "fig = px.histogram(df, x=\"price\")\n",
    "fig.update_layout(bargap=0.05, \n",
    "                  title_text='Количество объявлений по цене',\n",
    "                  xaxis_title_text='Цена',\n",
    "                  yaxis_title_text='Количество')\n",
    "fig.show()"
   ]
  },
  {
   "cell_type": "markdown",
   "metadata": {},
   "source": [
    "Видно большое количество значений около 0. Либо таким образом заполнены пропуски когда владелец не указывает цену в объявлении либо автомобили в таком состоянии. Что владелец с радостью избавиться от авто(возможно налог на утилизацию).\n",
    "\n",
    "Отбросим нулевые значения так как они отрийательно влияют на качество обучения модели"
   ]
  },
  {
   "cell_type": "code",
   "execution_count": null,
   "metadata": {},
   "outputs": [],
   "source": [
    "df = df.query('price > 0')"
   ]
  },
  {
   "cell_type": "markdown",
   "metadata": {},
   "source": [
    "Проверим распределение мощности двигателей"
   ]
  },
  {
   "cell_type": "code",
   "execution_count": null,
   "metadata": {},
   "outputs": [],
   "source": [
    "df.power.describe()"
   ]
  },
  {
   "cell_type": "code",
   "execution_count": null,
   "metadata": {},
   "outputs": [],
   "source": [
    "fig = go.Figure()\n",
    "fig.add_trace(go.Box(x=df['power'], name=' ',\n",
    "                marker_color = 'indianred'))\n",
    "fig.update_layout(title_text='Распределение мощности двигателей')\n",
    "fig.update_traces(orientation='h')\n",
    "fig.update_xaxes(range=[-50, 800])\n",
    "\n",
    "fig.show()"
   ]
  },
  {
   "cell_type": "markdown",
   "metadata": {},
   "source": [
    "Опять значительное число нулевых значений, примем за выбросы все что выше 460 л.с"
   ]
  },
  {
   "cell_type": "code",
   "execution_count": null,
   "metadata": {},
   "outputs": [],
   "source": [
    "df = df.query('power < 460')"
   ]
  },
  {
   "cell_type": "markdown",
   "metadata": {},
   "source": [
    "<div class=\"alert alert-block alert-success\">\n",
    "<b>✔️ Успех:</b>\n",
    "\n",
    "Мощность ограничили 👍\n",
    "</div>"
   ]
  },
  {
   "cell_type": "markdown",
   "metadata": {},
   "source": [
    "Проверим столбец с типом транспортного средства"
   ]
  },
  {
   "cell_type": "code",
   "execution_count": null,
   "metadata": {},
   "outputs": [],
   "source": [
    "df.vehicle_type.unique()"
   ]
  },
  {
   "cell_type": "markdown",
   "metadata": {},
   "source": [
    "Есть значение other, вероятно для более редких типов кузова. Заменим пропуски на unknown"
   ]
  },
  {
   "cell_type": "code",
   "execution_count": null,
   "metadata": {},
   "outputs": [],
   "source": [
    "df.vehicle_type = df.vehicle_type.fillna('unknown')"
   ]
  },
  {
   "cell_type": "code",
   "execution_count": null,
   "metadata": {},
   "outputs": [],
   "source": [
    "df.head()"
   ]
  },
  {
   "cell_type": "markdown",
   "metadata": {},
   "source": [
    "<div class=\"alert alert-block alert-success\">\n",
    "<b>✔️ Успех:</b>\n",
    "\n",
    "Согласен с таким заполнением 👍\n",
    "</div>"
   ]
  },
  {
   "cell_type": "markdown",
   "metadata": {},
   "source": [
    "Проверим встречающиеся типы коробок передач"
   ]
  },
  {
   "cell_type": "code",
   "execution_count": null,
   "metadata": {},
   "outputs": [],
   "source": [
    "df.gearbox.unique()"
   ]
  },
  {
   "cell_type": "markdown",
   "metadata": {},
   "source": [
    "Заполним пропуски"
   ]
  },
  {
   "cell_type": "code",
   "execution_count": null,
   "metadata": {},
   "outputs": [],
   "source": [
    "df.gearbox = df.gearbox.fillna('non_spec')"
   ]
  },
  {
   "cell_type": "code",
   "execution_count": null,
   "metadata": {},
   "outputs": [],
   "source": [
    "df.fuel_type.unique()"
   ]
  },
  {
   "cell_type": "code",
   "execution_count": null,
   "metadata": {},
   "outputs": [],
   "source": [
    "fig = px.histogram(df, x=\"fuel_type\")\n",
    "fig.update_layout(bargap=0.05, \n",
    "                  title_text='Тип топлива',\n",
    "                  xaxis_title_text='Топливо',\n",
    "                  yaxis_title_text='Количество')\n",
    "fig.show()"
   ]
  },
  {
   "cell_type": "markdown",
   "metadata": {},
   "source": [
    "<div class=\"alert alert-block alert-success\">\n",
    "<b>✔️ Успех:</b>\n",
    "\n",
    "Согласен с таким заполнением 👍\n",
    "</div>"
   ]
  },
  {
   "cell_type": "markdown",
   "metadata": {},
   "source": [
    "Petrol и gasoline слова синонимы для бензина, который преобладает в датасете. Явно не хватает дизельного топлива возможно оно попадает в категорию other.\n",
    "Пропуски заполним на неизвестный тип топлива"
   ]
  },
  {
   "cell_type": "code",
   "execution_count": null,
   "metadata": {},
   "outputs": [],
   "source": [
    "df['fuel_type'].where(~(df['fuel_type'] == 'gasoline'), other='petrol', inplace=True)\n",
    "df.fuel_type = df.fuel_type.fillna('unkn_fuel')"
   ]
  },
  {
   "cell_type": "markdown",
   "metadata": {},
   "source": [
    "<div class=\"alert alert-block alert-success\">\n",
    "<b>✔️ Успех:</b>\n",
    "\n",
    "Согласен с таким заполнением 👍\n",
    "</div>"
   ]
  },
  {
   "cell_type": "markdown",
   "metadata": {},
   "source": [
    "Перейдем к столбцу `repaired`"
   ]
  },
  {
   "cell_type": "code",
   "execution_count": null,
   "metadata": {},
   "outputs": [],
   "source": [
    "df.repaired.unique()"
   ]
  },
  {
   "cell_type": "markdown",
   "metadata": {},
   "source": [
    "Заменим пропуски и посмотрим на распределение"
   ]
  },
  {
   "cell_type": "code",
   "execution_count": null,
   "metadata": {},
   "outputs": [],
   "source": [
    "df.repaired = df.repaired.fillna('unk_condition')"
   ]
  },
  {
   "cell_type": "code",
   "execution_count": null,
   "metadata": {},
   "outputs": [],
   "source": [
    "fig = px.histogram(df, x=\"repaired\")\n",
    "fig.update_layout(bargap=0.05, \n",
    "                  title_text='Состояние автомобиля',\n",
    "                  xaxis_title_text='Состояние',\n",
    "                  yaxis_title_text='Количество')\n",
    "fig.show()"
   ]
  },
  {
   "cell_type": "markdown",
   "metadata": {},
   "source": [
    "В основном в выборке представлены в состоянии No, тоесть над ней не проводился серьёзный ремонт. Будем надеяться, что эта колонка также отражает и текущее состояние автомобиля."
   ]
  },
  {
   "cell_type": "markdown",
   "metadata": {},
   "source": [
    "<div class=\"alert alert-block alert-success\">\n",
    "<b>✔️ Успех:</b>\n",
    "\n",
    "Согласен с таким заполнением 👍\n",
    "</div>"
   ]
  },
  {
   "cell_type": "markdown",
   "metadata": {},
   "source": [
    "Добавим новый признак показывающий насколько заявленный пробег для данного автоотличается от среднего пробега для тойже марки того же года"
   ]
  },
  {
   "cell_type": "code",
   "execution_count": null,
   "metadata": {},
   "outputs": [],
   "source": [
    "df['med_model_year_km'] = np.nan\n",
    "df['med_model_year_km'] = \\\n",
    "(df['med_model_year_km'].fillna(df.groupby(['model', 'registration_year'])['kilometer']\\\n",
    "                            .transform('median')) - df['kilometer']).astype(int) #mean хуже"
   ]
  },
  {
   "cell_type": "code",
   "execution_count": null,
   "metadata": {},
   "outputs": [],
   "source": [
    "fig = px.histogram(df, x='med_model_year_km', nbins=200)\n",
    "fig.update_layout(bargap=0.05, \n",
    "                  title_text='Разница пробега автомобиля и медианным пробегом для данной модели и года',\n",
    "                  xaxis_title_text='Разница пробега',\n",
    "                  yaxis_title_text='Количество')\n",
    "fig.show()"
   ]
  },
  {
   "cell_type": "markdown",
   "metadata": {},
   "source": [
    "Проверим на мультиколлениарность признаков"
   ]
  },
  {
   "cell_type": "code",
   "execution_count": null,
   "metadata": {},
   "outputs": [],
   "source": [
    "corr_matrix = df.corr().round(2)\n",
    "    \n",
    "fig = px.imshow(corr_matrix,\n",
    "                text_auto=True,\n",
    "                width=600, \n",
    "                height=600,\n",
    "                color_continuous_scale='Hot')\n",
    "    \n",
    "fig.update_xaxes(side=\"top\")\n",
    "fig.update_layout(title=\"Корреляционная матрица параметров\")\n",
    "fig.show()"
   ]
  },
  {
   "cell_type": "markdown",
   "metadata": {},
   "source": [
    "Средняя зависимость только между новым признаком и пробегом"
   ]
  },
  {
   "cell_type": "code",
   "execution_count": null,
   "metadata": {},
   "outputs": [],
   "source": [
    "fig = px.scatter_3d(df.sample(n=3000), \n",
    "                    x='registration_year', \n",
    "                    y='kilometer', \n",
    "                    z='power', \n",
    "                    color='price',\n",
    "                    opacity=0.7)\n",
    "fig.update_traces(marker_size = 3)\n",
    "\n",
    "fig.show()"
   ]
  },
  {
   "cell_type": "markdown",
   "metadata": {},
   "source": [
    "В целом, чем новее и мощнее тем выше цена. Встречаются редкие экземпляры до 1980 по относительно высокой цене"
   ]
  },
  {
   "cell_type": "code",
   "execution_count": null,
   "metadata": {},
   "outputs": [],
   "source": [
    "pd.DataFrame({'NaNs, %': round((df.isna().mean()*100),2), 'NaNs, qty': df.isna().sum()}).style.format('{:.2f}').background_gradient('coolwarm')"
   ]
  },
  {
   "cell_type": "markdown",
   "metadata": {},
   "source": [
    "Все пропуски заполнены"
   ]
  },
  {
   "cell_type": "markdown",
   "metadata": {},
   "source": [
    "**Вывод**\n",
    "В данном разделе мы провели ознакомление и обработку данных для обучения модели.\n",
    "\n",
    "В исходном датасете нам было представлено 354369 объектов с 16 признаками.\n",
    "\n",
    "`date_crawled`, `date_created`, `last_seen` - даты создания, скачивания, последнего посещения по сути бесполезны для предсказания цены автомобиля, более полезным было бы время подачи и время снятия объявления - по ним косвенно можно предположить адекватность цены\n",
    "\n",
    "`price` - цена распределена от 0 до 20000, много значений сконцентрировано около 0, возможно либо так заполнились пропуски либо как вариант высокий налог на утилизацию и люди даром отдают машину, еще возможно если продажа идет в формате некого аукциона возможно не поступило ни одного предложения\n",
    "\n",
    "`registration_year` - год регистрации автомобиля, были удалены выбросы. В основном пик продаж приходится на 2003 год.\n",
    "\n",
    "`power` - мощность автомобиля, удалены выбросы свыше 450 лс (для серийных автомобилей примем, что большие значения редкость). Много значений около 0. Возможно заполнение пропусков или при состояние авто не позволяет установить истинную мощность\n",
    "\n",
    "`brand` - представлены основные бренды существующие на рынке. Удалены совпадающие имена. Также обнаружена категория `sonstige_autos` - преположительно являющаяся заменой пропусков, или неизвестных значений(для нее есть одна разновидность модели other)\n",
    "\n",
    "`model` - обработаны повторы названий одинаковых моделей разных производителей, заполнены пропуски\n",
    "\n",
    "`kilometer` - по столбцу с пробегом установлено, что большинство автомобилей имеют пробег 150000 км, при учете что пользователь выбирает из доступныхх значений и 150000км максимум, следовательно автомобили имеют пробег выше.\n",
    "\n",
    "`registration_month` - столбец удален, можно было бы получить сезонные колебания цен, но учитывая пропуски, эта информация была бы утеряна\n",
    "\n",
    "`postal_code` - было определено что датасет немецкого происхождения и значения индекса были заменены на названия регионов\n",
    "\n",
    "`repaired` - на большинстве автомобилей не проводилось серьезного ремонта. Не однозначная категория \"NotRepaired — была машина в ремонте или нет\" предположим, что подразумевается серьезный ремонт(восстановление)\n",
    "\n",
    "`fuel_type`- объеденены синонимы 'petrol' и 'gasoline', заполнены пропуски, отсутствует категория дизельных авто, вероятно отнсятся к other или к пропускам\n",
    "\n",
    "`gearbox` - заменены пропуски\n",
    "\n",
    "`vehicle_type` - заменены пропуски\n",
    "\n",
    "`number_of_pictures` - признак с 0, удалили\n",
    "\n",
    "Данные подготовлены переходим к обучению моделей"
   ]
  },
  {
   "cell_type": "markdown",
   "metadata": {},
   "source": [
    "<div class=\"alert alert-block alert-danger\">\n",
    "<b>❌ Замечание:</b>\n",
    "\n",
    "Присутствуют нулевые значения в признаке price. Цена не может быть нулевой, к тому же это целевой признак. Самое интересное, что на нескольких сайтах по продаже подержанных автомобилей в Германии (страну можно определить по почтовым индексам, большинство из них из Германии) показало, что цены, действительно, начинаются с 0 и 1 евро, но это единичные объявления. Не понятно, то ли это ошибка при заполнении формы, то ли машины на металлолом. Но я все-таки склоняюсь к тому, чтобы избавиться от таких данных.\n",
    "</div>"
   ]
  },
  {
   "cell_type": "markdown",
   "metadata": {},
   "source": [
    "<div class=\"alert alert-block alert-info\">\n",
    "<b>Комментарий студента:</b> Да у меня тоже были сомнения, думал и 10 и 100\n",
    "</div>\n",
    "\n",
    "<div class=\"alert alert-block alert-info\">\n",
    "<b>Изменения:</b> Были внесены следующие изменения: добавил df = df.query('price > 0')\n",
    "</div>"
   ]
  },
  {
   "cell_type": "markdown",
   "metadata": {},
   "source": [
    "<div class=\"alert alert-block alert-success\">\n",
    "<b>V2 ✔️ Успешно исправлено</b>\n",
    "</div>"
   ]
  },
  {
   "cell_type": "markdown",
   "metadata": {},
   "source": [
    "## Обучение моделей"
   ]
  },
  {
   "cell_type": "markdown",
   "metadata": {},
   "source": [
    "Подготовим данные для обучения моделей"
   ]
  },
  {
   "cell_type": "code",
   "execution_count": null,
   "metadata": {},
   "outputs": [],
   "source": [
    "X, y = df.drop(['price'], axis=1), df['price']\n",
    "\n",
    "X_train, X_test, y_train, y_test = train_test_split(\n",
    "    X, y, \n",
    "    test_size=0.25, \n",
    "    random_state=47,\n",
    "    shuffle=True)\n",
    "\n",
    "print('Обучающая выборка:')\n",
    "print('Доля от общего размера:', round(y_train.shape[0]/df.shape[0], 2))\n",
    "print('Cтрок, столбцов:', X_train.shape)\n",
    "print('Доля целевого признака:', round(y_train.mean(), 3))\n",
    "print('- '*10)\n",
    "\n",
    "\n",
    "print('Тестовая выборка:')\n",
    "print('Доля от общего размера:', round(y_test.shape[0]/df.shape[0], 2))\n",
    "print('Cтрок, столбцов:', X_test.shape)\n",
    "print('Доля целевого признака:', round(y_test.mean(), 3))\n",
    "print('-'*30)"
   ]
  },
  {
   "cell_type": "markdown",
   "metadata": {},
   "source": [
    "<div class=\"alert alert-block alert-success\">\n",
    "<b>✔️ Успех:</b> \n",
    "\n",
    "Данные поделены верно, пропорции выбраны адекватные 👍\n",
    "</div>"
   ]
  },
  {
   "cell_type": "markdown",
   "metadata": {},
   "source": [
    "Разобьем данные на категориальные и числовые обработка для них будет идти по разному"
   ]
  },
  {
   "cell_type": "code",
   "execution_count": null,
   "metadata": {},
   "outputs": [],
   "source": [
    "categorical = list(X_train.select_dtypes('object').columns)\n",
    "print(f\"Категориальные признаки: {categorical}\")\n",
    "\n",
    "numerical = list(X_train.select_dtypes('number').columns)\n",
    "print(f\"Числовые признаки: {numerical}\")"
   ]
  },
  {
   "cell_type": "markdown",
   "metadata": {},
   "source": [
    "Подготовим pipeline. Две модели на градиентном бустинге одну на основе линейной регрессии"
   ]
  },
  {
   "cell_type": "code",
   "execution_count": null,
   "metadata": {},
   "outputs": [],
   "source": [
    "cat_pipe = Pipeline([\n",
    "    ('encoder', OneHotEncoder(handle_unknown='ignore'))\n",
    "])\n",
    "\n",
    "num_pipe = Pipeline([\n",
    "    ('scaler', RobustScaler())\n",
    "])\n",
    "\n",
    "preprocessor = ColumnTransformer([\n",
    "    ('cat', cat_pipe, categorical),\n",
    "    ('num', num_pipe, numerical)\n",
    "])\n",
    "\n",
    "pipe = Pipeline(\n",
    "    [\n",
    "        ('preprocessor', preprocessor),\n",
    "        (\"regressor\", lgbmr())\n",
    "    ]\n",
    ")\n",
    "\n",
    "param_grid = [\n",
    "    {\n",
    "        'regressor': [CatBoostRegressor(random_state=47, \n",
    "                                        eval_metric='RMSE', \n",
    "                                        silent=True, \n",
    "                                        early_stopping_rounds=4)],\n",
    "        'regressor__depth': [6, 8],\n",
    "        'regressor__learning_rate': [0.25, 0.4],\n",
    "        'regressor__iterations': [100, 200]\n",
    "    },\n",
    "    {\n",
    "        'regressor': [lgbmr(random_state=47, metric='rmse')],\n",
    "        'regressor__learning_rate': [0.4, 0.6],\n",
    "        'regressor__n_estimators': [100, 150],\n",
    "    },\n",
    "    {\n",
    "        'regressor': [Ridge(random_state=47)],\n",
    "        'regressor__alpha': [ 1, 3, 5],\n",
    "        'regressor__max_iter': [1000, 5000],\n",
    "        'regressor__tol': [0.0001, 0.00001]\n",
    "    }\n",
    "\n",
    "]\n",
    "\n",
    "grid = RandomizedSearchCV(pipe, param_grid, n_iter=30 ,cv=3, scoring = 'neg_mean_squared_error', verbose=3)"
   ]
  },
  {
   "cell_type": "markdown",
   "metadata": {},
   "source": [
    "Обучим модели и замерим время обучения, замер скорости обучения будем осуществлять с помощью команды %%time, в дальнейшем из таблицы с результатами выберем время обучения лучших моделей"
   ]
  },
  {
   "cell_type": "code",
   "execution_count": null,
   "metadata": {
    "scrolled": true
   },
   "outputs": [],
   "source": [
    "%%time\n",
    "grid.fit(X_train, y_train)"
   ]
  },
  {
   "cell_type": "markdown",
   "metadata": {},
   "source": [
    "<div class=\"alert alert-block alert-success\">\n",
    "<b>✔️ Успех:</b>\n",
    "\n",
    "По модельной части замечаний нет - обучение выполнено четко 💪\n",
    "</div>"
   ]
  },
  {
   "cell_type": "markdown",
   "metadata": {},
   "source": [
    "## Анализ моделей"
   ]
  },
  {
   "cell_type": "markdown",
   "metadata": {},
   "source": [
    "Посмотри на результаты работы моделей по среднеквадратичному значению ошибки"
   ]
  },
  {
   "cell_type": "code",
   "execution_count": null,
   "metadata": {},
   "outputs": [],
   "source": [
    "result = pd.DataFrame(grid.cv_results_)\n",
    "result['mean_test_score'] = (result['mean_test_score']*-1)**0.5\n",
    "\n",
    "result = result[['param_regressor',\n",
    "                 'mean_fit_time', \n",
    "                 'mean_score_time', \n",
    "                 'mean_test_score']].sort_values('mean_test_score').head()\n",
    "result"
   ]
  },
  {
   "cell_type": "markdown",
   "metadata": {},
   "source": [
    "Примерно одинаковый результат у LGBMRegressor и CatBoostRegressor, но учитывая ожидаемое среднее время получения результата, CatBoostRegressor значительно выигрывает"
   ]
  },
  {
   "cell_type": "markdown",
   "metadata": {},
   "source": [
    "<div class=\"alert alert-block alert-success\">\n",
    "<b>✔️ Успех:</b>\n",
    "\n",
    "Молодец, что для сравнения моделей заносишь их в общий датафрейм 👍\n",
    "</div>"
   ]
  },
  {
   "cell_type": "markdown",
   "metadata": {},
   "source": [
    "Теперь отсортируем таблицу результатов по ожидаемому среднему времени предсказания"
   ]
  },
  {
   "cell_type": "code",
   "execution_count": null,
   "metadata": {},
   "outputs": [],
   "source": [
    "result = pd.DataFrame(grid.cv_results_)\n",
    "result['mean_test_score'] = (result['mean_test_score']*-1)**0.5\n",
    "\n",
    "result[['param_regressor',\n",
    "        'mean_fit_time', \n",
    "        'mean_score_time', \n",
    "        'mean_test_score']].sort_values('mean_score_time').head()"
   ]
  },
  {
   "cell_type": "markdown",
   "metadata": {},
   "source": [
    "Здесь безусловно выигрывает Ridge, но со значительно большим среднеквадратичным отклонением"
   ]
  },
  {
   "cell_type": "markdown",
   "metadata": {},
   "source": [
    "Для оценки важности признаков модели воспользуемся следующим решением [GitHub](https://github.com/scikit-learn/scikit-learn/issues/12525 \"GitHub\")  (чтобы вытащить названия признаков из OHE) "
   ]
  },
  {
   "cell_type": "code",
   "execution_count": null,
   "metadata": {},
   "outputs": [],
   "source": [
    "def get_column_names_from_ColumnTransformer(column_transformer, clean_column_names=False, verbose=True):  \n",
    "\n",
    "    \"\"\"\n",
    "    Reference: Kyle Gilde: https://github.com/kylegilde/Kaggle-Notebooks/blob/master/Extracting-and-Plotting-Scikit-Feature-Names-and-Importances/feature_importance.py\n",
    "    Description: Get the column names from the a ColumnTransformer containing transformers & pipelines\n",
    "    Parameters\n",
    "    ----------\n",
    "    verbose: Bool indicating whether to print summaries. Default set to True.\n",
    "    Returns\n",
    "    -------\n",
    "    a list of the correct feature names\n",
    "    Note:\n",
    "    If the ColumnTransformer contains Pipelines and if one of the transformers in the Pipeline is adding completely new columns,\n",
    "    it must come last in the pipeline. For example, OneHotEncoder, MissingIndicator & SimpleImputer(add_indicator=True) add columns\n",
    "    to the dataset that didn't exist before, so there should come last in the Pipeline.\n",
    "    Inspiration: https://github.com/scikit-learn/scikit-learn/issues/12525\n",
    "    \"\"\"\n",
    "\n",
    "    assert isinstance(column_transformer, ColumnTransformer), \"Input isn't a ColumnTransformer\"\n",
    "    \n",
    "    check_is_fitted(column_transformer)\n",
    "\n",
    "    new_feature_names, transformer_list = [], []\n",
    "\n",
    "    for i, transformer_item in enumerate(column_transformer.transformers_): \n",
    "        transformer_name, transformer, orig_feature_names = transformer_item\n",
    "        orig_feature_names = list(orig_feature_names)\n",
    "\n",
    "        if len(orig_feature_names) == 0:\n",
    "            continue\n",
    "\n",
    "        if verbose: \n",
    "            print(f\"\\n\\n{i}.Transformer/Pipeline: {transformer_name} {transformer.__class__.__name__}\\n\")\n",
    "            print(f\"\\tn_orig_feature_names:{len(orig_feature_names)}\")\n",
    "\n",
    "        if transformer == 'drop':\n",
    "            continue\n",
    "\n",
    "        if isinstance(transformer, Pipeline):\n",
    "            # if pipeline, get the last transformer in the Pipeline\n",
    "            transformer = transformer.steps[-1][1]\n",
    "\n",
    "        if hasattr(transformer, 'get_feature_names_out'):\n",
    "            if 'input_features' in transformer.get_feature_names_out.__code__.co_varnames:\n",
    "                names = list(transformer.get_feature_names_out(orig_feature_names))\n",
    "            else:\n",
    "                names = list(transformer.get_feature_names_out())\n",
    "        elif hasattr(transformer, 'get_feature_names'):\n",
    "            if 'input_features' in transformer.get_feature_names.__code__.co_varnames:\n",
    "                names = list(transformer.get_feature_names(orig_feature_names))\n",
    "            else:\n",
    "                names = list(transformer.get_feature_names())\n",
    "\n",
    "        elif hasattr(transformer,'indicator_') and transformer.add_indicator:\n",
    "            # is this transformer one of the imputers & did it call the MissingIndicator?\n",
    "\n",
    "            missing_indicator_indices = transformer.indicator_.features_\n",
    "            missing_indicators = [orig_feature_names[idx] + '_missing_flag'\\\n",
    "                                  for idx in missing_indicator_indices]\n",
    "            names = orig_feature_names + missing_indicators\n",
    "\n",
    "        elif hasattr(transformer,'features_'):\n",
    "            # is this a MissingIndicator class? \n",
    "            missing_indicator_indices = transformer.features_\n",
    "            missing_indicators = [orig_feature_names[idx] + '_missing_flag'\\\n",
    "                                  for idx in missing_indicator_indices]\n",
    "\n",
    "        else:\n",
    "\n",
    "            names = orig_feature_names\n",
    "\n",
    "        if verbose: \n",
    "            print(f\"\\tn_new_features:{len(names)}\")\n",
    "            print(f\"\\tnew_features: {names}\\n\")\n",
    "\n",
    "        new_feature_names.extend(names)\n",
    "        transformer_list.extend([transformer_name] * len(names))\n",
    "\n",
    "    transformer_list, column_transformer_features = transformer_list, new_feature_names\n",
    "\n",
    "    if clean_column_names:\n",
    "        new_feature_names = list(clean_columns(pd.DataFrame(columns=new_feature_names)).columns)\n",
    "    \n",
    "    return new_feature_names"
   ]
  },
  {
   "cell_type": "code",
   "execution_count": null,
   "metadata": {},
   "outputs": [],
   "source": [
    "dset = pd.DataFrame()\n",
    "dset['attr'] = get_column_names_from_ColumnTransformer(grid.best_estimator_.named_steps['preprocessor'], verbose=False)\n",
    "dset['importance'] = grid.best_estimator_.named_steps[\"regressor\"].feature_importances_\n",
    "\n",
    "dset = dset.sort_values(by='importance').tail(30)\n",
    "\n",
    "plt.figure(figsize=(16, 14))\n",
    "plt.barh(y=dset['attr'], width=dset['importance'], color='#1976D2')\n",
    "plt.title('RFECV - Feature Importances', fontsize=20, fontweight='bold', pad=20)\n",
    "plt.xlabel('Importance', fontsize=14, labelpad=20)\n",
    "plt.show()"
   ]
  },
  {
   "cell_type": "code",
   "execution_count": null,
   "metadata": {},
   "outputs": [],
   "source": [
    "print(f\"Наиболее важными параметрами влияющими на цену автомобиля по расчетам :\\n \\\n",
    "{dset.sort_values(by='importance')['attr'].tail(3)}\")"
   ]
  },
  {
   "cell_type": "markdown",
   "metadata": {},
   "source": [
    "Проверим работу модели на тестовой выборке"
   ]
  },
  {
   "cell_type": "code",
   "execution_count": null,
   "metadata": {},
   "outputs": [],
   "source": [
    "%%time\n",
    "y_final = grid.best_estimator_.predict(X_test)"
   ]
  },
  {
   "cell_type": "code",
   "execution_count": null,
   "metadata": {},
   "outputs": [],
   "source": [
    "mean_squared_error(y_test, y_final)**0.5"
   ]
  },
  {
   "cell_type": "markdown",
   "metadata": {},
   "source": [
    "<div class=\"alert alert-block alert-success\">\n",
    "<b>✔️ Успех:</b>\n",
    "\n",
    "Отличный результат 👍 \n",
    "</div>"
   ]
  },
  {
   "cell_type": "markdown",
   "metadata": {},
   "source": [
    "На тестовой выборке модель показывает результат сопоставимый с результатами при кроссвалидации"
   ]
  },
  {
   "cell_type": "code",
   "execution_count": null,
   "metadata": {},
   "outputs": [],
   "source": [
    "dummy_regr = DummyRegressor(strategy=\"mean\")\n",
    "dummy_regr.fit(X_train, y_train)\n",
    "y_pred = dummy_regr.predict(X_test)\n",
    "mean_squared_error(y_test, y_pred)**0.5"
   ]
  },
  {
   "cell_type": "markdown",
   "metadata": {},
   "source": [
    "В сравнении с Dummy моделью также показывает эффективность "
   ]
  },
  {
   "cell_type": "markdown",
   "metadata": {},
   "source": [
    "<div class=\"alert alert-block alert-success\">\n",
    "<b>✔️ Успех:</b> 👍 \n",
    "</div>"
   ]
  },
  {
   "cell_type": "markdown",
   "metadata": {},
   "source": [
    "На основании совокупности показанных результатов скорости предсказания и среднеквадратичного отклонения предсказанных результатов рекомендуется выбрать CatBoostRegressor с ниже указанными параметрами"
   ]
  },
  {
   "cell_type": "code",
   "execution_count": null,
   "metadata": {},
   "outputs": [],
   "source": [
    "grid.best_estimator_.named_steps[\"regressor\"].get_all_params()"
   ]
  },
  {
   "cell_type": "markdown",
   "metadata": {},
   "source": [
    "**Вывод**\n",
    "\n",
    "В данной работе нами предложена модель предсказания цены автомобиля для приложения сервиса по продаже автомобилей с пробегом «Не бит, не крашен».\n",
    "\n",
    "На этапе обработки данных избавились от столбцов с датой скачивания анкеты, даты последней активности пользователя и даты регистрации как мало информативные. А также столбец с месяцем регистрации авто, так как из-за обилия нулевых значений адекватно заменить не получилось бы. \\\n",
    "Нами были удалены явные дубликаты, а также дубликаты в марках автомобилей, типе топлива.\n",
    "Для каждой марки при совпадении названии модели создана своя замена.\n",
    "В столбце с годом выпуска автомобиля и мощностью были удалены выбросы.\n",
    "Было обнаружено что датасет выбран из автомобилей Германии и на основании этого заменен на область в которой продавался автомобиль.\n",
    "Выяснили что большая часть автомобилей представлена с пробегом 150000км, и из-за ограничения это значение является максимальным, но наверняка есть автомобили пробег которых значительно больше.\n",
    "Проверили признаки на мультиколлениарность.\n",
    "Добавили новый признак с разницей между пробегом автомобиля и медианным пробегом для такой же марки того же года. Что дало небольшой прирост качества.\n",
    "\n",
    "Для обучения модели нами выбраны две можели на основе градиентного бустинга CatBoostRegressor и LGBMRegressor. И одна попроще Ridge regression.\n",
    "\n",
    "По скрости обучения и предсказания лидирует Ridge. Обе модели градиентного бустинга проигрывают в скорости зато выигрывают в качестве предсказания. \n",
    "\n",
    "По совокупности результатов качества  и скорости предсказания, рекомендуется для разработки приложения использовать модель на основе CatBoostRegressor с расчитанными выше параметрами."
   ]
  },
  {
   "cell_type": "markdown",
   "metadata": {},
   "source": [
    "<div class=\"alert alert-block alert-success\">\n",
    "<b>✔️ Успех:</b>\n",
    "\n",
    "Вывод соответствует исследованию 👍\n",
    "</div>"
   ]
  },
  {
   "cell_type": "markdown",
   "metadata": {},
   "source": [
    "# <font color='orange'>Общее впечатление</font>\n",
    "* Этот проект выполнен очень хорошо\n",
    "* Видно, что приложено много усилий\n",
    "* Молодец, что структурируешь ноутбук, приятно проверять такие работы\n",
    "* У тебя чистый и лаконичный код\n",
    "* Мне было интересно читать твои промежуточные выводы\n",
    "* Твой уровень подачи материала находится на высоком уровне\n",
    "* Исправь, пожалуйста, мои замечания. Затем отправляй на повторную проверку\n",
    "* Жду новую версию проекта 👋"
   ]
  },
  {
   "cell_type": "markdown",
   "metadata": {},
   "source": [
    "# <font color='orange'>2. Общее впечатление</font>\n",
    "* Спасибо за быстрое внесение правок\n",
    "* Теперь проект выглядит лучше )\n",
    "* Критических замечаний нет\n",
    "* Молодец, отличная работа!\n",
    "* Надеюсь, ревью было полезным\n",
    "* Удачи в дальнейшем обучении 👋"
   ]
  },
  {
   "cell_type": "markdown",
   "metadata": {},
   "source": [
    "# <font color='orange'>Рекомендации 🔥</font>\n",
    "* Доступное объяснение про работу градиентного бустинга https://www.youtube.com/watch?v=ZNJ3lKyI-EY&t=995s\n",
    "* После просмотра видео можешь почитать статью про ансамбли и бустинги https://habr.com/ru/company/ods/blog/645887/\n",
    "* Подбор гиперпараметров для CatBoost https://habr.com/ru/company/otus/blog/527554/\n",
    "* Подбор гиперпараметров для LightGBM https://programmersought.com/article/40776531516/\n",
    "* Разумные способы кодирования категориальных данных для машинного обучения https://machinelearningmastery.ru/smarter-ways-to-encode-categorical-data-for-machine-learning-part-1-of-3-6dca2f71b159/\n",
    "* Статья про \"непонятную\" метрику ROC-AUC https://dyakonov.org/2017/07/28/auc-roc-площадь-под-кривой-ошибок/\n",
    "* Хочешь подтянуть математику для DS?) https://academy.stepik.org/math-for-data-science\n",
    "* Результы обучения моделей можно визуализировать 😎 https://www.datatechnotes.com/2019/08/elasticnet-regression-example-in-python.html\n",
    "* В нашем деле нужно быть всегда в курсе всех новинок, новостей и тд, вот тут публикуют новости в области DS: https://www.infoq.com/data-analysis/news/\n",
    "* Всем аналитикам данных рекомендую книгу Даниела Канемана \"Думай медленно, решай быстро\""
   ]
  }
 ],
 "metadata": {
  "ExecuteTimeLog": [
   {
    "duration": 28429,
    "start_time": "2022-12-05T17:18:34.432Z"
   },
   {
    "duration": 1113,
    "start_time": "2022-12-05T17:19:09.829Z"
   },
   {
    "duration": 129,
    "start_time": "2022-12-05T17:19:31.913Z"
   },
   {
    "duration": 3,
    "start_time": "2022-12-05T17:19:48.456Z"
   },
   {
    "duration": 14,
    "start_time": "2022-12-05T17:19:54.320Z"
   },
   {
    "duration": 13,
    "start_time": "2022-12-05T17:20:04.232Z"
   },
   {
    "duration": 121,
    "start_time": "2022-12-05T17:20:19.333Z"
   },
   {
    "duration": 145,
    "start_time": "2022-12-05T17:20:32.037Z"
   },
   {
    "duration": 272,
    "start_time": "2022-12-05T17:20:54.183Z"
   },
   {
    "duration": 99,
    "start_time": "2022-12-05T17:21:04.349Z"
   },
   {
    "duration": 77,
    "start_time": "2022-12-05T17:21:34.658Z"
   },
   {
    "duration": 29,
    "start_time": "2022-12-05T17:23:26.654Z"
   },
   {
    "duration": 81,
    "start_time": "2022-12-05T17:23:34.590Z"
   },
   {
    "duration": 84,
    "start_time": "2022-12-05T17:24:00.690Z"
   },
   {
    "duration": 79,
    "start_time": "2022-12-05T17:24:40.111Z"
   },
   {
    "duration": 7478,
    "start_time": "2022-12-05T17:24:54.955Z"
   },
   {
    "duration": 51,
    "start_time": "2022-12-05T17:25:52.699Z"
   },
   {
    "duration": 5,
    "start_time": "2022-12-05T17:26:11.413Z"
   },
   {
    "duration": 51,
    "start_time": "2022-12-05T17:26:28.079Z"
   },
   {
    "duration": 3,
    "start_time": "2022-12-05T17:26:56.647Z"
   },
   {
    "duration": 5,
    "start_time": "2022-12-05T17:27:14.506Z"
   },
   {
    "duration": 33,
    "start_time": "2022-12-05T17:27:24.742Z"
   },
   {
    "duration": 15,
    "start_time": "2022-12-05T17:27:34.760Z"
   },
   {
    "duration": 85,
    "start_time": "2022-12-05T17:28:31.050Z"
   },
   {
    "duration": 26,
    "start_time": "2022-12-05T17:28:43.799Z"
   },
   {
    "duration": 27,
    "start_time": "2022-12-05T17:29:29.294Z"
   },
   {
    "duration": 50,
    "start_time": "2022-12-05T17:30:41.771Z"
   },
   {
    "duration": 50,
    "start_time": "2022-12-05T17:31:19.506Z"
   },
   {
    "duration": 29,
    "start_time": "2022-12-05T17:31:51.891Z"
   },
   {
    "duration": 12,
    "start_time": "2022-12-05T17:32:16.769Z"
   },
   {
    "duration": 28,
    "start_time": "2022-12-05T17:32:22.447Z"
   },
   {
    "duration": 13,
    "start_time": "2022-12-05T17:32:35.945Z"
   },
   {
    "duration": 58,
    "start_time": "2022-12-05T17:32:50.448Z"
   },
   {
    "duration": 144,
    "start_time": "2022-12-05T17:33:37.949Z"
   },
   {
    "duration": 1992,
    "start_time": "2022-12-05T17:49:28.893Z"
   },
   {
    "duration": 110,
    "start_time": "2022-12-05T17:50:43.986Z"
   },
   {
    "duration": 288,
    "start_time": "2022-12-05T17:51:10.878Z"
   },
   {
    "duration": 109,
    "start_time": "2022-12-05T17:51:22.427Z"
   },
   {
    "duration": 112,
    "start_time": "2022-12-05T17:51:25.828Z"
   },
   {
    "duration": 75,
    "start_time": "2022-12-05T17:51:44.136Z"
   },
   {
    "duration": 107,
    "start_time": "2022-12-05T17:51:51.571Z"
   },
   {
    "duration": 101,
    "start_time": "2022-12-05T17:52:28.315Z"
   },
   {
    "duration": 21,
    "start_time": "2022-12-05T17:53:43.337Z"
   },
   {
    "duration": 16,
    "start_time": "2022-12-05T17:53:55.164Z"
   },
   {
    "duration": 1551,
    "start_time": "2022-12-05T17:54:01.291Z"
   },
   {
    "duration": 1669,
    "start_time": "2022-12-05T17:54:09.994Z"
   },
   {
    "duration": 7,
    "start_time": "2022-12-05T17:57:02.742Z"
   },
   {
    "duration": 55,
    "start_time": "2022-12-05T17:57:06.873Z"
   },
   {
    "duration": 1594,
    "start_time": "2022-12-05T17:57:12.534Z"
   },
   {
    "duration": 85,
    "start_time": "2022-12-05T18:00:44.813Z"
   },
   {
    "duration": 131,
    "start_time": "2022-12-05T18:01:42.650Z"
   },
   {
    "duration": 111,
    "start_time": "2022-12-05T18:03:36.027Z"
   },
   {
    "duration": 711,
    "start_time": "2022-12-05T18:06:34.843Z"
   },
   {
    "duration": 14,
    "start_time": "2022-12-05T18:06:35.556Z"
   },
   {
    "duration": 4,
    "start_time": "2022-12-05T18:06:35.689Z"
   },
   {
    "duration": 14,
    "start_time": "2022-12-05T18:06:35.903Z"
   },
   {
    "duration": 17,
    "start_time": "2022-12-05T18:06:36.111Z"
   },
   {
    "duration": 115,
    "start_time": "2022-12-05T18:06:36.294Z"
   },
   {
    "duration": 123,
    "start_time": "2022-12-05T18:06:36.481Z"
   },
   {
    "duration": 217,
    "start_time": "2022-12-05T18:06:36.669Z"
   },
   {
    "duration": 93,
    "start_time": "2022-12-05T18:06:36.888Z"
   },
   {
    "duration": 82,
    "start_time": "2022-12-05T18:06:37.043Z"
   },
   {
    "duration": 21,
    "start_time": "2022-12-05T18:06:37.431Z"
   },
   {
    "duration": 74,
    "start_time": "2022-12-05T18:06:37.631Z"
   },
   {
    "duration": 89,
    "start_time": "2022-12-05T18:06:37.845Z"
   },
   {
    "duration": 7016,
    "start_time": "2022-12-05T18:06:38.039Z"
   },
   {
    "duration": 46,
    "start_time": "2022-12-05T18:06:45.057Z"
   },
   {
    "duration": 4,
    "start_time": "2022-12-05T18:06:45.105Z"
   },
   {
    "duration": 37,
    "start_time": "2022-12-05T18:06:45.111Z"
   },
   {
    "duration": 154,
    "start_time": "2022-12-05T18:06:45.150Z"
   },
   {
    "duration": 14,
    "start_time": "2022-12-05T18:06:45.306Z"
   },
   {
    "duration": 27,
    "start_time": "2022-12-05T18:06:45.322Z"
   },
   {
    "duration": 49,
    "start_time": "2022-12-05T18:06:45.352Z"
   },
   {
    "duration": 1409,
    "start_time": "2022-12-05T18:06:48.006Z"
   },
   {
    "duration": 30,
    "start_time": "2022-12-05T18:06:51.136Z"
   },
   {
    "duration": 97,
    "start_time": "2022-12-05T18:06:59.201Z"
   },
   {
    "duration": 6,
    "start_time": "2022-12-05T18:12:26.439Z"
   },
   {
    "duration": 93,
    "start_time": "2022-12-05T18:12:34.529Z"
   },
   {
    "duration": 1500,
    "start_time": "2022-12-05T18:12:59.781Z"
   },
   {
    "duration": 92,
    "start_time": "2022-12-05T18:29:05.516Z"
   },
   {
    "duration": 86,
    "start_time": "2022-12-05T18:29:12.438Z"
   },
   {
    "duration": 90,
    "start_time": "2022-12-05T18:29:14.826Z"
   },
   {
    "duration": 747,
    "start_time": "2022-12-05T18:29:21.267Z"
   },
   {
    "duration": 13,
    "start_time": "2022-12-05T18:29:22.017Z"
   },
   {
    "duration": 5,
    "start_time": "2022-12-05T18:29:22.032Z"
   },
   {
    "duration": 14,
    "start_time": "2022-12-05T18:29:22.040Z"
   },
   {
    "duration": 14,
    "start_time": "2022-12-05T18:29:22.056Z"
   },
   {
    "duration": 106,
    "start_time": "2022-12-05T18:29:22.201Z"
   },
   {
    "duration": 108,
    "start_time": "2022-12-05T18:29:22.363Z"
   },
   {
    "duration": 206,
    "start_time": "2022-12-05T18:29:22.535Z"
   },
   {
    "duration": 102,
    "start_time": "2022-12-05T18:29:22.743Z"
   },
   {
    "duration": 80,
    "start_time": "2022-12-05T18:29:22.919Z"
   },
   {
    "duration": 23,
    "start_time": "2022-12-05T18:29:23.249Z"
   },
   {
    "duration": 76,
    "start_time": "2022-12-05T18:29:23.449Z"
   },
   {
    "duration": 82,
    "start_time": "2022-12-05T18:29:23.635Z"
   },
   {
    "duration": 7616,
    "start_time": "2022-12-05T18:29:23.820Z"
   },
   {
    "duration": 47,
    "start_time": "2022-12-05T18:29:31.438Z"
   },
   {
    "duration": 11,
    "start_time": "2022-12-05T18:29:31.487Z"
   },
   {
    "duration": 68,
    "start_time": "2022-12-05T18:29:31.500Z"
   },
   {
    "duration": 136,
    "start_time": "2022-12-05T18:29:31.569Z"
   },
   {
    "duration": 15,
    "start_time": "2022-12-05T18:29:31.706Z"
   },
   {
    "duration": 39,
    "start_time": "2022-12-05T18:29:31.722Z"
   },
   {
    "duration": 34,
    "start_time": "2022-12-05T18:29:31.762Z"
   },
   {
    "duration": 1594,
    "start_time": "2022-12-05T18:29:31.798Z"
   },
   {
    "duration": 32,
    "start_time": "2022-12-05T18:29:33.397Z"
   },
   {
    "duration": 1917,
    "start_time": "2022-12-05T18:29:33.430Z"
   },
   {
    "duration": 1564,
    "start_time": "2022-12-05T18:30:06.178Z"
   },
   {
    "duration": 1393,
    "start_time": "2022-12-05T18:30:16.804Z"
   },
   {
    "duration": 94,
    "start_time": "2022-12-05T18:30:23.108Z"
   },
   {
    "duration": 97,
    "start_time": "2022-12-05T18:30:31.330Z"
   },
   {
    "duration": 93,
    "start_time": "2022-12-05T18:30:33.453Z"
   },
   {
    "duration": 93,
    "start_time": "2022-12-05T18:30:42.851Z"
   },
   {
    "duration": 168,
    "start_time": "2022-12-05T18:32:04.766Z"
   },
   {
    "duration": 92,
    "start_time": "2022-12-05T18:32:07.414Z"
   },
   {
    "duration": 1784,
    "start_time": "2022-12-05T18:32:17.140Z"
   },
   {
    "duration": 45,
    "start_time": "2022-12-05T18:33:18.105Z"
   },
   {
    "duration": 51,
    "start_time": "2022-12-05T18:34:29.918Z"
   },
   {
    "duration": 18,
    "start_time": "2022-12-05T18:36:54.917Z"
   },
   {
    "duration": 418,
    "start_time": "2022-12-05T18:38:09.149Z"
   },
   {
    "duration": 418,
    "start_time": "2022-12-05T18:40:11.995Z"
   },
   {
    "duration": 415,
    "start_time": "2022-12-05T18:40:21.843Z"
   },
   {
    "duration": 438,
    "start_time": "2022-12-05T18:40:34.455Z"
   },
   {
    "duration": 474,
    "start_time": "2022-12-05T18:41:26.344Z"
   },
   {
    "duration": 406,
    "start_time": "2022-12-05T18:41:30.876Z"
   },
   {
    "duration": 43,
    "start_time": "2022-12-05T18:42:15.673Z"
   },
   {
    "duration": 23,
    "start_time": "2022-12-05T18:42:33.911Z"
   },
   {
    "duration": 21,
    "start_time": "2022-12-05T18:43:02.462Z"
   },
   {
    "duration": 60,
    "start_time": "2022-12-05T18:46:09.119Z"
   },
   {
    "duration": 5,
    "start_time": "2022-12-05T18:46:21.400Z"
   },
   {
    "duration": 1755,
    "start_time": "2022-12-05T18:49:05.615Z"
   },
   {
    "duration": 1577,
    "start_time": "2022-12-05T18:49:49.636Z"
   },
   {
    "duration": 1550,
    "start_time": "2022-12-05T18:49:59.052Z"
   },
   {
    "duration": 1595,
    "start_time": "2022-12-05T18:50:12.337Z"
   },
   {
    "duration": 1735,
    "start_time": "2022-12-05T18:50:27.590Z"
   },
   {
    "duration": 86,
    "start_time": "2022-12-05T18:59:29.739Z"
   },
   {
    "duration": 113,
    "start_time": "2022-12-05T18:59:42.824Z"
   },
   {
    "duration": 33307,
    "start_time": "2022-12-05T19:00:44.836Z"
   },
   {
    "duration": 106,
    "start_time": "2022-12-05T19:01:18.146Z"
   },
   {
    "duration": 21,
    "start_time": "2022-12-05T19:02:49.594Z"
   },
   {
    "duration": 17,
    "start_time": "2022-12-05T19:02:57.556Z"
   },
   {
    "duration": 112,
    "start_time": "2022-12-05T19:04:19.844Z"
   },
   {
    "duration": 59,
    "start_time": "2022-12-05T19:05:43.201Z"
   },
   {
    "duration": 78,
    "start_time": "2022-12-05T19:05:55.314Z"
   },
   {
    "duration": 29,
    "start_time": "2022-12-05T19:08:08.547Z"
   },
   {
    "duration": 32,
    "start_time": "2022-12-05T19:08:26.989Z"
   },
   {
    "duration": 14,
    "start_time": "2022-12-05T19:08:30.949Z"
   },
   {
    "duration": 60,
    "start_time": "2022-12-05T19:09:41.973Z"
   },
   {
    "duration": 203,
    "start_time": "2022-12-05T19:10:38.056Z"
   },
   {
    "duration": 55,
    "start_time": "2022-12-05T19:10:56.486Z"
   },
   {
    "duration": 13,
    "start_time": "2022-12-05T19:11:12.878Z"
   },
   {
    "duration": 122,
    "start_time": "2022-12-05T19:11:58.616Z"
   },
   {
    "duration": 32,
    "start_time": "2022-12-05T19:12:54.650Z"
   },
   {
    "duration": 54358,
    "start_time": "2022-12-06T05:50:05.467Z"
   },
   {
    "duration": 1163,
    "start_time": "2022-12-06T05:50:59.828Z"
   },
   {
    "duration": 19,
    "start_time": "2022-12-06T05:51:00.993Z"
   },
   {
    "duration": 7,
    "start_time": "2022-12-06T05:51:01.015Z"
   },
   {
    "duration": 69,
    "start_time": "2022-12-06T05:51:01.024Z"
   },
   {
    "duration": 25,
    "start_time": "2022-12-06T05:51:01.095Z"
   },
   {
    "duration": 202,
    "start_time": "2022-12-06T05:51:01.123Z"
   },
   {
    "duration": 153,
    "start_time": "2022-12-06T05:51:01.327Z"
   },
   {
    "duration": 498,
    "start_time": "2022-12-06T05:51:01.482Z"
   },
   {
    "duration": 494,
    "start_time": "2022-12-06T05:51:25.939Z"
   },
   {
    "duration": 526,
    "start_time": "2022-12-06T05:51:33.867Z"
   },
   {
    "duration": 15,
    "start_time": "2022-12-06T05:58:25.370Z"
   },
   {
    "duration": 104,
    "start_time": "2022-12-06T05:59:05.602Z"
   },
   {
    "duration": 36,
    "start_time": "2022-12-06T06:08:30.506Z"
   },
   {
    "duration": 51,
    "start_time": "2022-12-06T06:08:36.890Z"
   },
   {
    "duration": 12,
    "start_time": "2022-12-06T06:10:39.788Z"
   },
   {
    "duration": 890,
    "start_time": "2022-12-06T06:14:37.199Z"
   },
   {
    "duration": 30,
    "start_time": "2022-12-06T06:14:46.678Z"
   },
   {
    "duration": 143,
    "start_time": "2022-12-06T06:14:58.748Z"
   },
   {
    "duration": 760,
    "start_time": "2022-12-06T06:23:30.949Z"
   },
   {
    "duration": 759,
    "start_time": "2022-12-06T06:23:45.530Z"
   },
   {
    "duration": 32,
    "start_time": "2022-12-06T06:24:03.828Z"
   },
   {
    "duration": 412,
    "start_time": "2022-12-06T06:24:44.827Z"
   },
   {
    "duration": 58,
    "start_time": "2022-12-06T06:25:32.610Z"
   },
   {
    "duration": 36,
    "start_time": "2022-12-06T08:35:59.552Z"
   },
   {
    "duration": 1496,
    "start_time": "2022-12-06T08:39:12.110Z"
   },
   {
    "duration": 29,
    "start_time": "2022-12-06T08:39:26.625Z"
   },
   {
    "duration": 282,
    "start_time": "2022-12-06T08:39:41.178Z"
   },
   {
    "duration": 26,
    "start_time": "2022-12-06T08:39:43.915Z"
   },
   {
    "duration": 815,
    "start_time": "2022-12-06T08:39:48.969Z"
   },
   {
    "duration": 26,
    "start_time": "2022-12-06T08:39:57.723Z"
   },
   {
    "duration": 27,
    "start_time": "2022-12-06T08:40:41.017Z"
   },
   {
    "duration": 5017,
    "start_time": "2022-12-06T08:41:00.670Z"
   },
   {
    "duration": 10,
    "start_time": "2022-12-06T08:41:16.940Z"
   },
   {
    "duration": 22,
    "start_time": "2022-12-06T08:41:34.746Z"
   },
   {
    "duration": 10,
    "start_time": "2022-12-06T08:41:45.706Z"
   },
   {
    "duration": 22,
    "start_time": "2022-12-06T08:45:37.386Z"
   },
   {
    "duration": 21,
    "start_time": "2022-12-06T08:47:31.718Z"
   },
   {
    "duration": 29,
    "start_time": "2022-12-06T08:47:43.565Z"
   },
   {
    "duration": 89,
    "start_time": "2022-12-06T08:47:45.102Z"
   },
   {
    "duration": 12,
    "start_time": "2022-12-06T08:47:53.429Z"
   },
   {
    "duration": 15,
    "start_time": "2022-12-06T08:49:42.942Z"
   },
   {
    "duration": 16,
    "start_time": "2022-12-06T08:49:51.826Z"
   },
   {
    "duration": 21,
    "start_time": "2022-12-06T08:50:00.516Z"
   },
   {
    "duration": 14,
    "start_time": "2022-12-06T08:50:23.719Z"
   },
   {
    "duration": 40,
    "start_time": "2022-12-06T08:50:31.011Z"
   },
   {
    "duration": 20,
    "start_time": "2022-12-06T08:52:49.928Z"
   },
   {
    "duration": 15,
    "start_time": "2022-12-06T08:53:04.736Z"
   },
   {
    "duration": 89,
    "start_time": "2022-12-06T08:54:15.824Z"
   },
   {
    "duration": 85,
    "start_time": "2022-12-06T08:54:53.380Z"
   },
   {
    "duration": 24,
    "start_time": "2022-12-06T08:55:56.841Z"
   },
   {
    "duration": 6690,
    "start_time": "2022-12-06T08:56:19.527Z"
   },
   {
    "duration": 6923,
    "start_time": "2022-12-06T09:03:15.118Z"
   },
   {
    "duration": 12943,
    "start_time": "2022-12-06T09:03:35.619Z"
   },
   {
    "duration": 839,
    "start_time": "2022-12-06T09:03:48.565Z"
   },
   {
    "duration": 19,
    "start_time": "2022-12-06T09:03:49.406Z"
   },
   {
    "duration": 15,
    "start_time": "2022-12-06T09:03:49.428Z"
   },
   {
    "duration": 23,
    "start_time": "2022-12-06T09:03:49.445Z"
   },
   {
    "duration": 17,
    "start_time": "2022-12-06T09:03:49.470Z"
   },
   {
    "duration": 129,
    "start_time": "2022-12-06T09:03:49.489Z"
   },
   {
    "duration": 122,
    "start_time": "2022-12-06T09:03:49.620Z"
   },
   {
    "duration": 461,
    "start_time": "2022-12-06T09:03:49.744Z"
   },
   {
    "duration": 478,
    "start_time": "2022-12-06T09:03:50.208Z"
   },
   {
    "duration": 252,
    "start_time": "2022-12-06T09:03:50.688Z"
   },
   {
    "duration": 26,
    "start_time": "2022-12-06T09:03:50.942Z"
   },
   {
    "duration": 10,
    "start_time": "2022-12-06T09:03:50.971Z"
   },
   {
    "duration": 48,
    "start_time": "2022-12-06T09:03:50.983Z"
   },
   {
    "duration": 12,
    "start_time": "2022-12-06T09:03:51.033Z"
   },
   {
    "duration": 28,
    "start_time": "2022-12-06T09:03:51.046Z"
   },
   {
    "duration": 105,
    "start_time": "2022-12-06T09:03:51.075Z"
   },
   {
    "duration": 23,
    "start_time": "2022-12-06T09:03:51.182Z"
   },
   {
    "duration": 6517,
    "start_time": "2022-12-06T09:08:35.315Z"
   },
   {
    "duration": 52,
    "start_time": "2022-12-06T10:13:42.951Z"
   },
   {
    "duration": 95,
    "start_time": "2022-12-06T10:14:14.200Z"
   },
   {
    "duration": 64,
    "start_time": "2022-12-06T10:14:16.185Z"
   },
   {
    "duration": 58,
    "start_time": "2022-12-06T10:14:49.334Z"
   },
   {
    "duration": 74,
    "start_time": "2022-12-06T10:18:13.875Z"
   },
   {
    "duration": 672,
    "start_time": "2022-12-06T10:18:17.587Z"
   },
   {
    "duration": 24,
    "start_time": "2022-12-06T10:20:15.594Z"
   },
   {
    "duration": 21,
    "start_time": "2022-12-06T10:20:16.285Z"
   },
   {
    "duration": 37,
    "start_time": "2022-12-06T10:21:21.280Z"
   },
   {
    "duration": 1679,
    "start_time": "2022-12-06T10:21:21.673Z"
   },
   {
    "duration": 1878,
    "start_time": "2022-12-06T10:21:23.355Z"
   },
   {
    "duration": 54,
    "start_time": "2022-12-06T10:21:25.336Z"
   },
   {
    "duration": 1587,
    "start_time": "2022-12-06T10:22:13.815Z"
   },
   {
    "duration": 23,
    "start_time": "2022-12-06T10:22:59.958Z"
   },
   {
    "duration": 40,
    "start_time": "2022-12-06T10:24:56.283Z"
   },
   {
    "duration": 1642,
    "start_time": "2022-12-06T10:24:59.373Z"
   },
   {
    "duration": 51,
    "start_time": "2022-12-06T10:25:09.155Z"
   },
   {
    "duration": 54,
    "start_time": "2022-12-06T10:26:39.742Z"
   },
   {
    "duration": 109,
    "start_time": "2022-12-06T10:27:00.638Z"
   },
   {
    "duration": 173,
    "start_time": "2022-12-06T10:27:45.750Z"
   },
   {
    "duration": 184,
    "start_time": "2022-12-06T10:31:15.255Z"
   },
   {
    "duration": 177,
    "start_time": "2022-12-06T10:31:19.230Z"
   },
   {
    "duration": 19,
    "start_time": "2022-12-06T12:38:51.130Z"
   },
   {
    "duration": 73714,
    "start_time": "2022-12-06T17:06:01.272Z"
   },
   {
    "duration": 3007,
    "start_time": "2022-12-06T17:07:14.989Z"
   },
   {
    "duration": 20,
    "start_time": "2022-12-06T17:07:17.999Z"
   },
   {
    "duration": 4,
    "start_time": "2022-12-06T17:07:18.021Z"
   },
   {
    "duration": 24,
    "start_time": "2022-12-06T17:07:18.027Z"
   },
   {
    "duration": 16,
    "start_time": "2022-12-06T17:07:18.052Z"
   },
   {
    "duration": 175,
    "start_time": "2022-12-06T17:07:18.070Z"
   },
   {
    "duration": 167,
    "start_time": "2022-12-06T17:07:18.247Z"
   },
   {
    "duration": 564,
    "start_time": "2022-12-06T17:07:18.416Z"
   },
   {
    "duration": 656,
    "start_time": "2022-12-06T17:07:18.982Z"
   },
   {
    "duration": 318,
    "start_time": "2022-12-06T17:07:19.640Z"
   },
   {
    "duration": 25,
    "start_time": "2022-12-06T17:07:19.961Z"
   },
   {
    "duration": 10,
    "start_time": "2022-12-06T17:07:19.988Z"
   },
   {
    "duration": 57,
    "start_time": "2022-12-06T17:07:20.001Z"
   },
   {
    "duration": 16,
    "start_time": "2022-12-06T17:07:20.060Z"
   },
   {
    "duration": 20,
    "start_time": "2022-12-06T17:07:20.079Z"
   },
   {
    "duration": 115,
    "start_time": "2022-12-06T17:07:20.101Z"
   },
   {
    "duration": 30,
    "start_time": "2022-12-06T17:07:20.218Z"
   },
   {
    "duration": 6818,
    "start_time": "2022-12-06T17:07:20.250Z"
   },
   {
    "duration": 124,
    "start_time": "2022-12-06T17:07:27.070Z"
   },
   {
    "duration": 87,
    "start_time": "2022-12-06T17:07:27.196Z"
   },
   {
    "duration": 530,
    "start_time": "2022-12-06T17:07:27.285Z"
   },
   {
    "duration": 2128,
    "start_time": "2022-12-06T17:07:27.818Z"
   },
   {
    "duration": 25,
    "start_time": "2022-12-06T17:07:29.948Z"
   },
   {
    "duration": 82,
    "start_time": "2022-12-06T17:07:29.975Z"
   },
   {
    "duration": 90,
    "start_time": "2022-12-06T17:07:30.059Z"
   },
   {
    "duration": 1855,
    "start_time": "2022-12-06T17:07:30.150Z"
   },
   {
    "duration": 346,
    "start_time": "2022-12-06T17:07:32.006Z"
   },
   {
    "duration": 309,
    "start_time": "2022-12-06T17:17:02.287Z"
   },
   {
    "duration": 14843,
    "start_time": "2022-12-06T17:18:10.968Z"
   },
   {
    "duration": 1193524,
    "start_time": "2022-12-06T17:18:25.959Z"
   },
   {
    "duration": 784,
    "start_time": "2022-12-06T17:38:19.485Z"
   },
   {
    "duration": 2503,
    "start_time": "2022-12-06T17:38:20.272Z"
   },
   {
    "duration": 23,
    "start_time": "2022-12-06T17:38:22.779Z"
   },
   {
    "duration": 18,
    "start_time": "2022-12-06T17:38:22.839Z"
   },
   {
    "duration": 81,
    "start_time": "2022-12-06T17:38:22.859Z"
   },
   {
    "duration": 220,
    "start_time": "2022-12-06T17:48:37.987Z"
   },
   {
    "duration": 56,
    "start_time": "2022-12-06T17:49:30.797Z"
   },
   {
    "duration": 271,
    "start_time": "2022-12-06T17:50:03.879Z"
   },
   {
    "duration": 124,
    "start_time": "2022-12-06T17:51:53.073Z"
   },
   {
    "duration": 4,
    "start_time": "2022-12-06T17:54:21.502Z"
   },
   {
    "duration": 7,
    "start_time": "2022-12-06T17:54:27.300Z"
   },
   {
    "duration": 2871,
    "start_time": "2022-12-06T17:54:43.699Z"
   },
   {
    "duration": 18,
    "start_time": "2022-12-06T17:54:46.573Z"
   },
   {
    "duration": 7,
    "start_time": "2022-12-06T17:54:46.593Z"
   },
   {
    "duration": 15,
    "start_time": "2022-12-06T17:54:46.603Z"
   },
   {
    "duration": 27,
    "start_time": "2022-12-06T17:54:46.620Z"
   },
   {
    "duration": 159,
    "start_time": "2022-12-06T17:54:46.650Z"
   },
   {
    "duration": 165,
    "start_time": "2022-12-06T17:54:46.811Z"
   },
   {
    "duration": 484,
    "start_time": "2022-12-06T17:54:46.977Z"
   },
   {
    "duration": 499,
    "start_time": "2022-12-06T17:54:47.463Z"
   },
   {
    "duration": 312,
    "start_time": "2022-12-06T17:54:47.964Z"
   },
   {
    "duration": 24,
    "start_time": "2022-12-06T17:54:48.278Z"
   },
   {
    "duration": 10,
    "start_time": "2022-12-06T17:54:48.305Z"
   },
   {
    "duration": 23,
    "start_time": "2022-12-06T17:54:48.338Z"
   },
   {
    "duration": 14,
    "start_time": "2022-12-06T17:54:48.362Z"
   },
   {
    "duration": 12,
    "start_time": "2022-12-06T17:54:48.378Z"
   },
   {
    "duration": 120,
    "start_time": "2022-12-06T17:54:48.392Z"
   },
   {
    "duration": 27,
    "start_time": "2022-12-06T17:54:50.189Z"
   },
   {
    "duration": 7257,
    "start_time": "2022-12-06T17:54:52.707Z"
   },
   {
    "duration": 111,
    "start_time": "2022-12-06T17:54:59.966Z"
   },
   {
    "duration": 78,
    "start_time": "2022-12-06T17:55:00.079Z"
   },
   {
    "duration": 187,
    "start_time": "2022-12-06T17:55:00.160Z"
   },
   {
    "duration": 590,
    "start_time": "2022-12-06T17:55:00.354Z"
   },
   {
    "duration": 21,
    "start_time": "2022-12-06T17:55:01.210Z"
   },
   {
    "duration": 20,
    "start_time": "2022-12-06T17:55:04.366Z"
   },
   {
    "duration": 40,
    "start_time": "2022-12-06T17:55:20.418Z"
   },
   {
    "duration": 1857,
    "start_time": "2022-12-06T17:55:20.462Z"
   },
   {
    "duration": 1822,
    "start_time": "2022-12-06T17:55:22.321Z"
   },
   {
    "duration": 347,
    "start_time": "2022-12-06T17:55:24.147Z"
   },
   {
    "duration": 8,
    "start_time": "2022-12-06T17:55:31.307Z"
   },
   {
    "duration": 1248,
    "start_time": "2022-12-06T17:56:02.637Z"
   },
   {
    "duration": 11,
    "start_time": "2022-12-06T17:56:21.470Z"
   },
   {
    "duration": 95,
    "start_time": "2022-12-06T17:58:10.487Z"
   },
   {
    "duration": 1259,
    "start_time": "2022-12-06T17:59:02.305Z"
   },
   {
    "duration": 13,
    "start_time": "2022-12-06T17:59:16.595Z"
   },
   {
    "duration": 7,
    "start_time": "2022-12-06T18:07:27.897Z"
   },
   {
    "duration": 8,
    "start_time": "2022-12-06T18:14:12.258Z"
   },
   {
    "duration": 17,
    "start_time": "2022-12-06T18:14:17.596Z"
   },
   {
    "duration": 11,
    "start_time": "2022-12-06T18:14:35.811Z"
   },
   {
    "duration": 17,
    "start_time": "2022-12-06T18:14:54.813Z"
   },
   {
    "duration": 10,
    "start_time": "2022-12-06T18:19:05.531Z"
   },
   {
    "duration": 93,
    "start_time": "2022-12-06T18:22:11.245Z"
   },
   {
    "duration": 1310,
    "start_time": "2022-12-06T18:22:25.998Z"
   },
   {
    "duration": 333,
    "start_time": "2022-12-06T18:26:29.232Z"
   },
   {
    "duration": 1198,
    "start_time": "2022-12-06T18:27:12.590Z"
   },
   {
    "duration": 1164,
    "start_time": "2022-12-06T18:27:27.841Z"
   },
   {
    "duration": 1141,
    "start_time": "2022-12-06T18:27:50.159Z"
   },
   {
    "duration": 1349,
    "start_time": "2022-12-06T18:37:48.903Z"
   },
   {
    "duration": 70,
    "start_time": "2022-12-06T18:37:57.256Z"
   },
   {
    "duration": 13,
    "start_time": "2022-12-06T18:40:01.751Z"
   },
   {
    "duration": 22,
    "start_time": "2022-12-06T18:57:36.753Z"
   },
   {
    "duration": 18,
    "start_time": "2022-12-06T18:57:39.403Z"
   },
   {
    "duration": 1723,
    "start_time": "2022-12-06T18:58:03.529Z"
   },
   {
    "duration": 1789,
    "start_time": "2022-12-06T18:58:53.408Z"
   },
   {
    "duration": 1550,
    "start_time": "2022-12-06T19:01:42.555Z"
   },
   {
    "duration": 490,
    "start_time": "2022-12-06T19:04:24.175Z"
   },
   {
    "duration": 466,
    "start_time": "2022-12-06T19:04:34.472Z"
   },
   {
    "duration": 484,
    "start_time": "2022-12-06T19:04:42.657Z"
   },
   {
    "duration": 487,
    "start_time": "2022-12-06T19:04:49.679Z"
   },
   {
    "duration": 1984,
    "start_time": "2022-12-06T19:05:27.328Z"
   },
   {
    "duration": 1497,
    "start_time": "2022-12-06T19:05:44.615Z"
   },
   {
    "duration": 435,
    "start_time": "2022-12-06T19:16:01.706Z"
   },
   {
    "duration": 36,
    "start_time": "2022-12-06T19:17:46.070Z"
   },
   {
    "duration": 26,
    "start_time": "2022-12-06T19:18:03.092Z"
   },
   {
    "duration": 68,
    "start_time": "2022-12-06T19:20:17.844Z"
   },
   {
    "duration": 1735,
    "start_time": "2022-12-06T19:20:18.441Z"
   },
   {
    "duration": 197,
    "start_time": "2022-12-06T19:20:20.178Z"
   },
   {
    "duration": 79,
    "start_time": "2022-12-06T19:20:25.968Z"
   },
   {
    "duration": 21,
    "start_time": "2022-12-06T19:21:17.862Z"
   },
   {
    "duration": 20,
    "start_time": "2022-12-06T19:24:46.124Z"
   },
   {
    "duration": 61,
    "start_time": "2022-12-06T19:27:47.471Z"
   },
   {
    "duration": 1865,
    "start_time": "2022-12-06T19:27:48.386Z"
   },
   {
    "duration": 76,
    "start_time": "2022-12-06T19:28:07.865Z"
   },
   {
    "duration": 1541,
    "start_time": "2022-12-06T19:28:08.566Z"
   },
   {
    "duration": 98,
    "start_time": "2022-12-06T19:29:01.846Z"
   },
   {
    "duration": 12,
    "start_time": "2022-12-06T19:29:10.705Z"
   },
   {
    "duration": 152,
    "start_time": "2022-12-06T19:29:32.527Z"
   },
   {
    "duration": 81898,
    "start_time": "2022-12-07T05:08:33.343Z"
   },
   {
    "duration": 3037,
    "start_time": "2022-12-07T05:09:55.243Z"
   },
   {
    "duration": 20,
    "start_time": "2022-12-07T05:09:58.282Z"
   },
   {
    "duration": 276,
    "start_time": "2022-12-07T05:09:58.303Z"
   },
   {
    "duration": 420,
    "start_time": "2022-12-07T05:09:58.581Z"
   },
   {
    "duration": 405,
    "start_time": "2022-12-07T05:09:59.003Z"
   },
   {
    "duration": 113,
    "start_time": "2022-12-07T05:09:59.410Z"
   },
   {
    "duration": 133,
    "start_time": "2022-12-07T05:09:59.524Z"
   },
   {
    "duration": 446,
    "start_time": "2022-12-07T05:09:59.659Z"
   },
   {
    "duration": 468,
    "start_time": "2022-12-07T05:10:00.107Z"
   },
   {
    "duration": 259,
    "start_time": "2022-12-07T05:10:00.578Z"
   },
   {
    "duration": 24,
    "start_time": "2022-12-07T05:10:00.839Z"
   },
   {
    "duration": 21,
    "start_time": "2022-12-07T05:10:00.864Z"
   },
   {
    "duration": 42,
    "start_time": "2022-12-07T05:10:00.887Z"
   },
   {
    "duration": 24,
    "start_time": "2022-12-07T05:10:00.931Z"
   },
   {
    "duration": 24,
    "start_time": "2022-12-07T05:10:00.956Z"
   },
   {
    "duration": 82,
    "start_time": "2022-12-07T05:10:00.982Z"
   },
   {
    "duration": 25,
    "start_time": "2022-12-07T05:10:01.066Z"
   },
   {
    "duration": 5386,
    "start_time": "2022-12-07T05:10:01.093Z"
   },
   {
    "duration": 76,
    "start_time": "2022-12-07T05:10:06.481Z"
   },
   {
    "duration": 66,
    "start_time": "2022-12-07T05:10:06.558Z"
   },
   {
    "duration": 427,
    "start_time": "2022-12-07T05:10:06.625Z"
   },
   {
    "duration": 463,
    "start_time": "2022-12-07T05:10:19.244Z"
   },
   {
    "duration": 24,
    "start_time": "2022-12-07T05:10:19.835Z"
   },
   {
    "duration": 23,
    "start_time": "2022-12-07T05:10:20.464Z"
   },
   {
    "duration": 38,
    "start_time": "2022-12-07T05:10:33.571Z"
   },
   {
    "duration": 1641,
    "start_time": "2022-12-07T05:10:33.611Z"
   },
   {
    "duration": 1462,
    "start_time": "2022-12-07T05:10:35.254Z"
   },
   {
    "duration": 264,
    "start_time": "2022-12-07T05:10:36.718Z"
   },
   {
    "duration": 26,
    "start_time": "2022-12-07T05:10:55.429Z"
   },
   {
    "duration": 17,
    "start_time": "2022-12-07T05:10:56.181Z"
   },
   {
    "duration": 1457,
    "start_time": "2022-12-07T05:11:01.661Z"
   },
   {
    "duration": 18,
    "start_time": "2022-12-07T05:11:17.859Z"
   },
   {
    "duration": 1645,
    "start_time": "2022-12-07T05:11:18.454Z"
   },
   {
    "duration": 560,
    "start_time": "2022-12-07T05:11:20.101Z"
   },
   {
    "duration": 1403,
    "start_time": "2022-12-07T05:11:46.179Z"
   },
   {
    "duration": 501,
    "start_time": "2022-12-07T05:11:47.583Z"
   },
   {
    "duration": 32,
    "start_time": "2022-12-07T05:11:48.086Z"
   },
   {
    "duration": 18,
    "start_time": "2022-12-07T05:11:49.151Z"
   },
   {
    "duration": 17,
    "start_time": "2022-12-07T05:11:49.231Z"
   },
   {
    "duration": 64,
    "start_time": "2022-12-07T05:12:33.134Z"
   },
   {
    "duration": 1408,
    "start_time": "2022-12-07T05:12:33.727Z"
   },
   {
    "duration": 148,
    "start_time": "2022-12-07T05:12:35.137Z"
   },
   {
    "duration": 11,
    "start_time": "2022-12-07T05:12:44.684Z"
   },
   {
    "duration": 67,
    "start_time": "2022-12-07T05:13:24.173Z"
   },
   {
    "duration": 11,
    "start_time": "2022-12-07T05:13:24.684Z"
   },
   {
    "duration": 216,
    "start_time": "2022-12-07T05:13:30.932Z"
   },
   {
    "duration": 84,
    "start_time": "2022-12-07T05:13:31.362Z"
   },
   {
    "duration": 11,
    "start_time": "2022-12-07T05:14:08.206Z"
   },
   {
    "duration": 23,
    "start_time": "2022-12-07T05:14:34.020Z"
   },
   {
    "duration": 69,
    "start_time": "2022-12-07T05:15:11.828Z"
   },
   {
    "duration": 18,
    "start_time": "2022-12-07T05:15:17.469Z"
   },
   {
    "duration": 17,
    "start_time": "2022-12-07T05:15:44.380Z"
   },
   {
    "duration": 18,
    "start_time": "2022-12-07T05:15:47.532Z"
   },
   {
    "duration": 18,
    "start_time": "2022-12-07T05:17:27.678Z"
   },
   {
    "duration": 37,
    "start_time": "2022-12-07T05:25:52.049Z"
   },
   {
    "duration": 20,
    "start_time": "2022-12-07T05:25:55.112Z"
   },
   {
    "duration": 17,
    "start_time": "2022-12-07T05:27:15.979Z"
   },
   {
    "duration": 1950,
    "start_time": "2022-12-07T05:28:32.279Z"
   },
   {
    "duration": 2034,
    "start_time": "2022-12-07T05:28:48.084Z"
   },
   {
    "duration": 2012,
    "start_time": "2022-12-07T05:29:43.937Z"
   },
   {
    "duration": 1887,
    "start_time": "2022-12-07T05:30:04.609Z"
   },
   {
    "duration": 19,
    "start_time": "2022-12-07T05:32:22.705Z"
   },
   {
    "duration": 2007,
    "start_time": "2022-12-07T05:32:23.834Z"
   },
   {
    "duration": 7592,
    "start_time": "2022-12-07T05:44:57.573Z"
   },
   {
    "duration": 1683,
    "start_time": "2022-12-07T05:46:24.321Z"
   },
   {
    "duration": 5,
    "start_time": "2022-12-07T05:47:33.832Z"
   },
   {
    "duration": 743,
    "start_time": "2022-12-07T05:50:59.810Z"
   },
   {
    "duration": 13,
    "start_time": "2022-12-07T05:51:00.889Z"
   },
   {
    "duration": 4,
    "start_time": "2022-12-07T05:51:02.664Z"
   },
   {
    "duration": 12,
    "start_time": "2022-12-07T05:51:05.473Z"
   },
   {
    "duration": 13,
    "start_time": "2022-12-07T05:51:06.176Z"
   },
   {
    "duration": 100,
    "start_time": "2022-12-07T05:51:08.296Z"
   },
   {
    "duration": 100,
    "start_time": "2022-12-07T05:51:11.288Z"
   },
   {
    "duration": 384,
    "start_time": "2022-12-07T05:51:14.191Z"
   },
   {
    "duration": 402,
    "start_time": "2022-12-07T05:51:16.335Z"
   },
   {
    "duration": 239,
    "start_time": "2022-12-07T05:51:17.664Z"
   },
   {
    "duration": 28,
    "start_time": "2022-12-07T05:51:20.927Z"
   },
   {
    "duration": 9,
    "start_time": "2022-12-07T05:51:22.351Z"
   },
   {
    "duration": 25,
    "start_time": "2022-12-07T05:51:44.601Z"
   },
   {
    "duration": 10,
    "start_time": "2022-12-07T05:51:45.398Z"
   },
   {
    "duration": 10,
    "start_time": "2022-12-07T05:51:50.974Z"
   },
   {
    "duration": 76,
    "start_time": "2022-12-07T05:52:09.476Z"
   },
   {
    "duration": 12,
    "start_time": "2022-12-07T05:52:15.476Z"
   },
   {
    "duration": 81,
    "start_time": "2022-12-07T05:52:33.003Z"
   },
   {
    "duration": 21,
    "start_time": "2022-12-07T05:52:41.851Z"
   },
   {
    "duration": 5680,
    "start_time": "2022-12-07T05:52:43.524Z"
   },
   {
    "duration": 58,
    "start_time": "2022-12-07T05:53:09.297Z"
   },
   {
    "duration": 135,
    "start_time": "2022-12-07T05:53:09.810Z"
   },
   {
    "duration": 7,
    "start_time": "2022-12-07T05:53:14.410Z"
   },
   {
    "duration": 1534,
    "start_time": "2022-12-07T05:53:16.129Z"
   },
   {
    "duration": 520,
    "start_time": "2022-12-07T05:53:23.659Z"
   },
   {
    "duration": 21,
    "start_time": "2022-12-07T05:53:40.855Z"
   },
   {
    "duration": 21,
    "start_time": "2022-12-07T05:53:44.120Z"
   },
   {
    "duration": 31,
    "start_time": "2022-12-07T05:53:52.334Z"
   },
   {
    "duration": 1391,
    "start_time": "2022-12-07T05:53:52.831Z"
   },
   {
    "duration": 1409,
    "start_time": "2022-12-07T05:54:01.455Z"
   },
   {
    "duration": 148,
    "start_time": "2022-12-07T05:54:04.481Z"
   },
   {
    "duration": 31,
    "start_time": "2022-12-07T05:54:12.285Z"
   },
   {
    "duration": 16,
    "start_time": "2022-12-07T05:54:12.997Z"
   },
   {
    "duration": 1615,
    "start_time": "2022-12-07T05:54:15.366Z"
   },
   {
    "duration": 17,
    "start_time": "2022-12-07T05:55:05.265Z"
   },
   {
    "duration": 1353,
    "start_time": "2022-12-07T05:55:05.980Z"
   },
   {
    "duration": 21,
    "start_time": "2022-12-07T05:55:53.027Z"
   },
   {
    "duration": 15,
    "start_time": "2022-12-07T05:56:07.981Z"
   },
   {
    "duration": 15,
    "start_time": "2022-12-07T05:56:34.307Z"
   },
   {
    "duration": 14,
    "start_time": "2022-12-07T05:56:49.416Z"
   },
   {
    "duration": 15,
    "start_time": "2022-12-07T05:56:55.102Z"
   },
   {
    "duration": 20,
    "start_time": "2022-12-07T05:57:13.418Z"
   },
   {
    "duration": 14279,
    "start_time": "2022-12-07T06:44:17.720Z"
   },
   {
    "duration": 836,
    "start_time": "2022-12-07T06:44:32.002Z"
   },
   {
    "duration": 17,
    "start_time": "2022-12-07T06:44:32.839Z"
   },
   {
    "duration": 27,
    "start_time": "2022-12-07T06:44:32.857Z"
   },
   {
    "duration": 60,
    "start_time": "2022-12-07T06:44:32.885Z"
   },
   {
    "duration": 41,
    "start_time": "2022-12-07T06:44:32.947Z"
   },
   {
    "duration": 120,
    "start_time": "2022-12-07T06:44:32.990Z"
   },
   {
    "duration": 122,
    "start_time": "2022-12-07T06:44:33.112Z"
   },
   {
    "duration": 427,
    "start_time": "2022-12-07T06:44:33.236Z"
   },
   {
    "duration": 495,
    "start_time": "2022-12-07T06:44:33.666Z"
   },
   {
    "duration": 257,
    "start_time": "2022-12-07T06:44:34.162Z"
   },
   {
    "duration": 24,
    "start_time": "2022-12-07T06:44:34.420Z"
   },
   {
    "duration": 10,
    "start_time": "2022-12-07T06:44:34.446Z"
   },
   {
    "duration": 42,
    "start_time": "2022-12-07T06:44:34.457Z"
   },
   {
    "duration": 85,
    "start_time": "2022-12-07T06:44:34.501Z"
   },
   {
    "duration": 78,
    "start_time": "2022-12-07T06:44:34.588Z"
   },
   {
    "duration": 27,
    "start_time": "2022-12-07T06:44:34.667Z"
   },
   {
    "duration": 5807,
    "start_time": "2022-12-07T06:44:34.696Z"
   },
   {
    "duration": 84,
    "start_time": "2022-12-07T06:44:40.505Z"
   },
   {
    "duration": 76,
    "start_time": "2022-12-07T06:44:40.591Z"
   },
   {
    "duration": 455,
    "start_time": "2022-12-07T06:44:40.669Z"
   },
   {
    "duration": 7,
    "start_time": "2022-12-07T06:44:41.126Z"
   },
   {
    "duration": 1686,
    "start_time": "2022-12-07T06:44:41.134Z"
   },
   {
    "duration": 598,
    "start_time": "2022-12-07T06:44:42.821Z"
   },
   {
    "duration": 23,
    "start_time": "2022-12-07T06:44:43.421Z"
   },
   {
    "duration": 51,
    "start_time": "2022-12-07T06:44:43.445Z"
   },
   {
    "duration": 87,
    "start_time": "2022-12-07T06:44:43.497Z"
   },
   {
    "duration": 1490,
    "start_time": "2022-12-07T06:44:43.587Z"
   },
   {
    "duration": 1598,
    "start_time": "2022-12-07T06:44:45.080Z"
   },
   {
    "duration": 282,
    "start_time": "2022-12-07T06:44:46.680Z"
   },
   {
    "duration": 25,
    "start_time": "2022-12-07T06:44:46.977Z"
   },
   {
    "duration": 33,
    "start_time": "2022-12-07T06:44:47.004Z"
   },
   {
    "duration": 1693,
    "start_time": "2022-12-07T06:44:47.038Z"
   },
   {
    "duration": 16,
    "start_time": "2022-12-07T06:44:48.733Z"
   },
   {
    "duration": 53,
    "start_time": "2022-12-07T06:44:48.751Z"
   },
   {
    "duration": 516,
    "start_time": "2022-12-07T06:44:48.805Z"
   },
   {
    "duration": 60,
    "start_time": "2022-12-07T06:44:49.323Z"
   },
   {
    "duration": 22,
    "start_time": "2022-12-07T06:44:49.384Z"
   },
   {
    "duration": 70,
    "start_time": "2022-12-07T06:44:49.408Z"
   },
   {
    "duration": 12,
    "start_time": "2022-12-07T06:44:49.480Z"
   },
   {
    "duration": 22,
    "start_time": "2022-12-07T06:44:49.493Z"
   },
   {
    "duration": 73,
    "start_time": "2022-12-07T06:44:49.517Z"
   },
   {
    "duration": 19,
    "start_time": "2022-12-07T06:44:49.592Z"
   },
   {
    "duration": 2090,
    "start_time": "2022-12-07T06:44:49.612Z"
   },
   {
    "duration": 76,
    "start_time": "2022-12-07T06:44:51.704Z"
   },
   {
    "duration": 20,
    "start_time": "2022-12-07T06:44:51.783Z"
   },
   {
    "duration": 79,
    "start_time": "2022-12-07T06:44:51.805Z"
   },
   {
    "duration": 1990,
    "start_time": "2022-12-07T06:44:51.886Z"
   },
   {
    "duration": 139,
    "start_time": "2022-12-07T06:44:53.879Z"
   },
   {
    "duration": 1762,
    "start_time": "2022-12-07T06:44:54.020Z"
   },
   {
    "duration": 82,
    "start_time": "2022-12-07T06:45:03.094Z"
   },
   {
    "duration": 81,
    "start_time": "2022-12-07T06:45:07.919Z"
   },
   {
    "duration": 11,
    "start_time": "2022-12-07T06:58:25.166Z"
   },
   {
    "duration": 226,
    "start_time": "2022-12-07T06:58:25.686Z"
   },
   {
    "duration": 86,
    "start_time": "2022-12-07T06:58:26.270Z"
   },
   {
    "duration": 158,
    "start_time": "2022-12-07T06:58:48.788Z"
   },
   {
    "duration": 7078,
    "start_time": "2022-12-07T07:00:42.109Z"
   },
   {
    "duration": 21,
    "start_time": "2022-12-07T07:41:05.213Z"
   },
   {
    "duration": 114,
    "start_time": "2022-12-07T07:41:17.956Z"
   },
   {
    "duration": 29,
    "start_time": "2022-12-07T07:41:22.580Z"
   },
   {
    "duration": 17,
    "start_time": "2022-12-07T07:41:30.443Z"
   },
   {
    "duration": 12648,
    "start_time": "2022-12-07T07:41:50.267Z"
   },
   {
    "duration": 7,
    "start_time": "2022-12-07T07:42:03.553Z"
   },
   {
    "duration": 1646514,
    "start_time": "2022-12-07T07:42:27.415Z"
   },
   {
    "duration": 32,
    "start_time": "2022-12-07T08:12:00.360Z"
   },
   {
    "duration": 27,
    "start_time": "2022-12-07T08:12:37.653Z"
   },
   {
    "duration": 15,
    "start_time": "2022-12-07T08:13:01.132Z"
   },
   {
    "duration": 6,
    "start_time": "2022-12-07T08:13:37.330Z"
   },
   {
    "duration": 6,
    "start_time": "2022-12-07T08:13:43.809Z"
   },
   {
    "duration": 15,
    "start_time": "2022-12-07T08:17:51.083Z"
   },
   {
    "duration": 10,
    "start_time": "2022-12-07T08:18:16.345Z"
   },
   {
    "duration": 13,
    "start_time": "2022-12-07T08:23:02.648Z"
   },
   {
    "duration": 13,
    "start_time": "2022-12-07T08:23:10.232Z"
   },
   {
    "duration": 16,
    "start_time": "2022-12-07T08:23:23.823Z"
   },
   {
    "duration": 16,
    "start_time": "2022-12-07T08:24:21.348Z"
   },
   {
    "duration": 16,
    "start_time": "2022-12-07T08:24:26.226Z"
   },
   {
    "duration": 16,
    "start_time": "2022-12-07T08:24:40.858Z"
   },
   {
    "duration": 15,
    "start_time": "2022-12-07T08:24:49.475Z"
   },
   {
    "duration": 15,
    "start_time": "2022-12-07T08:24:56.129Z"
   },
   {
    "duration": 13,
    "start_time": "2022-12-07T08:25:02.785Z"
   },
   {
    "duration": 15,
    "start_time": "2022-12-07T08:25:13.256Z"
   },
   {
    "duration": 16,
    "start_time": "2022-12-07T08:25:20.408Z"
   },
   {
    "duration": 14,
    "start_time": "2022-12-07T08:25:23.611Z"
   },
   {
    "duration": 15,
    "start_time": "2022-12-07T08:25:27.208Z"
   },
   {
    "duration": 13,
    "start_time": "2022-12-07T08:26:56.173Z"
   },
   {
    "duration": 13,
    "start_time": "2022-12-07T08:27:09.104Z"
   },
   {
    "duration": 12,
    "start_time": "2022-12-07T08:27:12.086Z"
   },
   {
    "duration": 16,
    "start_time": "2022-12-07T08:27:38.456Z"
   },
   {
    "duration": 91,
    "start_time": "2022-12-07T08:27:41.686Z"
   },
   {
    "duration": 13,
    "start_time": "2022-12-07T08:27:44.735Z"
   },
   {
    "duration": 7,
    "start_time": "2022-12-07T08:27:50.993Z"
   },
   {
    "duration": 14,
    "start_time": "2022-12-07T08:31:45.025Z"
   },
   {
    "duration": 9,
    "start_time": "2022-12-07T08:32:18.665Z"
   },
   {
    "duration": 24,
    "start_time": "2022-12-07T08:32:21.104Z"
   },
   {
    "duration": 9,
    "start_time": "2022-12-07T08:32:40.477Z"
   },
   {
    "duration": 24,
    "start_time": "2022-12-07T08:32:41.686Z"
   },
   {
    "duration": 13,
    "start_time": "2022-12-07T08:34:26.480Z"
   },
   {
    "duration": 17,
    "start_time": "2022-12-07T08:34:38.740Z"
   },
   {
    "duration": 14,
    "start_time": "2022-12-07T08:36:40.792Z"
   },
   {
    "duration": 9,
    "start_time": "2022-12-07T08:36:44.951Z"
   },
   {
    "duration": 20,
    "start_time": "2022-12-07T08:36:47.137Z"
   },
   {
    "duration": 17,
    "start_time": "2022-12-07T08:37:21.190Z"
   },
   {
    "duration": 5,
    "start_time": "2022-12-07T08:37:29.973Z"
   },
   {
    "duration": 9,
    "start_time": "2022-12-07T08:37:54.948Z"
   },
   {
    "duration": 6,
    "start_time": "2022-12-07T08:39:33.664Z"
   },
   {
    "duration": 5,
    "start_time": "2022-12-07T08:39:56.283Z"
   },
   {
    "duration": 6,
    "start_time": "2022-12-07T08:42:39.619Z"
   },
   {
    "duration": 4,
    "start_time": "2022-12-07T08:42:43.476Z"
   },
   {
    "duration": 7,
    "start_time": "2022-12-07T08:42:46.003Z"
   },
   {
    "duration": 22,
    "start_time": "2022-12-07T08:42:59.490Z"
   },
   {
    "duration": 6,
    "start_time": "2022-12-07T08:47:31.332Z"
   },
   {
    "duration": 9,
    "start_time": "2022-12-07T08:47:59.948Z"
   },
   {
    "duration": 22,
    "start_time": "2022-12-07T08:49:19.758Z"
   },
   {
    "duration": 8,
    "start_time": "2022-12-07T08:49:47.514Z"
   },
   {
    "duration": 4,
    "start_time": "2022-12-07T08:49:57.701Z"
   },
   {
    "duration": 23,
    "start_time": "2022-12-07T08:58:20.121Z"
   },
   {
    "duration": 4,
    "start_time": "2022-12-07T08:59:16.340Z"
   },
   {
    "duration": 20,
    "start_time": "2022-12-07T08:59:49.409Z"
   },
   {
    "duration": 27,
    "start_time": "2022-12-07T09:00:22.850Z"
   },
   {
    "duration": 35,
    "start_time": "2022-12-07T09:03:01.177Z"
   },
   {
    "duration": 23464,
    "start_time": "2022-12-07T09:03:25.335Z"
   },
   {
    "duration": 66,
    "start_time": "2022-12-07T09:04:04.685Z"
   },
   {
    "duration": 61,
    "start_time": "2022-12-07T09:04:46.072Z"
   },
   {
    "duration": 556,
    "start_time": "2022-12-07T09:05:07.851Z"
   },
   {
    "duration": 16344,
    "start_time": "2022-12-07T09:32:39.688Z"
   },
   {
    "duration": 833,
    "start_time": "2022-12-07T09:32:56.035Z"
   },
   {
    "duration": 20,
    "start_time": "2022-12-07T09:32:56.870Z"
   },
   {
    "duration": 3,
    "start_time": "2022-12-07T09:32:56.893Z"
   },
   {
    "duration": 20,
    "start_time": "2022-12-07T09:32:56.898Z"
   },
   {
    "duration": 16,
    "start_time": "2022-12-07T09:32:56.919Z"
   },
   {
    "duration": 316,
    "start_time": "2022-12-07T09:32:56.936Z"
   },
   {
    "duration": 325,
    "start_time": "2022-12-07T09:32:57.254Z"
   },
   {
    "duration": 411,
    "start_time": "2022-12-07T09:32:57.580Z"
   },
   {
    "duration": 450,
    "start_time": "2022-12-07T09:32:57.994Z"
   },
   {
    "duration": 245,
    "start_time": "2022-12-07T09:32:58.447Z"
   },
   {
    "duration": 23,
    "start_time": "2022-12-07T09:32:58.694Z"
   },
   {
    "duration": 10,
    "start_time": "2022-12-07T09:32:58.719Z"
   },
   {
    "duration": 46,
    "start_time": "2022-12-07T09:32:58.732Z"
   },
   {
    "duration": 87,
    "start_time": "2022-12-07T09:32:58.780Z"
   },
   {
    "duration": 79,
    "start_time": "2022-12-07T09:32:58.879Z"
   },
   {
    "duration": 32,
    "start_time": "2022-12-07T09:32:58.960Z"
   },
   {
    "duration": 5446,
    "start_time": "2022-12-07T09:32:58.994Z"
   },
   {
    "duration": 47,
    "start_time": "2022-12-07T09:33:04.442Z"
   },
   {
    "duration": 52,
    "start_time": "2022-12-07T09:33:04.491Z"
   },
   {
    "duration": 471,
    "start_time": "2022-12-07T09:33:04.545Z"
   },
   {
    "duration": 5,
    "start_time": "2022-12-07T09:33:05.018Z"
   },
   {
    "duration": 1704,
    "start_time": "2022-12-07T09:33:05.025Z"
   },
   {
    "duration": 637,
    "start_time": "2022-12-07T09:33:06.731Z"
   },
   {
    "duration": 23,
    "start_time": "2022-12-07T09:33:07.371Z"
   },
   {
    "duration": 86,
    "start_time": "2022-12-07T09:33:07.396Z"
   },
   {
    "duration": 34,
    "start_time": "2022-12-07T09:33:07.484Z"
   },
   {
    "duration": 1385,
    "start_time": "2022-12-07T09:33:07.521Z"
   },
   {
    "duration": 1561,
    "start_time": "2022-12-07T09:33:08.908Z"
   },
   {
    "duration": 246,
    "start_time": "2022-12-07T09:33:10.478Z"
   },
   {
    "duration": 27,
    "start_time": "2022-12-07T09:33:10.726Z"
   },
   {
    "duration": 47,
    "start_time": "2022-12-07T09:33:10.754Z"
   },
   {
    "duration": 1618,
    "start_time": "2022-12-07T09:33:10.803Z"
   },
   {
    "duration": 15,
    "start_time": "2022-12-07T09:33:12.423Z"
   },
   {
    "duration": 44,
    "start_time": "2022-12-07T09:33:12.439Z"
   },
   {
    "duration": 552,
    "start_time": "2022-12-07T09:33:12.485Z"
   },
   {
    "duration": 54,
    "start_time": "2022-12-07T09:33:13.039Z"
   },
   {
    "duration": 18,
    "start_time": "2022-12-07T09:33:13.094Z"
   },
   {
    "duration": 87,
    "start_time": "2022-12-07T09:33:13.114Z"
   },
   {
    "duration": 12,
    "start_time": "2022-12-07T09:33:13.203Z"
   },
   {
    "duration": 72,
    "start_time": "2022-12-07T09:33:13.217Z"
   },
   {
    "duration": 31,
    "start_time": "2022-12-07T09:33:13.291Z"
   },
   {
    "duration": 22,
    "start_time": "2022-12-07T09:33:13.324Z"
   },
   {
    "duration": 1894,
    "start_time": "2022-12-07T09:33:13.349Z"
   },
   {
    "duration": 141,
    "start_time": "2022-12-07T09:33:15.245Z"
   },
   {
    "duration": 17,
    "start_time": "2022-12-07T09:33:15.389Z"
   },
   {
    "duration": 89,
    "start_time": "2022-12-07T09:33:15.409Z"
   },
   {
    "duration": 2108,
    "start_time": "2022-12-07T09:33:15.500Z"
   },
   {
    "duration": 106,
    "start_time": "2022-12-07T09:33:17.611Z"
   },
   {
    "duration": 1765,
    "start_time": "2022-12-07T09:33:17.719Z"
   },
   {
    "duration": 131,
    "start_time": "2022-12-07T09:33:19.487Z"
   },
   {
    "duration": 62,
    "start_time": "2022-12-07T09:33:19.620Z"
   },
   {
    "duration": 166,
    "start_time": "2022-12-07T09:33:19.684Z"
   },
   {
    "duration": 510,
    "start_time": "2022-12-07T09:33:19.852Z"
   },
   {
    "duration": 136,
    "start_time": "2022-12-07T09:33:20.364Z"
   },
   {
    "duration": 35,
    "start_time": "2022-12-07T09:33:20.502Z"
   },
   {
    "duration": 6,
    "start_time": "2022-12-07T09:33:20.539Z"
   },
   {
    "duration": 313270,
    "start_time": "2022-12-07T09:36:16.259Z"
   },
   {
    "duration": 211,
    "start_time": "2022-12-07T09:41:29.531Z"
   },
   {
    "duration": 25,
    "start_time": "2022-12-07T09:44:40.037Z"
   },
   {
    "duration": 7,
    "start_time": "2022-12-07T09:44:40.501Z"
   },
   {
    "duration": 9,
    "start_time": "2022-12-07T09:44:42.580Z"
   },
   {
    "duration": 410,
    "start_time": "2022-12-07T09:44:43.997Z"
   },
   {
    "duration": 8,
    "start_time": "2022-12-07T09:45:10.157Z"
   },
   {
    "duration": 15,
    "start_time": "2022-12-07T10:43:34.188Z"
   },
   {
    "duration": 22,
    "start_time": "2022-12-07T10:43:56.275Z"
   },
   {
    "duration": 1570,
    "start_time": "2022-12-07T10:43:57.306Z"
   },
   {
    "duration": 1602,
    "start_time": "2022-12-07T10:44:22.182Z"
   },
   {
    "duration": 1321,
    "start_time": "2022-12-07T10:45:11.435Z"
   },
   {
    "duration": 645,
    "start_time": "2022-12-07T10:46:28.136Z"
   },
   {
    "duration": 13,
    "start_time": "2022-12-07T10:48:56.233Z"
   },
   {
    "duration": 13,
    "start_time": "2022-12-07T10:52:00.400Z"
   },
   {
    "duration": 16,
    "start_time": "2022-12-07T10:58:52.623Z"
   },
   {
    "duration": 16492,
    "start_time": "2022-12-07T12:08:39.359Z"
   },
   {
    "duration": 807,
    "start_time": "2022-12-07T12:08:55.854Z"
   },
   {
    "duration": 24,
    "start_time": "2022-12-07T12:08:56.663Z"
   },
   {
    "duration": 7,
    "start_time": "2022-12-07T12:08:56.688Z"
   },
   {
    "duration": 14,
    "start_time": "2022-12-07T12:08:56.697Z"
   },
   {
    "duration": 15,
    "start_time": "2022-12-07T12:08:56.713Z"
   },
   {
    "duration": 313,
    "start_time": "2022-12-07T12:08:56.730Z"
   },
   {
    "duration": 325,
    "start_time": "2022-12-07T12:08:57.045Z"
   },
   {
    "duration": 419,
    "start_time": "2022-12-07T12:08:57.372Z"
   },
   {
    "duration": 438,
    "start_time": "2022-12-07T12:08:57.793Z"
   },
   {
    "duration": 217,
    "start_time": "2022-12-07T12:08:58.232Z"
   },
   {
    "duration": 31,
    "start_time": "2022-12-07T12:08:58.451Z"
   },
   {
    "duration": 9,
    "start_time": "2022-12-07T12:08:58.484Z"
   },
   {
    "duration": 31,
    "start_time": "2022-12-07T12:08:58.496Z"
   },
   {
    "duration": 111,
    "start_time": "2022-12-07T12:08:58.529Z"
   },
   {
    "duration": 94,
    "start_time": "2022-12-07T12:08:58.641Z"
   },
   {
    "duration": 23,
    "start_time": "2022-12-07T12:08:58.737Z"
   },
   {
    "duration": 5678,
    "start_time": "2022-12-07T12:08:58.762Z"
   },
   {
    "duration": 50,
    "start_time": "2022-12-07T12:09:04.442Z"
   },
   {
    "duration": 60,
    "start_time": "2022-12-07T12:09:04.493Z"
   },
   {
    "duration": 479,
    "start_time": "2022-12-07T12:09:04.554Z"
   },
   {
    "duration": 5,
    "start_time": "2022-12-07T12:09:05.035Z"
   },
   {
    "duration": 1746,
    "start_time": "2022-12-07T12:09:05.042Z"
   },
   {
    "duration": 616,
    "start_time": "2022-12-07T12:09:06.791Z"
   },
   {
    "duration": 19,
    "start_time": "2022-12-07T12:09:07.409Z"
   },
   {
    "duration": 57,
    "start_time": "2022-12-07T12:09:07.429Z"
   },
   {
    "duration": 34,
    "start_time": "2022-12-07T12:09:07.488Z"
   },
   {
    "duration": 1362,
    "start_time": "2022-12-07T12:09:07.579Z"
   },
   {
    "duration": 1571,
    "start_time": "2022-12-07T12:09:08.944Z"
   },
   {
    "duration": 232,
    "start_time": "2022-12-07T12:09:10.517Z"
   },
   {
    "duration": 50,
    "start_time": "2022-12-07T12:09:10.751Z"
   },
   {
    "duration": 17,
    "start_time": "2022-12-07T12:09:10.802Z"
   },
   {
    "duration": 1811,
    "start_time": "2022-12-07T12:09:10.820Z"
   },
   {
    "duration": 15,
    "start_time": "2022-12-07T12:09:12.634Z"
   },
   {
    "duration": 19,
    "start_time": "2022-12-07T12:09:12.677Z"
   },
   {
    "duration": 568,
    "start_time": "2022-12-07T12:09:12.699Z"
   },
   {
    "duration": 40,
    "start_time": "2022-12-07T12:09:13.269Z"
   },
   {
    "duration": 68,
    "start_time": "2022-12-07T12:09:13.311Z"
   },
   {
    "duration": 40,
    "start_time": "2022-12-07T12:09:13.381Z"
   },
   {
    "duration": 62,
    "start_time": "2022-12-07T12:09:13.423Z"
   },
   {
    "duration": 17,
    "start_time": "2022-12-07T12:09:13.489Z"
   },
   {
    "duration": 76,
    "start_time": "2022-12-07T12:09:13.508Z"
   },
   {
    "duration": 16,
    "start_time": "2022-12-07T12:09:13.586Z"
   },
   {
    "duration": 1970,
    "start_time": "2022-12-07T12:09:13.604Z"
   },
   {
    "duration": 104,
    "start_time": "2022-12-07T12:09:15.580Z"
   },
   {
    "duration": 15,
    "start_time": "2022-12-07T12:09:15.686Z"
   },
   {
    "duration": 88,
    "start_time": "2022-12-07T12:09:15.702Z"
   },
   {
    "duration": 2086,
    "start_time": "2022-12-07T12:09:15.792Z"
   },
   {
    "duration": 115,
    "start_time": "2022-12-07T12:09:17.880Z"
   },
   {
    "duration": 1752,
    "start_time": "2022-12-07T12:09:17.997Z"
   },
   {
    "duration": 243,
    "start_time": "2022-12-07T12:09:19.751Z"
   },
   {
    "duration": 15,
    "start_time": "2022-12-07T12:09:19.996Z"
   },
   {
    "duration": 200,
    "start_time": "2022-12-07T12:09:20.012Z"
   },
   {
    "duration": 524,
    "start_time": "2022-12-07T12:09:20.214Z"
   },
   {
    "duration": 138,
    "start_time": "2022-12-07T12:09:20.740Z"
   },
   {
    "duration": 34,
    "start_time": "2022-12-07T12:09:20.880Z"
   },
   {
    "duration": 24,
    "start_time": "2022-12-07T12:09:20.916Z"
   },
   {
    "duration": 241162,
    "start_time": "2022-12-07T12:09:20.942Z"
   },
   {
    "duration": 14,
    "start_time": "2022-12-07T12:13:22.105Z"
   },
   {
    "duration": 16,
    "start_time": "2022-12-07T12:13:22.121Z"
   },
   {
    "duration": 12,
    "start_time": "2022-12-07T12:13:22.139Z"
   },
   {
    "duration": 412,
    "start_time": "2022-12-07T12:13:22.153Z"
   },
   {
    "duration": 6,
    "start_time": "2022-12-07T12:16:08.399Z"
   },
   {
    "duration": 6,
    "start_time": "2022-12-07T12:16:30.762Z"
   },
   {
    "duration": 6,
    "start_time": "2022-12-07T12:16:58.792Z"
   },
   {
    "duration": 6,
    "start_time": "2022-12-07T12:17:09.781Z"
   },
   {
    "duration": 4,
    "start_time": "2022-12-07T12:17:27.462Z"
   },
   {
    "duration": 89,
    "start_time": "2022-12-07T12:18:00.319Z"
   },
   {
    "duration": 75,
    "start_time": "2022-12-07T12:18:12.254Z"
   },
   {
    "duration": 7,
    "start_time": "2022-12-07T12:18:21.069Z"
   },
   {
    "duration": 273,
    "start_time": "2022-12-07T12:18:52.028Z"
   },
   {
    "duration": 5,
    "start_time": "2022-12-07T12:19:00.797Z"
   },
   {
    "duration": 5,
    "start_time": "2022-12-07T12:19:26.903Z"
   },
   {
    "duration": 6,
    "start_time": "2022-12-07T12:19:49.981Z"
   },
   {
    "duration": 5,
    "start_time": "2022-12-07T12:20:08.217Z"
   },
   {
    "duration": 255,
    "start_time": "2022-12-07T12:23:59.183Z"
   },
   {
    "duration": 289,
    "start_time": "2022-12-07T12:24:20.174Z"
   },
   {
    "duration": 14813,
    "start_time": "2022-12-07T12:25:39.580Z"
   },
   {
    "duration": 7,
    "start_time": "2022-12-07T12:26:18.671Z"
   },
   {
    "duration": 6,
    "start_time": "2022-12-07T12:26:26.770Z"
   },
   {
    "duration": 19,
    "start_time": "2022-12-07T12:28:52.358Z"
   },
   {
    "duration": 8,
    "start_time": "2022-12-07T12:29:24.069Z"
   },
   {
    "duration": 1085,
    "start_time": "2022-12-07T12:29:33.030Z"
   },
   {
    "duration": 1114,
    "start_time": "2022-12-07T12:29:39.325Z"
   },
   {
    "duration": 18,
    "start_time": "2022-12-07T12:32:24.912Z"
   },
   {
    "duration": 6,
    "start_time": "2022-12-07T12:32:37.247Z"
   },
   {
    "duration": 5,
    "start_time": "2022-12-07T12:37:07.607Z"
   },
   {
    "duration": 5,
    "start_time": "2022-12-07T12:37:36.533Z"
   },
   {
    "duration": 15670,
    "start_time": "2022-12-07T12:49:24.250Z"
   },
   {
    "duration": 906,
    "start_time": "2022-12-07T12:49:39.924Z"
   },
   {
    "duration": 14,
    "start_time": "2022-12-07T12:49:40.832Z"
   },
   {
    "duration": 7,
    "start_time": "2022-12-07T12:49:40.848Z"
   },
   {
    "duration": 28,
    "start_time": "2022-12-07T12:49:40.857Z"
   },
   {
    "duration": 18,
    "start_time": "2022-12-07T12:49:40.887Z"
   },
   {
    "duration": 359,
    "start_time": "2022-12-07T12:49:40.907Z"
   },
   {
    "duration": 305,
    "start_time": "2022-12-07T12:49:41.268Z"
   },
   {
    "duration": 377,
    "start_time": "2022-12-07T12:49:41.575Z"
   },
   {
    "duration": 414,
    "start_time": "2022-12-07T12:49:41.955Z"
   },
   {
    "duration": 237,
    "start_time": "2022-12-07T12:49:42.371Z"
   },
   {
    "duration": 22,
    "start_time": "2022-12-07T12:49:42.611Z"
   },
   {
    "duration": 9,
    "start_time": "2022-12-07T12:49:42.636Z"
   },
   {
    "duration": 38,
    "start_time": "2022-12-07T12:49:42.647Z"
   },
   {
    "duration": 91,
    "start_time": "2022-12-07T12:49:42.688Z"
   },
   {
    "duration": 82,
    "start_time": "2022-12-07T12:49:42.781Z"
   },
   {
    "duration": 21,
    "start_time": "2022-12-07T12:49:42.877Z"
   },
   {
    "duration": 5655,
    "start_time": "2022-12-07T12:49:42.900Z"
   },
   {
    "duration": 59,
    "start_time": "2022-12-07T12:49:48.557Z"
   },
   {
    "duration": 65,
    "start_time": "2022-12-07T12:49:48.617Z"
   },
   {
    "duration": 151,
    "start_time": "2022-12-07T12:49:48.683Z"
   },
   {
    "duration": 6,
    "start_time": "2022-12-07T12:49:48.836Z"
   },
   {
    "duration": 1767,
    "start_time": "2022-12-07T12:49:48.844Z"
   },
   {
    "duration": 660,
    "start_time": "2022-12-07T12:49:50.613Z"
   },
   {
    "duration": 18,
    "start_time": "2022-12-07T12:49:51.279Z"
   },
   {
    "duration": 18,
    "start_time": "2022-12-07T12:49:51.299Z"
   },
   {
    "duration": 93,
    "start_time": "2022-12-07T12:49:51.318Z"
   },
   {
    "duration": 1534,
    "start_time": "2022-12-07T12:49:51.416Z"
   },
   {
    "duration": 1713,
    "start_time": "2022-12-07T12:49:52.952Z"
   },
   {
    "duration": 252,
    "start_time": "2022-12-07T12:49:54.667Z"
   },
   {
    "duration": 28,
    "start_time": "2022-12-07T12:49:54.920Z"
   },
   {
    "duration": 35,
    "start_time": "2022-12-07T12:49:54.950Z"
   },
   {
    "duration": 1696,
    "start_time": "2022-12-07T12:49:54.988Z"
   },
   {
    "duration": 14,
    "start_time": "2022-12-07T12:49:56.687Z"
   },
   {
    "duration": 18,
    "start_time": "2022-12-07T12:49:56.703Z"
   },
   {
    "duration": 571,
    "start_time": "2022-12-07T12:49:56.723Z"
   },
   {
    "duration": 36,
    "start_time": "2022-12-07T12:49:57.296Z"
   },
   {
    "duration": 17,
    "start_time": "2022-12-07T12:49:57.379Z"
   },
   {
    "duration": 91,
    "start_time": "2022-12-07T12:49:57.398Z"
   },
   {
    "duration": 11,
    "start_time": "2022-12-07T12:49:57.491Z"
   },
   {
    "duration": 20,
    "start_time": "2022-12-07T12:49:57.503Z"
   },
   {
    "duration": 81,
    "start_time": "2022-12-07T12:49:57.524Z"
   },
   {
    "duration": 31,
    "start_time": "2022-12-07T12:49:57.607Z"
   },
   {
    "duration": 2072,
    "start_time": "2022-12-07T12:49:57.641Z"
   },
   {
    "duration": 95,
    "start_time": "2022-12-07T12:49:59.716Z"
   },
   {
    "duration": 70,
    "start_time": "2022-12-07T12:49:59.812Z"
   },
   {
    "duration": 34,
    "start_time": "2022-12-07T12:49:59.884Z"
   },
   {
    "duration": 2295,
    "start_time": "2022-12-07T12:49:59.920Z"
   },
   {
    "duration": 95,
    "start_time": "2022-12-07T12:50:02.217Z"
   },
   {
    "duration": 1914,
    "start_time": "2022-12-07T12:50:02.314Z"
   },
   {
    "duration": 150,
    "start_time": "2022-12-07T12:50:04.231Z"
   },
   {
    "duration": 12,
    "start_time": "2022-12-07T12:50:04.383Z"
   },
   {
    "duration": 228,
    "start_time": "2022-12-07T12:50:04.397Z"
   },
   {
    "duration": 521,
    "start_time": "2022-12-07T12:50:04.627Z"
   },
   {
    "duration": 145,
    "start_time": "2022-12-07T12:50:05.150Z"
   },
   {
    "duration": 20,
    "start_time": "2022-12-07T12:50:05.296Z"
   },
   {
    "duration": 7,
    "start_time": "2022-12-07T12:50:05.318Z"
   },
   {
    "duration": 289116,
    "start_time": "2022-12-07T12:50:05.327Z"
   },
   {
    "duration": 14,
    "start_time": "2022-12-07T12:54:54.444Z"
   },
   {
    "duration": 24,
    "start_time": "2022-12-07T12:54:54.460Z"
   },
   {
    "duration": 18,
    "start_time": "2022-12-07T12:54:54.486Z"
   },
   {
    "duration": 400,
    "start_time": "2022-12-07T12:54:54.505Z"
   },
   {
    "duration": 287,
    "start_time": "2022-12-07T12:54:54.907Z"
   },
   {
    "duration": 6,
    "start_time": "2022-12-07T12:54:55.196Z"
   },
   {
    "duration": 36,
    "start_time": "2022-12-07T12:54:55.203Z"
   },
   {
    "duration": 13,
    "start_time": "2022-12-07T12:54:55.241Z"
   },
   {
    "duration": 17396,
    "start_time": "2022-12-07T12:56:02.260Z"
   },
   {
    "duration": 1022,
    "start_time": "2022-12-07T12:56:19.660Z"
   },
   {
    "duration": 19,
    "start_time": "2022-12-07T12:56:20.684Z"
   },
   {
    "duration": 4,
    "start_time": "2022-12-07T12:56:20.706Z"
   },
   {
    "duration": 39,
    "start_time": "2022-12-07T12:56:20.712Z"
   },
   {
    "duration": 24,
    "start_time": "2022-12-07T12:56:20.753Z"
   },
   {
    "duration": 364,
    "start_time": "2022-12-07T12:56:20.779Z"
   },
   {
    "duration": 395,
    "start_time": "2022-12-07T12:56:21.145Z"
   },
   {
    "duration": 505,
    "start_time": "2022-12-07T12:56:21.542Z"
   },
   {
    "duration": 488,
    "start_time": "2022-12-07T12:56:22.050Z"
   },
   {
    "duration": 239,
    "start_time": "2022-12-07T12:56:22.539Z"
   },
   {
    "duration": 23,
    "start_time": "2022-12-07T12:56:22.780Z"
   },
   {
    "duration": 10,
    "start_time": "2022-12-07T12:56:22.804Z"
   },
   {
    "duration": 29,
    "start_time": "2022-12-07T12:56:22.816Z"
   },
   {
    "duration": 110,
    "start_time": "2022-12-07T12:56:22.847Z"
   },
   {
    "duration": 87,
    "start_time": "2022-12-07T12:56:22.959Z"
   },
   {
    "duration": 22,
    "start_time": "2022-12-07T12:56:23.048Z"
   },
   {
    "duration": 6026,
    "start_time": "2022-12-07T12:56:23.072Z"
   },
   {
    "duration": 51,
    "start_time": "2022-12-07T12:56:29.100Z"
   },
   {
    "duration": 71,
    "start_time": "2022-12-07T12:56:29.153Z"
   },
   {
    "duration": 462,
    "start_time": "2022-12-07T12:56:29.226Z"
   },
   {
    "duration": 6,
    "start_time": "2022-12-07T12:56:29.690Z"
   },
   {
    "duration": 1894,
    "start_time": "2022-12-07T12:56:29.698Z"
   },
   {
    "duration": 666,
    "start_time": "2022-12-07T12:56:31.595Z"
   },
   {
    "duration": 22,
    "start_time": "2022-12-07T12:56:32.277Z"
   },
   {
    "duration": 22,
    "start_time": "2022-12-07T12:56:32.301Z"
   },
   {
    "duration": 92,
    "start_time": "2022-12-07T12:56:32.324Z"
   },
   {
    "duration": 1590,
    "start_time": "2022-12-07T12:56:32.420Z"
   },
   {
    "duration": 1649,
    "start_time": "2022-12-07T12:56:34.013Z"
   },
   {
    "duration": 267,
    "start_time": "2022-12-07T12:56:35.664Z"
   },
   {
    "duration": 29,
    "start_time": "2022-12-07T12:56:35.933Z"
   },
   {
    "duration": 35,
    "start_time": "2022-12-07T12:56:35.964Z"
   },
   {
    "duration": 1667,
    "start_time": "2022-12-07T12:56:36.000Z"
   },
   {
    "duration": 23,
    "start_time": "2022-12-07T12:56:37.669Z"
   },
   {
    "duration": 35,
    "start_time": "2022-12-07T12:56:37.693Z"
   },
   {
    "duration": 613,
    "start_time": "2022-12-07T12:56:37.730Z"
   },
   {
    "duration": 59,
    "start_time": "2022-12-07T12:56:38.345Z"
   },
   {
    "duration": 74,
    "start_time": "2022-12-07T12:56:38.406Z"
   },
   {
    "duration": 110,
    "start_time": "2022-12-07T12:56:38.483Z"
   },
   {
    "duration": 10,
    "start_time": "2022-12-07T12:56:38.595Z"
   },
   {
    "duration": 68,
    "start_time": "2022-12-07T12:56:38.607Z"
   },
   {
    "duration": 78,
    "start_time": "2022-12-07T12:56:38.677Z"
   },
   {
    "duration": 45,
    "start_time": "2022-12-07T12:56:38.757Z"
   },
   {
    "duration": 2229,
    "start_time": "2022-12-07T12:56:38.805Z"
   },
   {
    "duration": 143,
    "start_time": "2022-12-07T12:56:41.037Z"
   },
   {
    "duration": 19,
    "start_time": "2022-12-07T12:56:41.182Z"
   },
   {
    "duration": 90,
    "start_time": "2022-12-07T12:56:41.203Z"
   },
   {
    "duration": 2078,
    "start_time": "2022-12-07T12:56:41.295Z"
   },
   {
    "duration": 122,
    "start_time": "2022-12-07T12:56:43.378Z"
   },
   {
    "duration": 14,
    "start_time": "2022-12-07T12:56:43.502Z"
   },
   {
    "duration": 301,
    "start_time": "2022-12-07T12:56:43.518Z"
   },
   {
    "duration": 606,
    "start_time": "2022-12-07T12:56:43.820Z"
   },
   {
    "duration": 126,
    "start_time": "2022-12-07T12:56:44.427Z"
   },
   {
    "duration": 40,
    "start_time": "2022-12-07T12:56:44.554Z"
   },
   {
    "duration": 10,
    "start_time": "2022-12-07T12:56:44.596Z"
   },
   {
    "duration": 279931,
    "start_time": "2022-12-07T12:56:44.608Z"
   },
   {
    "duration": 15,
    "start_time": "2022-12-07T13:01:24.540Z"
   },
   {
    "duration": 18,
    "start_time": "2022-12-07T13:01:24.556Z"
   },
   {
    "duration": 9,
    "start_time": "2022-12-07T13:01:24.575Z"
   },
   {
    "duration": 413,
    "start_time": "2022-12-07T13:01:24.586Z"
   },
   {
    "duration": 259,
    "start_time": "2022-12-07T13:01:25.001Z"
   },
   {
    "duration": 6,
    "start_time": "2022-12-07T13:01:25.262Z"
   },
   {
    "duration": 15,
    "start_time": "2022-12-07T13:01:25.269Z"
   },
   {
    "duration": 11,
    "start_time": "2022-12-07T13:01:25.285Z"
   },
   {
    "duration": 254,
    "start_time": "2022-12-07T13:03:15.575Z"
   },
   {
    "duration": 65,
    "start_time": "2022-12-07T13:03:17.775Z"
   },
   {
    "duration": 1909,
    "start_time": "2022-12-07T13:03:19.863Z"
   },
   {
    "duration": 67,
    "start_time": "2022-12-07T13:03:49.198Z"
   },
   {
    "duration": 65,
    "start_time": "2022-12-07T13:04:12.668Z"
   },
   {
    "duration": 1440,
    "start_time": "2022-12-07T13:04:13.586Z"
   },
   {
    "duration": 19372,
    "start_time": "2022-12-07T13:35:10.354Z"
   },
   {
    "duration": 861,
    "start_time": "2022-12-07T13:35:29.729Z"
   },
   {
    "duration": 16,
    "start_time": "2022-12-07T13:35:30.592Z"
   },
   {
    "duration": 7,
    "start_time": "2022-12-07T13:35:30.610Z"
   },
   {
    "duration": 46,
    "start_time": "2022-12-07T13:35:30.619Z"
   },
   {
    "duration": 24,
    "start_time": "2022-12-07T13:35:30.667Z"
   },
   {
    "duration": 314,
    "start_time": "2022-12-07T13:35:30.693Z"
   },
   {
    "duration": 333,
    "start_time": "2022-12-07T13:35:31.009Z"
   },
   {
    "duration": 423,
    "start_time": "2022-12-07T13:35:31.344Z"
   },
   {
    "duration": 606,
    "start_time": "2022-12-07T13:35:31.769Z"
   },
   {
    "duration": 236,
    "start_time": "2022-12-07T13:35:32.377Z"
   },
   {
    "duration": 21,
    "start_time": "2022-12-07T13:35:32.615Z"
   },
   {
    "duration": 10,
    "start_time": "2022-12-07T13:35:32.638Z"
   },
   {
    "duration": 47,
    "start_time": "2022-12-07T13:35:32.649Z"
   },
   {
    "duration": 94,
    "start_time": "2022-12-07T13:35:32.698Z"
   },
   {
    "duration": 77,
    "start_time": "2022-12-07T13:35:32.794Z"
   },
   {
    "duration": 20,
    "start_time": "2022-12-07T13:35:32.878Z"
   },
   {
    "duration": 5947,
    "start_time": "2022-12-07T13:35:32.899Z"
   },
   {
    "duration": 57,
    "start_time": "2022-12-07T13:35:38.848Z"
   },
   {
    "duration": 61,
    "start_time": "2022-12-07T13:35:38.907Z"
   },
   {
    "duration": 470,
    "start_time": "2022-12-07T13:35:38.978Z"
   },
   {
    "duration": 6,
    "start_time": "2022-12-07T13:35:39.449Z"
   },
   {
    "duration": 1976,
    "start_time": "2022-12-07T13:35:39.457Z"
   },
   {
    "duration": 623,
    "start_time": "2022-12-07T13:35:41.436Z"
   },
   {
    "duration": 25,
    "start_time": "2022-12-07T13:35:42.061Z"
   },
   {
    "duration": 45,
    "start_time": "2022-12-07T13:35:42.087Z"
   },
   {
    "duration": 81,
    "start_time": "2022-12-07T13:35:42.134Z"
   },
   {
    "duration": 1445,
    "start_time": "2022-12-07T13:35:42.219Z"
   },
   {
    "duration": 1678,
    "start_time": "2022-12-07T13:35:43.666Z"
   },
   {
    "duration": 257,
    "start_time": "2022-12-07T13:35:45.347Z"
   },
   {
    "duration": 30,
    "start_time": "2022-12-07T13:35:45.605Z"
   },
   {
    "duration": 35,
    "start_time": "2022-12-07T13:35:45.637Z"
   },
   {
    "duration": 1718,
    "start_time": "2022-12-07T13:35:45.674Z"
   },
   {
    "duration": 15,
    "start_time": "2022-12-07T13:35:47.395Z"
   },
   {
    "duration": 84,
    "start_time": "2022-12-07T13:35:47.413Z"
   },
   {
    "duration": 501,
    "start_time": "2022-12-07T13:35:47.499Z"
   },
   {
    "duration": 80,
    "start_time": "2022-12-07T13:35:48.003Z"
   },
   {
    "duration": 16,
    "start_time": "2022-12-07T13:35:48.085Z"
   },
   {
    "duration": 90,
    "start_time": "2022-12-07T13:35:48.103Z"
   },
   {
    "duration": 12,
    "start_time": "2022-12-07T13:35:48.195Z"
   },
   {
    "duration": 21,
    "start_time": "2022-12-07T13:35:48.209Z"
   },
   {
    "duration": 29,
    "start_time": "2022-12-07T13:35:48.279Z"
   },
   {
    "duration": 16,
    "start_time": "2022-12-07T13:35:48.311Z"
   },
   {
    "duration": 1931,
    "start_time": "2022-12-07T13:35:48.329Z"
   },
   {
    "duration": 116,
    "start_time": "2022-12-07T13:35:50.262Z"
   },
   {
    "duration": 16,
    "start_time": "2022-12-07T13:35:50.380Z"
   },
   {
    "duration": 94,
    "start_time": "2022-12-07T13:35:50.398Z"
   },
   {
    "duration": 2074,
    "start_time": "2022-12-07T13:35:50.494Z"
   },
   {
    "duration": 126,
    "start_time": "2022-12-07T13:35:52.577Z"
   },
   {
    "duration": 1757,
    "start_time": "2022-12-07T13:35:52.705Z"
   },
   {
    "duration": 140,
    "start_time": "2022-12-07T13:35:54.464Z"
   },
   {
    "duration": 10,
    "start_time": "2022-12-07T13:35:54.605Z"
   },
   {
    "duration": 176,
    "start_time": "2022-12-07T13:35:54.617Z"
   },
   {
    "duration": 469,
    "start_time": "2022-12-07T13:35:54.795Z"
   },
   {
    "duration": 132,
    "start_time": "2022-12-07T13:35:55.266Z"
   },
   {
    "duration": 33,
    "start_time": "2022-12-07T13:35:55.400Z"
   },
   {
    "duration": 6,
    "start_time": "2022-12-07T13:35:55.435Z"
   },
   {
    "duration": 260385,
    "start_time": "2022-12-07T13:35:55.443Z"
   },
   {
    "duration": 16,
    "start_time": "2022-12-07T13:40:15.830Z"
   },
   {
    "duration": 17,
    "start_time": "2022-12-07T13:40:15.849Z"
   },
   {
    "duration": 11,
    "start_time": "2022-12-07T13:40:15.879Z"
   },
   {
    "duration": 725,
    "start_time": "2022-12-07T13:40:15.892Z"
   },
   {
    "duration": 581,
    "start_time": "2022-12-07T13:40:16.619Z"
   },
   {
    "duration": 7,
    "start_time": "2022-12-07T13:40:17.202Z"
   },
   {
    "duration": 7,
    "start_time": "2022-12-07T13:40:17.211Z"
   },
   {
    "duration": 63,
    "start_time": "2022-12-07T13:40:17.220Z"
   },
   {
    "duration": 3737,
    "start_time": "2022-12-07T13:40:17.287Z"
   },
   {
    "duration": 1107,
    "start_time": "2022-12-07T13:40:21.078Z"
   },
   {
    "duration": 10909,
    "start_time": "2022-12-07T13:48:39.169Z"
   },
   {
    "duration": 881,
    "start_time": "2022-12-07T13:48:50.082Z"
   },
   {
    "duration": 21,
    "start_time": "2022-12-07T13:48:50.965Z"
   },
   {
    "duration": 3,
    "start_time": "2022-12-07T13:48:50.989Z"
   },
   {
    "duration": 24,
    "start_time": "2022-12-07T13:48:50.995Z"
   },
   {
    "duration": 27,
    "start_time": "2022-12-07T13:48:51.021Z"
   },
   {
    "duration": 325,
    "start_time": "2022-12-07T13:48:51.050Z"
   },
   {
    "duration": 359,
    "start_time": "2022-12-07T13:48:51.379Z"
   },
   {
    "duration": 407,
    "start_time": "2022-12-07T13:48:51.740Z"
   },
   {
    "duration": 495,
    "start_time": "2022-12-07T13:48:52.150Z"
   },
   {
    "duration": 235,
    "start_time": "2022-12-07T13:48:52.647Z"
   },
   {
    "duration": 24,
    "start_time": "2022-12-07T13:48:52.884Z"
   },
   {
    "duration": 11,
    "start_time": "2022-12-07T13:48:52.909Z"
   },
   {
    "duration": 33,
    "start_time": "2022-12-07T13:48:52.922Z"
   },
   {
    "duration": 81,
    "start_time": "2022-12-07T13:48:52.980Z"
   },
   {
    "duration": 85,
    "start_time": "2022-12-07T13:48:53.063Z"
   },
   {
    "duration": 31,
    "start_time": "2022-12-07T13:48:53.149Z"
   },
   {
    "duration": 5976,
    "start_time": "2022-12-07T13:48:53.182Z"
   },
   {
    "duration": 59,
    "start_time": "2022-12-07T13:48:59.160Z"
   },
   {
    "duration": 70,
    "start_time": "2022-12-07T13:48:59.221Z"
   },
   {
    "duration": 504,
    "start_time": "2022-12-07T13:48:59.293Z"
   },
   {
    "duration": 7,
    "start_time": "2022-12-07T13:48:59.799Z"
   },
   {
    "duration": 1918,
    "start_time": "2022-12-07T13:48:59.808Z"
   },
   {
    "duration": 684,
    "start_time": "2022-12-07T13:49:01.728Z"
   },
   {
    "duration": 19,
    "start_time": "2022-12-07T13:49:02.415Z"
   },
   {
    "duration": 58,
    "start_time": "2022-12-07T13:49:02.435Z"
   },
   {
    "duration": 88,
    "start_time": "2022-12-07T13:49:02.495Z"
   },
   {
    "duration": 1761,
    "start_time": "2022-12-07T13:49:02.586Z"
   },
   {
    "duration": 1629,
    "start_time": "2022-12-07T13:49:04.350Z"
   },
   {
    "duration": 305,
    "start_time": "2022-12-07T13:49:05.982Z"
   },
   {
    "duration": 34,
    "start_time": "2022-12-07T13:49:06.290Z"
   },
   {
    "duration": 19,
    "start_time": "2022-12-07T13:49:06.326Z"
   },
   {
    "duration": 1616,
    "start_time": "2022-12-07T13:49:06.347Z"
   },
   {
    "duration": 23,
    "start_time": "2022-12-07T13:49:07.966Z"
   },
   {
    "duration": 29,
    "start_time": "2022-12-07T13:49:07.991Z"
   },
   {
    "duration": 594,
    "start_time": "2022-12-07T13:49:08.022Z"
   },
   {
    "duration": 71,
    "start_time": "2022-12-07T13:49:08.618Z"
   },
   {
    "duration": 17,
    "start_time": "2022-12-07T13:49:08.691Z"
   },
   {
    "duration": 90,
    "start_time": "2022-12-07T13:49:08.710Z"
   },
   {
    "duration": 14,
    "start_time": "2022-12-07T13:49:08.802Z"
   },
   {
    "duration": 73,
    "start_time": "2022-12-07T13:49:08.819Z"
   },
   {
    "duration": 36,
    "start_time": "2022-12-07T13:49:08.894Z"
   },
   {
    "duration": 20,
    "start_time": "2022-12-07T13:49:08.932Z"
   },
   {
    "duration": 2032,
    "start_time": "2022-12-07T13:49:08.979Z"
   },
   {
    "duration": 93,
    "start_time": "2022-12-07T13:49:11.013Z"
   },
   {
    "duration": 18,
    "start_time": "2022-12-07T13:49:11.108Z"
   },
   {
    "duration": 32,
    "start_time": "2022-12-07T13:49:11.179Z"
   },
   {
    "duration": 2094,
    "start_time": "2022-12-07T13:49:11.213Z"
   },
   {
    "duration": 101,
    "start_time": "2022-12-07T13:49:13.309Z"
   },
   {
    "duration": 1960,
    "start_time": "2022-12-07T13:49:13.412Z"
   },
   {
    "duration": 145,
    "start_time": "2022-12-07T13:49:15.379Z"
   },
   {
    "duration": 223,
    "start_time": "2022-12-07T13:49:15.526Z"
   },
   {
    "duration": 553,
    "start_time": "2022-12-07T13:49:15.751Z"
   },
   {
    "duration": 145,
    "start_time": "2022-12-07T13:49:16.306Z"
   },
   {
    "duration": 49,
    "start_time": "2022-12-07T13:49:16.453Z"
   },
   {
    "duration": 7,
    "start_time": "2022-12-07T13:49:16.504Z"
   },
   {
    "duration": 10330,
    "start_time": "2022-12-07T14:59:10.106Z"
   },
   {
    "duration": 954,
    "start_time": "2022-12-07T14:59:20.439Z"
   },
   {
    "duration": 20,
    "start_time": "2022-12-07T14:59:21.395Z"
   },
   {
    "duration": 5,
    "start_time": "2022-12-07T14:59:21.419Z"
   },
   {
    "duration": 18,
    "start_time": "2022-12-07T14:59:21.426Z"
   },
   {
    "duration": 43,
    "start_time": "2022-12-07T14:59:21.446Z"
   },
   {
    "duration": 383,
    "start_time": "2022-12-07T14:59:21.491Z"
   },
   {
    "duration": 416,
    "start_time": "2022-12-07T14:59:21.878Z"
   },
   {
    "duration": 428,
    "start_time": "2022-12-07T14:59:22.296Z"
   },
   {
    "duration": 414,
    "start_time": "2022-12-07T14:59:22.727Z"
   },
   {
    "duration": 228,
    "start_time": "2022-12-07T14:59:23.143Z"
   },
   {
    "duration": 25,
    "start_time": "2022-12-07T14:59:23.372Z"
   },
   {
    "duration": 10,
    "start_time": "2022-12-07T14:59:23.399Z"
   },
   {
    "duration": 28,
    "start_time": "2022-12-07T14:59:23.411Z"
   },
   {
    "duration": 110,
    "start_time": "2022-12-07T14:59:23.441Z"
   },
   {
    "duration": 82,
    "start_time": "2022-12-07T14:59:23.552Z"
   },
   {
    "duration": 21,
    "start_time": "2022-12-07T14:59:23.635Z"
   },
   {
    "duration": 5777,
    "start_time": "2022-12-07T14:59:23.658Z"
   },
   {
    "duration": 62,
    "start_time": "2022-12-07T14:59:29.437Z"
   },
   {
    "duration": 57,
    "start_time": "2022-12-07T14:59:29.501Z"
   },
   {
    "duration": 476,
    "start_time": "2022-12-07T14:59:29.560Z"
   },
   {
    "duration": 6,
    "start_time": "2022-12-07T14:59:30.038Z"
   },
   {
    "duration": 1758,
    "start_time": "2022-12-07T14:59:30.046Z"
   },
   {
    "duration": 756,
    "start_time": "2022-12-07T14:59:31.805Z"
   },
   {
    "duration": 30,
    "start_time": "2022-12-07T14:59:32.563Z"
   },
   {
    "duration": 17,
    "start_time": "2022-12-07T14:59:32.594Z"
   },
   {
    "duration": 92,
    "start_time": "2022-12-07T14:59:32.613Z"
   },
   {
    "duration": 1738,
    "start_time": "2022-12-07T14:59:32.710Z"
   },
   {
    "duration": 1723,
    "start_time": "2022-12-07T14:59:34.450Z"
   },
   {
    "duration": 327,
    "start_time": "2022-12-07T14:59:36.177Z"
   },
   {
    "duration": 29,
    "start_time": "2022-12-07T14:59:36.506Z"
   },
   {
    "duration": 44,
    "start_time": "2022-12-07T14:59:36.537Z"
   },
   {
    "duration": 1631,
    "start_time": "2022-12-07T14:59:36.583Z"
   },
   {
    "duration": 15,
    "start_time": "2022-12-07T14:59:38.217Z"
   },
   {
    "duration": 57,
    "start_time": "2022-12-07T14:59:38.234Z"
   },
   {
    "duration": 703,
    "start_time": "2022-12-07T14:59:38.293Z"
   },
   {
    "duration": 82,
    "start_time": "2022-12-07T14:59:38.999Z"
   },
   {
    "duration": 20,
    "start_time": "2022-12-07T14:59:39.083Z"
   },
   {
    "duration": 96,
    "start_time": "2022-12-07T14:59:39.106Z"
   },
   {
    "duration": 15,
    "start_time": "2022-12-07T14:59:39.205Z"
   },
   {
    "duration": 20,
    "start_time": "2022-12-07T14:59:39.278Z"
   },
   {
    "duration": 84,
    "start_time": "2022-12-07T14:59:39.300Z"
   },
   {
    "duration": 20,
    "start_time": "2022-12-07T14:59:39.386Z"
   },
   {
    "duration": 2259,
    "start_time": "2022-12-07T14:59:39.408Z"
   },
   {
    "duration": 116,
    "start_time": "2022-12-07T14:59:41.669Z"
   },
   {
    "duration": 16,
    "start_time": "2022-12-07T14:59:41.787Z"
   },
   {
    "duration": 94,
    "start_time": "2022-12-07T14:59:41.805Z"
   },
   {
    "duration": 2161,
    "start_time": "2022-12-07T14:59:41.901Z"
   },
   {
    "duration": 143,
    "start_time": "2022-12-07T14:59:44.064Z"
   },
   {
    "duration": 1834,
    "start_time": "2022-12-07T14:59:44.209Z"
   },
   {
    "duration": 156,
    "start_time": "2022-12-07T14:59:46.046Z"
   },
   {
    "duration": 299,
    "start_time": "2022-12-07T14:59:46.204Z"
   },
   {
    "duration": 519,
    "start_time": "2022-12-07T14:59:46.505Z"
   },
   {
    "duration": 127,
    "start_time": "2022-12-07T14:59:47.026Z"
   },
   {
    "duration": 37,
    "start_time": "2022-12-07T14:59:47.155Z"
   },
   {
    "duration": 6,
    "start_time": "2022-12-07T14:59:47.194Z"
   },
   {
    "duration": 255027,
    "start_time": "2022-12-07T14:59:47.203Z"
   },
   {
    "duration": 14,
    "start_time": "2022-12-07T15:04:02.232Z"
   },
   {
    "duration": 18,
    "start_time": "2022-12-07T15:04:02.247Z"
   },
   {
    "duration": 11,
    "start_time": "2022-12-07T15:04:02.267Z"
   },
   {
    "duration": 405,
    "start_time": "2022-12-07T15:04:02.280Z"
   },
   {
    "duration": 293,
    "start_time": "2022-12-07T15:04:02.687Z"
   },
   {
    "duration": 7,
    "start_time": "2022-12-07T15:04:02.982Z"
   },
   {
    "duration": 14,
    "start_time": "2022-12-07T15:04:02.991Z"
   },
   {
    "duration": 11,
    "start_time": "2022-12-07T15:04:03.007Z"
   },
   {
    "duration": 7,
    "start_time": "2022-12-07T15:13:55.502Z"
   },
   {
    "duration": 29779,
    "start_time": "2022-12-08T17:32:11.787Z"
   },
   {
    "duration": 0,
    "start_time": "2022-12-08T17:32:41.570Z"
   },
   {
    "duration": 0,
    "start_time": "2022-12-08T17:32:41.571Z"
   },
   {
    "duration": 0,
    "start_time": "2022-12-08T17:32:41.573Z"
   },
   {
    "duration": 0,
    "start_time": "2022-12-08T17:32:41.574Z"
   },
   {
    "duration": 0,
    "start_time": "2022-12-08T17:32:41.576Z"
   },
   {
    "duration": 0,
    "start_time": "2022-12-08T17:32:41.578Z"
   },
   {
    "duration": 0,
    "start_time": "2022-12-08T17:32:41.579Z"
   },
   {
    "duration": 0,
    "start_time": "2022-12-08T17:32:41.581Z"
   },
   {
    "duration": 0,
    "start_time": "2022-12-08T17:32:41.582Z"
   },
   {
    "duration": 0,
    "start_time": "2022-12-08T17:32:41.583Z"
   },
   {
    "duration": 0,
    "start_time": "2022-12-08T17:32:41.584Z"
   },
   {
    "duration": 0,
    "start_time": "2022-12-08T17:32:41.586Z"
   },
   {
    "duration": 0,
    "start_time": "2022-12-08T17:32:41.587Z"
   },
   {
    "duration": 0,
    "start_time": "2022-12-08T17:32:41.589Z"
   },
   {
    "duration": 0,
    "start_time": "2022-12-08T17:32:41.590Z"
   },
   {
    "duration": 0,
    "start_time": "2022-12-08T17:32:41.591Z"
   },
   {
    "duration": 0,
    "start_time": "2022-12-08T17:32:41.592Z"
   },
   {
    "duration": 0,
    "start_time": "2022-12-08T17:32:41.594Z"
   },
   {
    "duration": 0,
    "start_time": "2022-12-08T17:32:41.597Z"
   },
   {
    "duration": 0,
    "start_time": "2022-12-08T17:32:41.598Z"
   },
   {
    "duration": 0,
    "start_time": "2022-12-08T17:32:41.599Z"
   },
   {
    "duration": 0,
    "start_time": "2022-12-08T17:32:41.651Z"
   },
   {
    "duration": 0,
    "start_time": "2022-12-08T17:32:41.652Z"
   },
   {
    "duration": 0,
    "start_time": "2022-12-08T17:32:41.654Z"
   },
   {
    "duration": 0,
    "start_time": "2022-12-08T17:32:41.655Z"
   },
   {
    "duration": 0,
    "start_time": "2022-12-08T17:32:41.656Z"
   },
   {
    "duration": 0,
    "start_time": "2022-12-08T17:32:41.658Z"
   },
   {
    "duration": 34006,
    "start_time": "2022-12-08T17:46:10.504Z"
   },
   {
    "duration": 3028,
    "start_time": "2022-12-08T17:46:44.513Z"
   },
   {
    "duration": 19,
    "start_time": "2022-12-08T17:46:47.543Z"
   },
   {
    "duration": 4,
    "start_time": "2022-12-08T17:46:47.565Z"
   },
   {
    "duration": 17,
    "start_time": "2022-12-08T17:46:47.571Z"
   },
   {
    "duration": 16,
    "start_time": "2022-12-08T17:46:47.590Z"
   },
   {
    "duration": 183,
    "start_time": "2022-12-08T17:46:47.608Z"
   },
   {
    "duration": 171,
    "start_time": "2022-12-08T17:46:47.793Z"
   },
   {
    "duration": 0,
    "start_time": "2022-12-08T17:46:47.967Z"
   },
   {
    "duration": 0,
    "start_time": "2022-12-08T17:46:47.970Z"
   },
   {
    "duration": 0,
    "start_time": "2022-12-08T17:46:47.971Z"
   },
   {
    "duration": 0,
    "start_time": "2022-12-08T17:46:47.972Z"
   },
   {
    "duration": 0,
    "start_time": "2022-12-08T17:46:47.973Z"
   },
   {
    "duration": 0,
    "start_time": "2022-12-08T17:46:47.974Z"
   },
   {
    "duration": 0,
    "start_time": "2022-12-08T17:46:47.975Z"
   },
   {
    "duration": 0,
    "start_time": "2022-12-08T17:46:47.976Z"
   },
   {
    "duration": 0,
    "start_time": "2022-12-08T17:46:47.977Z"
   },
   {
    "duration": 0,
    "start_time": "2022-12-08T17:46:47.978Z"
   },
   {
    "duration": 0,
    "start_time": "2022-12-08T17:46:47.979Z"
   },
   {
    "duration": 0,
    "start_time": "2022-12-08T17:46:47.980Z"
   },
   {
    "duration": 0,
    "start_time": "2022-12-08T17:46:47.981Z"
   },
   {
    "duration": 0,
    "start_time": "2022-12-08T17:46:47.982Z"
   },
   {
    "duration": 0,
    "start_time": "2022-12-08T17:46:47.983Z"
   },
   {
    "duration": 0,
    "start_time": "2022-12-08T17:46:47.984Z"
   },
   {
    "duration": 0,
    "start_time": "2022-12-08T17:46:47.985Z"
   },
   {
    "duration": 0,
    "start_time": "2022-12-08T17:46:47.986Z"
   },
   {
    "duration": 0,
    "start_time": "2022-12-08T17:46:47.987Z"
   },
   {
    "duration": 0,
    "start_time": "2022-12-08T17:46:47.988Z"
   },
   {
    "duration": 0,
    "start_time": "2022-12-08T17:46:47.989Z"
   },
   {
    "duration": 0,
    "start_time": "2022-12-08T17:46:47.990Z"
   },
   {
    "duration": 1,
    "start_time": "2022-12-08T17:46:47.991Z"
   },
   {
    "duration": 0,
    "start_time": "2022-12-08T17:46:47.993Z"
   },
   {
    "duration": 0,
    "start_time": "2022-12-08T17:46:47.994Z"
   },
   {
    "duration": 0,
    "start_time": "2022-12-08T17:46:47.995Z"
   },
   {
    "duration": 0,
    "start_time": "2022-12-08T17:46:47.996Z"
   },
   {
    "duration": 0,
    "start_time": "2022-12-08T17:46:47.997Z"
   },
   {
    "duration": 0,
    "start_time": "2022-12-08T17:46:47.998Z"
   },
   {
    "duration": 0,
    "start_time": "2022-12-08T17:46:47.999Z"
   },
   {
    "duration": 0,
    "start_time": "2022-12-08T17:46:48.000Z"
   },
   {
    "duration": 0,
    "start_time": "2022-12-08T17:46:48.000Z"
   },
   {
    "duration": 0,
    "start_time": "2022-12-08T17:46:48.001Z"
   },
   {
    "duration": 0,
    "start_time": "2022-12-08T17:46:48.001Z"
   },
   {
    "duration": 0,
    "start_time": "2022-12-08T17:46:48.002Z"
   },
   {
    "duration": 0,
    "start_time": "2022-12-08T17:46:48.002Z"
   },
   {
    "duration": 0,
    "start_time": "2022-12-08T17:46:48.051Z"
   },
   {
    "duration": 0,
    "start_time": "2022-12-08T17:46:48.052Z"
   },
   {
    "duration": 1,
    "start_time": "2022-12-08T17:46:48.053Z"
   },
   {
    "duration": 0,
    "start_time": "2022-12-08T17:46:48.055Z"
   },
   {
    "duration": 0,
    "start_time": "2022-12-08T17:46:48.056Z"
   },
   {
    "duration": 0,
    "start_time": "2022-12-08T17:46:48.057Z"
   },
   {
    "duration": 0,
    "start_time": "2022-12-08T17:46:48.058Z"
   },
   {
    "duration": 0,
    "start_time": "2022-12-08T17:46:48.059Z"
   },
   {
    "duration": 0,
    "start_time": "2022-12-08T17:46:48.060Z"
   },
   {
    "duration": 0,
    "start_time": "2022-12-08T17:46:48.061Z"
   },
   {
    "duration": 0,
    "start_time": "2022-12-08T17:46:48.063Z"
   },
   {
    "duration": 0,
    "start_time": "2022-12-08T17:46:48.064Z"
   },
   {
    "duration": 0,
    "start_time": "2022-12-08T17:46:48.065Z"
   },
   {
    "duration": 0,
    "start_time": "2022-12-08T17:46:48.066Z"
   },
   {
    "duration": 0,
    "start_time": "2022-12-08T17:46:48.068Z"
   },
   {
    "duration": 0,
    "start_time": "2022-12-08T17:46:48.070Z"
   },
   {
    "duration": 0,
    "start_time": "2022-12-08T17:46:48.071Z"
   },
   {
    "duration": 0,
    "start_time": "2022-12-08T17:46:48.073Z"
   },
   {
    "duration": 1,
    "start_time": "2022-12-08T17:46:48.074Z"
   },
   {
    "duration": 0,
    "start_time": "2022-12-08T17:46:48.076Z"
   },
   {
    "duration": 0,
    "start_time": "2022-12-08T17:46:48.077Z"
   },
   {
    "duration": 0,
    "start_time": "2022-12-08T17:46:48.079Z"
   },
   {
    "duration": 62349,
    "start_time": "2022-12-09T05:36:24.872Z"
   },
   {
    "duration": 1039,
    "start_time": "2022-12-09T05:37:27.223Z"
   },
   {
    "duration": 17,
    "start_time": "2022-12-09T05:37:28.263Z"
   },
   {
    "duration": 7,
    "start_time": "2022-12-09T05:37:28.282Z"
   },
   {
    "duration": 16,
    "start_time": "2022-12-09T05:37:28.291Z"
   },
   {
    "duration": 18,
    "start_time": "2022-12-09T05:37:28.309Z"
   },
   {
    "duration": 175,
    "start_time": "2022-12-09T05:37:28.328Z"
   },
   {
    "duration": 262,
    "start_time": "2022-12-09T05:37:28.505Z"
   },
   {
    "duration": 0,
    "start_time": "2022-12-09T05:37:28.770Z"
   },
   {
    "duration": 0,
    "start_time": "2022-12-09T05:37:28.771Z"
   },
   {
    "duration": 0,
    "start_time": "2022-12-09T05:37:28.772Z"
   },
   {
    "duration": 0,
    "start_time": "2022-12-09T05:37:28.773Z"
   },
   {
    "duration": 0,
    "start_time": "2022-12-09T05:37:28.774Z"
   },
   {
    "duration": 0,
    "start_time": "2022-12-09T05:37:28.775Z"
   },
   {
    "duration": 0,
    "start_time": "2022-12-09T05:37:28.776Z"
   },
   {
    "duration": 0,
    "start_time": "2022-12-09T05:37:28.777Z"
   },
   {
    "duration": 0,
    "start_time": "2022-12-09T05:37:28.778Z"
   },
   {
    "duration": 0,
    "start_time": "2022-12-09T05:37:28.779Z"
   },
   {
    "duration": 0,
    "start_time": "2022-12-09T05:37:28.780Z"
   },
   {
    "duration": 0,
    "start_time": "2022-12-09T05:37:28.781Z"
   },
   {
    "duration": 0,
    "start_time": "2022-12-09T05:37:28.782Z"
   },
   {
    "duration": 0,
    "start_time": "2022-12-09T05:37:28.783Z"
   },
   {
    "duration": 0,
    "start_time": "2022-12-09T05:37:28.785Z"
   },
   {
    "duration": 0,
    "start_time": "2022-12-09T05:37:28.786Z"
   },
   {
    "duration": 0,
    "start_time": "2022-12-09T05:37:28.787Z"
   },
   {
    "duration": 0,
    "start_time": "2022-12-09T05:37:28.788Z"
   },
   {
    "duration": 0,
    "start_time": "2022-12-09T05:37:28.821Z"
   },
   {
    "duration": 0,
    "start_time": "2022-12-09T05:37:28.824Z"
   },
   {
    "duration": 0,
    "start_time": "2022-12-09T05:37:28.825Z"
   },
   {
    "duration": 0,
    "start_time": "2022-12-09T05:37:28.826Z"
   },
   {
    "duration": 0,
    "start_time": "2022-12-09T05:37:28.828Z"
   },
   {
    "duration": 0,
    "start_time": "2022-12-09T05:37:28.829Z"
   },
   {
    "duration": 0,
    "start_time": "2022-12-09T05:37:28.829Z"
   },
   {
    "duration": 0,
    "start_time": "2022-12-09T05:37:28.831Z"
   },
   {
    "duration": 0,
    "start_time": "2022-12-09T05:37:28.832Z"
   },
   {
    "duration": 0,
    "start_time": "2022-12-09T05:37:28.833Z"
   },
   {
    "duration": 0,
    "start_time": "2022-12-09T05:37:28.834Z"
   },
   {
    "duration": 0,
    "start_time": "2022-12-09T05:37:28.835Z"
   },
   {
    "duration": 0,
    "start_time": "2022-12-09T05:37:28.836Z"
   },
   {
    "duration": 0,
    "start_time": "2022-12-09T05:37:28.837Z"
   },
   {
    "duration": 0,
    "start_time": "2022-12-09T05:37:28.838Z"
   },
   {
    "duration": 0,
    "start_time": "2022-12-09T05:37:28.839Z"
   },
   {
    "duration": 0,
    "start_time": "2022-12-09T05:37:28.840Z"
   },
   {
    "duration": 0,
    "start_time": "2022-12-09T05:37:28.841Z"
   },
   {
    "duration": 0,
    "start_time": "2022-12-09T05:37:28.843Z"
   },
   {
    "duration": 0,
    "start_time": "2022-12-09T05:37:28.844Z"
   },
   {
    "duration": 0,
    "start_time": "2022-12-09T05:37:28.845Z"
   },
   {
    "duration": 0,
    "start_time": "2022-12-09T05:37:28.846Z"
   },
   {
    "duration": 0,
    "start_time": "2022-12-09T05:37:28.847Z"
   },
   {
    "duration": 0,
    "start_time": "2022-12-09T05:37:28.848Z"
   },
   {
    "duration": 0,
    "start_time": "2022-12-09T05:37:28.849Z"
   },
   {
    "duration": 0,
    "start_time": "2022-12-09T05:37:28.850Z"
   },
   {
    "duration": 0,
    "start_time": "2022-12-09T05:37:28.851Z"
   },
   {
    "duration": 0,
    "start_time": "2022-12-09T05:37:28.852Z"
   },
   {
    "duration": 0,
    "start_time": "2022-12-09T05:37:28.853Z"
   },
   {
    "duration": 0,
    "start_time": "2022-12-09T05:37:28.854Z"
   },
   {
    "duration": 0,
    "start_time": "2022-12-09T05:37:28.855Z"
   },
   {
    "duration": 0,
    "start_time": "2022-12-09T05:37:28.856Z"
   },
   {
    "duration": 0,
    "start_time": "2022-12-09T05:37:28.857Z"
   },
   {
    "duration": 0,
    "start_time": "2022-12-09T05:37:28.858Z"
   },
   {
    "duration": 0,
    "start_time": "2022-12-09T05:37:28.859Z"
   },
   {
    "duration": 0,
    "start_time": "2022-12-09T05:37:28.860Z"
   },
   {
    "duration": 0,
    "start_time": "2022-12-09T05:37:28.921Z"
   },
   {
    "duration": 0,
    "start_time": "2022-12-09T05:37:28.923Z"
   },
   {
    "duration": 0,
    "start_time": "2022-12-09T05:37:28.924Z"
   },
   {
    "duration": 0,
    "start_time": "2022-12-09T05:37:28.925Z"
   },
   {
    "duration": 7379,
    "start_time": "2022-12-09T05:42:07.034Z"
   },
   {
    "duration": 805,
    "start_time": "2022-12-09T05:42:14.415Z"
   },
   {
    "duration": 21,
    "start_time": "2022-12-09T05:42:15.222Z"
   },
   {
    "duration": 12,
    "start_time": "2022-12-09T05:42:15.246Z"
   },
   {
    "duration": 19,
    "start_time": "2022-12-09T05:42:15.260Z"
   },
   {
    "duration": 19,
    "start_time": "2022-12-09T05:42:15.281Z"
   },
   {
    "duration": 399,
    "start_time": "2022-12-09T05:42:15.303Z"
   },
   {
    "duration": 378,
    "start_time": "2022-12-09T05:42:15.704Z"
   },
   {
    "duration": 386,
    "start_time": "2022-12-09T05:42:16.084Z"
   },
   {
    "duration": 395,
    "start_time": "2022-12-09T05:42:16.472Z"
   },
   {
    "duration": 216,
    "start_time": "2022-12-09T05:42:16.869Z"
   },
   {
    "duration": 20,
    "start_time": "2022-12-09T05:42:17.087Z"
   },
   {
    "duration": 18,
    "start_time": "2022-12-09T05:42:17.109Z"
   },
   {
    "duration": 30,
    "start_time": "2022-12-09T05:42:17.129Z"
   },
   {
    "duration": 84,
    "start_time": "2022-12-09T05:42:17.161Z"
   },
   {
    "duration": 82,
    "start_time": "2022-12-09T05:42:17.247Z"
   },
   {
    "duration": 22,
    "start_time": "2022-12-09T05:42:17.331Z"
   },
   {
    "duration": 5592,
    "start_time": "2022-12-09T05:42:17.354Z"
   },
   {
    "duration": 47,
    "start_time": "2022-12-09T05:42:22.947Z"
   },
   {
    "duration": 65,
    "start_time": "2022-12-09T05:42:22.996Z"
   },
   {
    "duration": 456,
    "start_time": "2022-12-09T05:42:23.063Z"
   },
   {
    "duration": 5,
    "start_time": "2022-12-09T05:42:23.521Z"
   },
   {
    "duration": 1612,
    "start_time": "2022-12-09T05:42:23.528Z"
   },
   {
    "duration": 725,
    "start_time": "2022-12-09T05:42:25.142Z"
   },
   {
    "duration": 18,
    "start_time": "2022-12-09T05:42:25.869Z"
   },
   {
    "duration": 46,
    "start_time": "2022-12-09T05:42:25.888Z"
   },
   {
    "duration": 85,
    "start_time": "2022-12-09T05:42:25.936Z"
   },
   {
    "duration": 1551,
    "start_time": "2022-12-09T05:42:26.025Z"
   },
   {
    "duration": 1328,
    "start_time": "2022-12-09T05:42:27.577Z"
   },
   {
    "duration": 227,
    "start_time": "2022-12-09T05:42:28.907Z"
   },
   {
    "duration": 24,
    "start_time": "2022-12-09T05:42:29.136Z"
   },
   {
    "duration": 15,
    "start_time": "2022-12-09T05:42:29.162Z"
   },
   {
    "duration": 1474,
    "start_time": "2022-12-09T05:42:29.179Z"
   },
   {
    "duration": 66,
    "start_time": "2022-12-09T05:42:30.655Z"
   },
   {
    "duration": 15,
    "start_time": "2022-12-09T05:42:30.723Z"
   },
   {
    "duration": 499,
    "start_time": "2022-12-09T05:42:30.740Z"
   },
   {
    "duration": 31,
    "start_time": "2022-12-09T05:42:31.241Z"
   },
   {
    "duration": 54,
    "start_time": "2022-12-09T05:42:31.273Z"
   },
   {
    "duration": 94,
    "start_time": "2022-12-09T05:42:31.329Z"
   },
   {
    "duration": 9,
    "start_time": "2022-12-09T05:42:31.425Z"
   },
   {
    "duration": 33,
    "start_time": "2022-12-09T05:42:31.436Z"
   },
   {
    "duration": 35,
    "start_time": "2022-12-09T05:42:31.471Z"
   },
   {
    "duration": 20,
    "start_time": "2022-12-09T05:42:31.522Z"
   },
   {
    "duration": 1732,
    "start_time": "2022-12-09T05:42:31.544Z"
   },
   {
    "duration": 74,
    "start_time": "2022-12-09T05:42:33.278Z"
   },
   {
    "duration": 68,
    "start_time": "2022-12-09T05:42:33.353Z"
   },
   {
    "duration": 31,
    "start_time": "2022-12-09T05:42:33.423Z"
   },
   {
    "duration": 2041,
    "start_time": "2022-12-09T05:42:33.456Z"
   },
   {
    "duration": 121,
    "start_time": "2022-12-09T05:42:35.500Z"
   },
   {
    "duration": 1353,
    "start_time": "2022-12-09T05:42:35.623Z"
   },
   {
    "duration": 153,
    "start_time": "2022-12-09T05:42:36.978Z"
   },
   {
    "duration": 175,
    "start_time": "2022-12-09T05:42:37.133Z"
   },
   {
    "duration": 471,
    "start_time": "2022-12-09T05:42:37.309Z"
   },
   {
    "duration": 102,
    "start_time": "2022-12-09T05:42:37.782Z"
   },
   {
    "duration": 38,
    "start_time": "2022-12-09T05:42:37.886Z"
   },
   {
    "duration": 66,
    "start_time": "2022-12-09T05:42:37.925Z"
   },
   {
    "duration": 220217,
    "start_time": "2022-12-09T05:42:37.992Z"
   },
   {
    "duration": 13,
    "start_time": "2022-12-09T05:46:18.210Z"
   },
   {
    "duration": 17,
    "start_time": "2022-12-09T05:46:18.224Z"
   },
   {
    "duration": 8,
    "start_time": "2022-12-09T05:46:18.242Z"
   },
   {
    "duration": 178,
    "start_time": "2022-12-09T05:46:18.252Z"
   },
   {
    "duration": 0,
    "start_time": "2022-12-09T05:46:18.432Z"
   },
   {
    "duration": 0,
    "start_time": "2022-12-09T05:46:18.433Z"
   },
   {
    "duration": 0,
    "start_time": "2022-12-09T05:46:18.434Z"
   },
   {
    "duration": 0,
    "start_time": "2022-12-09T05:46:18.435Z"
   },
   {
    "duration": 0,
    "start_time": "2022-12-09T05:46:18.436Z"
   },
   {
    "duration": 9,
    "start_time": "2022-12-09T05:50:16.622Z"
   },
   {
    "duration": 337,
    "start_time": "2022-12-09T05:50:17.261Z"
   },
   {
    "duration": 6,
    "start_time": "2022-12-09T05:50:23.556Z"
   },
   {
    "duration": 253,
    "start_time": "2022-12-09T05:50:24.977Z"
   },
   {
    "duration": 5,
    "start_time": "2022-12-09T05:50:25.451Z"
   },
   {
    "duration": 7,
    "start_time": "2022-12-09T05:50:32.667Z"
   },
   {
    "duration": 6,
    "start_time": "2022-12-09T05:50:33.715Z"
   },
   {
    "duration": 7403,
    "start_time": "2022-12-09T05:51:18.917Z"
   },
   {
    "duration": 799,
    "start_time": "2022-12-09T05:51:26.322Z"
   },
   {
    "duration": 14,
    "start_time": "2022-12-09T05:51:27.123Z"
   },
   {
    "duration": 3,
    "start_time": "2022-12-09T05:51:27.139Z"
   },
   {
    "duration": 12,
    "start_time": "2022-12-09T05:51:27.144Z"
   },
   {
    "duration": 12,
    "start_time": "2022-12-09T05:51:27.158Z"
   },
   {
    "duration": 334,
    "start_time": "2022-12-09T05:51:27.171Z"
   },
   {
    "duration": 373,
    "start_time": "2022-12-09T05:51:27.507Z"
   },
   {
    "duration": 380,
    "start_time": "2022-12-09T05:51:27.882Z"
   },
   {
    "duration": 387,
    "start_time": "2022-12-09T05:51:28.265Z"
   },
   {
    "duration": 219,
    "start_time": "2022-12-09T05:51:28.653Z"
   },
   {
    "duration": 20,
    "start_time": "2022-12-09T05:51:28.873Z"
   },
   {
    "duration": 7,
    "start_time": "2022-12-09T05:51:28.895Z"
   },
   {
    "duration": 40,
    "start_time": "2022-12-09T05:51:28.904Z"
   },
   {
    "duration": 79,
    "start_time": "2022-12-09T05:51:28.946Z"
   },
   {
    "duration": 79,
    "start_time": "2022-12-09T05:51:29.027Z"
   },
   {
    "duration": 33,
    "start_time": "2022-12-09T05:51:29.107Z"
   },
   {
    "duration": 5704,
    "start_time": "2022-12-09T05:51:29.142Z"
   },
   {
    "duration": 46,
    "start_time": "2022-12-09T05:51:34.848Z"
   },
   {
    "duration": 65,
    "start_time": "2022-12-09T05:51:34.896Z"
   },
   {
    "duration": 536,
    "start_time": "2022-12-09T05:51:34.963Z"
   },
   {
    "duration": 6,
    "start_time": "2022-12-09T05:51:35.500Z"
   },
   {
    "duration": 1559,
    "start_time": "2022-12-09T05:51:35.507Z"
   },
   {
    "duration": 630,
    "start_time": "2022-12-09T05:51:37.068Z"
   },
   {
    "duration": 28,
    "start_time": "2022-12-09T05:51:37.700Z"
   },
   {
    "duration": 17,
    "start_time": "2022-12-09T05:51:37.729Z"
   },
   {
    "duration": 86,
    "start_time": "2022-12-09T05:51:37.748Z"
   },
   {
    "duration": 1575,
    "start_time": "2022-12-09T05:51:37.838Z"
   },
   {
    "duration": 1312,
    "start_time": "2022-12-09T05:51:39.415Z"
   },
   {
    "duration": 225,
    "start_time": "2022-12-09T05:51:40.729Z"
   },
   {
    "duration": 23,
    "start_time": "2022-12-09T05:51:40.956Z"
   },
   {
    "duration": 15,
    "start_time": "2022-12-09T05:51:40.981Z"
   },
   {
    "duration": 1515,
    "start_time": "2022-12-09T05:51:40.999Z"
   },
   {
    "duration": 31,
    "start_time": "2022-12-09T05:51:42.522Z"
   },
   {
    "duration": 70,
    "start_time": "2022-12-09T05:51:42.555Z"
   },
   {
    "duration": 478,
    "start_time": "2022-12-09T05:51:42.627Z"
   },
   {
    "duration": 33,
    "start_time": "2022-12-09T05:51:43.108Z"
   },
   {
    "duration": 16,
    "start_time": "2022-12-09T05:51:43.143Z"
   },
   {
    "duration": 90,
    "start_time": "2022-12-09T05:51:43.160Z"
   },
   {
    "duration": 9,
    "start_time": "2022-12-09T05:51:43.253Z"
   },
   {
    "duration": 66,
    "start_time": "2022-12-09T05:51:43.264Z"
   },
   {
    "duration": 43,
    "start_time": "2022-12-09T05:51:43.332Z"
   },
   {
    "duration": 19,
    "start_time": "2022-12-09T05:51:43.377Z"
   },
   {
    "duration": 1762,
    "start_time": "2022-12-09T05:51:43.398Z"
   },
   {
    "duration": 97,
    "start_time": "2022-12-09T05:51:45.162Z"
   },
   {
    "duration": 72,
    "start_time": "2022-12-09T05:51:45.262Z"
   },
   {
    "duration": 90,
    "start_time": "2022-12-09T05:51:45.336Z"
   },
   {
    "duration": 1991,
    "start_time": "2022-12-09T05:51:45.428Z"
   },
   {
    "duration": 107,
    "start_time": "2022-12-09T05:51:47.422Z"
   },
   {
    "duration": 1364,
    "start_time": "2022-12-09T05:51:47.531Z"
   },
   {
    "duration": 141,
    "start_time": "2022-12-09T05:51:48.897Z"
   },
   {
    "duration": 212,
    "start_time": "2022-12-09T05:51:49.040Z"
   },
   {
    "duration": 469,
    "start_time": "2022-12-09T05:51:49.254Z"
   },
   {
    "duration": 99,
    "start_time": "2022-12-09T05:51:49.725Z"
   },
   {
    "duration": 29,
    "start_time": "2022-12-09T05:51:49.826Z"
   },
   {
    "duration": 6,
    "start_time": "2022-12-09T05:51:49.857Z"
   },
   {
    "duration": 211421,
    "start_time": "2022-12-09T05:51:49.864Z"
   },
   {
    "duration": 14,
    "start_time": "2022-12-09T05:55:21.287Z"
   },
   {
    "duration": 19,
    "start_time": "2022-12-09T05:55:21.302Z"
   },
   {
    "duration": 9,
    "start_time": "2022-12-09T05:55:21.323Z"
   },
   {
    "duration": 359,
    "start_time": "2022-12-09T05:55:21.334Z"
   },
   {
    "duration": 5,
    "start_time": "2022-12-09T05:55:21.694Z"
   },
   {
    "duration": 245,
    "start_time": "2022-12-09T05:55:21.701Z"
   },
   {
    "duration": 5,
    "start_time": "2022-12-09T05:55:21.948Z"
   },
   {
    "duration": 8,
    "start_time": "2022-12-09T05:55:21.954Z"
   },
   {
    "duration": 5,
    "start_time": "2022-12-09T05:55:21.964Z"
   },
   {
    "duration": 7579,
    "start_time": "2022-12-09T06:30:39.279Z"
   },
   {
    "duration": 812,
    "start_time": "2022-12-09T06:30:46.861Z"
   },
   {
    "duration": 15,
    "start_time": "2022-12-09T06:30:47.675Z"
   },
   {
    "duration": 9,
    "start_time": "2022-12-09T06:30:47.692Z"
   },
   {
    "duration": 20,
    "start_time": "2022-12-09T06:30:47.702Z"
   },
   {
    "duration": 11,
    "start_time": "2022-12-09T06:30:47.723Z"
   },
   {
    "duration": 336,
    "start_time": "2022-12-09T06:30:47.736Z"
   },
   {
    "duration": 394,
    "start_time": "2022-12-09T06:30:48.074Z"
   },
   {
    "duration": 377,
    "start_time": "2022-12-09T06:30:48.469Z"
   },
   {
    "duration": 385,
    "start_time": "2022-12-09T06:30:48.849Z"
   },
   {
    "duration": 216,
    "start_time": "2022-12-09T06:30:49.236Z"
   },
   {
    "duration": 21,
    "start_time": "2022-12-09T06:30:49.454Z"
   },
   {
    "duration": 8,
    "start_time": "2022-12-09T06:30:49.476Z"
   },
   {
    "duration": 40,
    "start_time": "2022-12-09T06:30:49.485Z"
   },
   {
    "duration": 81,
    "start_time": "2022-12-09T06:30:49.527Z"
   },
   {
    "duration": 86,
    "start_time": "2022-12-09T06:30:49.609Z"
   },
   {
    "duration": 31,
    "start_time": "2022-12-09T06:30:49.698Z"
   },
   {
    "duration": 5649,
    "start_time": "2022-12-09T06:30:49.731Z"
   },
   {
    "duration": 67,
    "start_time": "2022-12-09T06:30:55.382Z"
   },
   {
    "duration": 70,
    "start_time": "2022-12-09T06:30:55.451Z"
   },
   {
    "duration": 456,
    "start_time": "2022-12-09T06:30:55.523Z"
   },
   {
    "duration": 5,
    "start_time": "2022-12-09T06:30:55.981Z"
   },
   {
    "duration": 1573,
    "start_time": "2022-12-09T06:30:55.988Z"
   },
   {
    "duration": 666,
    "start_time": "2022-12-09T06:30:57.564Z"
   },
   {
    "duration": 21,
    "start_time": "2022-12-09T06:30:58.232Z"
   },
   {
    "duration": 17,
    "start_time": "2022-12-09T06:30:58.256Z"
   },
   {
    "duration": 76,
    "start_time": "2022-12-09T06:30:58.275Z"
   },
   {
    "duration": 1642,
    "start_time": "2022-12-09T06:30:58.356Z"
   },
   {
    "duration": 1336,
    "start_time": "2022-12-09T06:31:00.000Z"
   },
   {
    "duration": 234,
    "start_time": "2022-12-09T06:31:01.338Z"
   },
   {
    "duration": 25,
    "start_time": "2022-12-09T06:31:01.574Z"
   },
   {
    "duration": 53,
    "start_time": "2022-12-09T06:31:01.600Z"
   },
   {
    "duration": 1541,
    "start_time": "2022-12-09T06:31:01.655Z"
   },
   {
    "duration": 47,
    "start_time": "2022-12-09T06:31:03.199Z"
   },
   {
    "duration": 18,
    "start_time": "2022-12-09T06:31:03.248Z"
   },
   {
    "duration": 516,
    "start_time": "2022-12-09T06:31:03.268Z"
   },
   {
    "duration": 50,
    "start_time": "2022-12-09T06:31:03.786Z"
   },
   {
    "duration": 17,
    "start_time": "2022-12-09T06:31:03.838Z"
   },
   {
    "duration": 92,
    "start_time": "2022-12-09T06:31:03.857Z"
   },
   {
    "duration": 10,
    "start_time": "2022-12-09T06:31:03.951Z"
   },
   {
    "duration": 60,
    "start_time": "2022-12-09T06:31:03.962Z"
   },
   {
    "duration": 47,
    "start_time": "2022-12-09T06:31:04.024Z"
   },
   {
    "duration": 16,
    "start_time": "2022-12-09T06:31:04.073Z"
   },
   {
    "duration": 1770,
    "start_time": "2022-12-09T06:31:04.090Z"
   },
   {
    "duration": 84,
    "start_time": "2022-12-09T06:31:05.862Z"
   },
   {
    "duration": 15,
    "start_time": "2022-12-09T06:31:05.948Z"
   },
   {
    "duration": 81,
    "start_time": "2022-12-09T06:31:05.965Z"
   },
   {
    "duration": 1948,
    "start_time": "2022-12-09T06:31:06.048Z"
   },
   {
    "duration": 68,
    "start_time": "2022-12-09T06:31:07.999Z"
   },
   {
    "duration": 1343,
    "start_time": "2022-12-09T06:31:08.121Z"
   },
   {
    "duration": 102,
    "start_time": "2022-12-09T06:31:09.466Z"
   },
   {
    "duration": 157,
    "start_time": "2022-12-09T06:31:09.621Z"
   },
   {
    "duration": 454,
    "start_time": "2022-12-09T06:31:09.779Z"
   },
   {
    "duration": 103,
    "start_time": "2022-12-09T06:31:10.235Z"
   },
   {
    "duration": 28,
    "start_time": "2022-12-09T06:31:10.340Z"
   },
   {
    "duration": 29,
    "start_time": "2022-12-09T06:31:10.370Z"
   },
   {
    "duration": 230339,
    "start_time": "2022-12-09T06:31:10.401Z"
   },
   {
    "duration": 15,
    "start_time": "2022-12-09T06:35:00.742Z"
   },
   {
    "duration": 23,
    "start_time": "2022-12-09T06:35:00.759Z"
   },
   {
    "duration": 44,
    "start_time": "2022-12-09T06:35:00.784Z"
   },
   {
    "duration": 368,
    "start_time": "2022-12-09T06:35:00.830Z"
   },
   {
    "duration": 5,
    "start_time": "2022-12-09T06:35:01.200Z"
   },
   {
    "duration": 300,
    "start_time": "2022-12-09T06:35:01.207Z"
   },
   {
    "duration": 5,
    "start_time": "2022-12-09T06:35:01.508Z"
   },
   {
    "duration": 41,
    "start_time": "2022-12-09T06:35:01.521Z"
   },
   {
    "duration": 45,
    "start_time": "2022-12-09T06:35:01.564Z"
   },
   {
    "duration": 190,
    "start_time": "2022-12-09T06:43:23.442Z"
   },
   {
    "duration": 35,
    "start_time": "2022-12-09T06:43:40.140Z"
   },
   {
    "duration": 6154,
    "start_time": "2022-12-09T06:43:51.929Z"
   },
   {
    "duration": 720,
    "start_time": "2022-12-09T06:43:58.086Z"
   },
   {
    "duration": 14,
    "start_time": "2022-12-09T06:43:58.808Z"
   },
   {
    "duration": 5,
    "start_time": "2022-12-09T06:43:58.824Z"
   },
   {
    "duration": 14,
    "start_time": "2022-12-09T06:43:58.831Z"
   },
   {
    "duration": 11,
    "start_time": "2022-12-09T06:43:58.847Z"
   },
   {
    "duration": 340,
    "start_time": "2022-12-09T06:43:58.860Z"
   },
   {
    "duration": 326,
    "start_time": "2022-12-09T06:43:59.202Z"
   },
   {
    "duration": 376,
    "start_time": "2022-12-09T06:43:59.530Z"
   },
   {
    "duration": 393,
    "start_time": "2022-12-09T06:43:59.909Z"
   },
   {
    "duration": 228,
    "start_time": "2022-12-09T06:44:00.304Z"
   },
   {
    "duration": 20,
    "start_time": "2022-12-09T06:44:00.534Z"
   },
   {
    "duration": 22,
    "start_time": "2022-12-09T06:44:00.556Z"
   },
   {
    "duration": 43,
    "start_time": "2022-12-09T06:44:00.580Z"
   },
   {
    "duration": 95,
    "start_time": "2022-12-09T06:44:00.625Z"
   },
   {
    "duration": 86,
    "start_time": "2022-12-09T06:44:00.721Z"
   },
   {
    "duration": 33,
    "start_time": "2022-12-09T06:44:00.809Z"
   },
   {
    "duration": 5870,
    "start_time": "2022-12-09T06:44:00.844Z"
   },
   {
    "duration": 53,
    "start_time": "2022-12-09T06:44:06.716Z"
   },
   {
    "duration": 61,
    "start_time": "2022-12-09T06:44:06.771Z"
   },
   {
    "duration": 143,
    "start_time": "2022-12-09T06:44:06.833Z"
   },
   {
    "duration": 6,
    "start_time": "2022-12-09T06:44:06.977Z"
   },
   {
    "duration": 1555,
    "start_time": "2022-12-09T06:44:06.984Z"
   },
   {
    "duration": 626,
    "start_time": "2022-12-09T06:44:08.542Z"
   },
   {
    "duration": 17,
    "start_time": "2022-12-09T06:44:09.170Z"
   },
   {
    "duration": 45,
    "start_time": "2022-12-09T06:44:09.189Z"
   },
   {
    "duration": 19,
    "start_time": "2022-12-09T06:44:32.585Z"
   },
   {
    "duration": 46,
    "start_time": "2022-12-09T06:45:07.948Z"
   },
   {
    "duration": 20,
    "start_time": "2022-12-09T06:45:12.109Z"
   },
   {
    "duration": 8,
    "start_time": "2022-12-09T06:45:53.114Z"
   },
   {
    "duration": 12,
    "start_time": "2022-12-09T06:45:53.123Z"
   },
   {
    "duration": 18,
    "start_time": "2022-12-09T06:46:02.826Z"
   },
   {
    "duration": 6,
    "start_time": "2022-12-09T06:46:17.889Z"
   },
   {
    "duration": 10,
    "start_time": "2022-12-09T06:47:12.046Z"
   },
   {
    "duration": 7,
    "start_time": "2022-12-09T06:49:44.877Z"
   },
   {
    "duration": 8,
    "start_time": "2022-12-09T06:49:46.989Z"
   },
   {
    "duration": 13,
    "start_time": "2022-12-09T06:49:57.238Z"
   },
   {
    "duration": 59,
    "start_time": "2022-12-09T06:50:37.612Z"
   },
   {
    "duration": 6105,
    "start_time": "2022-12-09T06:51:03.942Z"
   },
   {
    "duration": 720,
    "start_time": "2022-12-09T06:51:10.050Z"
   },
   {
    "duration": 13,
    "start_time": "2022-12-09T06:51:10.772Z"
   },
   {
    "duration": 5,
    "start_time": "2022-12-09T06:51:10.787Z"
   },
   {
    "duration": 14,
    "start_time": "2022-12-09T06:51:10.793Z"
   },
   {
    "duration": 11,
    "start_time": "2022-12-09T06:51:10.821Z"
   },
   {
    "duration": 341,
    "start_time": "2022-12-09T06:51:10.834Z"
   },
   {
    "duration": 338,
    "start_time": "2022-12-09T06:51:11.177Z"
   },
   {
    "duration": 643,
    "start_time": "2022-12-09T06:51:11.518Z"
   },
   {
    "duration": 799,
    "start_time": "2022-12-09T06:51:12.163Z"
   },
   {
    "duration": 505,
    "start_time": "2022-12-09T06:51:12.964Z"
   },
   {
    "duration": 21,
    "start_time": "2022-12-09T06:51:13.521Z"
   },
   {
    "duration": 8,
    "start_time": "2022-12-09T06:51:13.543Z"
   },
   {
    "duration": 70,
    "start_time": "2022-12-09T06:51:13.552Z"
   },
   {
    "duration": 128,
    "start_time": "2022-12-09T06:51:13.624Z"
   },
   {
    "duration": 179,
    "start_time": "2022-12-09T06:51:13.754Z"
   },
   {
    "duration": 23,
    "start_time": "2022-12-09T06:51:13.935Z"
   },
   {
    "duration": 9029,
    "start_time": "2022-12-09T06:51:13.959Z"
   },
   {
    "duration": 53,
    "start_time": "2022-12-09T06:51:22.989Z"
   },
   {
    "duration": 263,
    "start_time": "2022-12-09T06:51:23.044Z"
   },
   {
    "duration": 155,
    "start_time": "2022-12-09T06:51:23.309Z"
   },
   {
    "duration": 6,
    "start_time": "2022-12-09T06:51:23.466Z"
   },
   {
    "duration": 1461,
    "start_time": "2022-12-09T06:51:23.474Z"
   },
   {
    "duration": 488,
    "start_time": "2022-12-09T06:51:24.938Z"
   },
   {
    "duration": 18,
    "start_time": "2022-12-09T06:51:25.428Z"
   },
   {
    "duration": 15,
    "start_time": "2022-12-09T06:51:25.448Z"
   },
   {
    "duration": 34,
    "start_time": "2022-12-09T06:52:02.980Z"
   },
   {
    "duration": 12,
    "start_time": "2022-12-09T06:52:03.509Z"
   },
   {
    "duration": 19,
    "start_time": "2022-12-09T06:54:20.318Z"
   },
   {
    "duration": 10,
    "start_time": "2022-12-09T06:56:45.571Z"
   },
   {
    "duration": 6111,
    "start_time": "2022-12-09T06:56:49.265Z"
   },
   {
    "duration": 750,
    "start_time": "2022-12-09T06:56:55.380Z"
   },
   {
    "duration": 13,
    "start_time": "2022-12-09T06:56:56.132Z"
   },
   {
    "duration": 6,
    "start_time": "2022-12-09T06:56:56.147Z"
   },
   {
    "duration": 14,
    "start_time": "2022-12-09T06:56:56.154Z"
   },
   {
    "duration": 13,
    "start_time": "2022-12-09T06:56:56.170Z"
   },
   {
    "duration": 347,
    "start_time": "2022-12-09T06:56:56.185Z"
   },
   {
    "duration": 331,
    "start_time": "2022-12-09T06:56:56.533Z"
   },
   {
    "duration": 372,
    "start_time": "2022-12-09T06:56:56.866Z"
   },
   {
    "duration": 435,
    "start_time": "2022-12-09T06:56:57.241Z"
   },
   {
    "duration": 222,
    "start_time": "2022-12-09T06:56:57.678Z"
   },
   {
    "duration": 31,
    "start_time": "2022-12-09T06:56:57.902Z"
   },
   {
    "duration": 9,
    "start_time": "2022-12-09T06:56:57.936Z"
   },
   {
    "duration": 27,
    "start_time": "2022-12-09T06:56:57.947Z"
   },
   {
    "duration": 87,
    "start_time": "2022-12-09T06:56:57.976Z"
   },
   {
    "duration": 89,
    "start_time": "2022-12-09T06:56:58.065Z"
   },
   {
    "duration": 23,
    "start_time": "2022-12-09T06:56:58.156Z"
   },
   {
    "duration": 6081,
    "start_time": "2022-12-09T06:56:58.181Z"
   },
   {
    "duration": 68,
    "start_time": "2022-12-09T06:57:04.264Z"
   },
   {
    "duration": 54,
    "start_time": "2022-12-09T06:57:04.334Z"
   },
   {
    "duration": 166,
    "start_time": "2022-12-09T06:57:04.390Z"
   },
   {
    "duration": 6,
    "start_time": "2022-12-09T06:57:04.558Z"
   },
   {
    "duration": 1578,
    "start_time": "2022-12-09T06:57:04.565Z"
   },
   {
    "duration": 623,
    "start_time": "2022-12-09T06:57:06.145Z"
   },
   {
    "duration": 18,
    "start_time": "2022-12-09T06:57:06.770Z"
   },
   {
    "duration": 23,
    "start_time": "2022-12-09T06:57:42.866Z"
   },
   {
    "duration": 20,
    "start_time": "2022-12-09T06:57:57.657Z"
   },
   {
    "duration": 266,
    "start_time": "2022-12-09T06:58:13.871Z"
   },
   {
    "duration": 1453,
    "start_time": "2022-12-09T06:58:16.800Z"
   },
   {
    "duration": 38,
    "start_time": "2022-12-09T06:58:44.191Z"
   },
   {
    "duration": 1871,
    "start_time": "2022-12-09T07:32:57.568Z"
   },
   {
    "duration": 59,
    "start_time": "2022-12-09T07:35:55.465Z"
   },
   {
    "duration": 15,
    "start_time": "2022-12-09T07:35:59.292Z"
   },
   {
    "duration": 18,
    "start_time": "2022-12-09T07:37:10.316Z"
   },
   {
    "duration": 4,
    "start_time": "2022-12-09T07:38:57.540Z"
   },
   {
    "duration": 147,
    "start_time": "2022-12-09T07:39:04.623Z"
   },
   {
    "duration": 60,
    "start_time": "2022-12-09T07:39:35.212Z"
   },
   {
    "duration": 66,
    "start_time": "2022-12-09T07:40:05.855Z"
   },
   {
    "duration": 52,
    "start_time": "2022-12-09T07:40:32.468Z"
   },
   {
    "duration": 138,
    "start_time": "2022-12-09T07:40:36.619Z"
   },
   {
    "duration": 141,
    "start_time": "2022-12-09T07:40:46.825Z"
   },
   {
    "duration": 16,
    "start_time": "2022-12-09T07:40:54.579Z"
   },
   {
    "duration": 2028,
    "start_time": "2022-12-09T07:41:25.080Z"
   },
   {
    "duration": 19,
    "start_time": "2022-12-09T07:56:35.980Z"
   },
   {
    "duration": 19,
    "start_time": "2022-12-09T07:56:36.739Z"
   },
   {
    "duration": 10,
    "start_time": "2022-12-09T07:56:42.802Z"
   },
   {
    "duration": 6225,
    "start_time": "2022-12-09T07:58:44.856Z"
   },
   {
    "duration": 772,
    "start_time": "2022-12-09T07:58:51.084Z"
   },
   {
    "duration": 12,
    "start_time": "2022-12-09T07:58:51.858Z"
   },
   {
    "duration": 18,
    "start_time": "2022-12-09T07:58:51.872Z"
   },
   {
    "duration": 28,
    "start_time": "2022-12-09T07:58:51.892Z"
   },
   {
    "duration": 20,
    "start_time": "2022-12-09T07:58:51.922Z"
   },
   {
    "duration": 351,
    "start_time": "2022-12-09T07:58:51.944Z"
   },
   {
    "duration": 345,
    "start_time": "2022-12-09T07:58:52.297Z"
   },
   {
    "duration": 399,
    "start_time": "2022-12-09T07:58:52.644Z"
   },
   {
    "duration": 414,
    "start_time": "2022-12-09T07:58:53.046Z"
   },
   {
    "duration": 228,
    "start_time": "2022-12-09T07:58:53.461Z"
   },
   {
    "duration": 21,
    "start_time": "2022-12-09T07:58:53.691Z"
   },
   {
    "duration": 14,
    "start_time": "2022-12-09T07:58:53.713Z"
   },
   {
    "duration": 42,
    "start_time": "2022-12-09T07:58:53.729Z"
   },
   {
    "duration": 69,
    "start_time": "2022-12-09T07:58:53.773Z"
   },
   {
    "duration": 79,
    "start_time": "2022-12-09T07:58:53.844Z"
   },
   {
    "duration": 24,
    "start_time": "2022-12-09T07:58:53.924Z"
   },
   {
    "duration": 6113,
    "start_time": "2022-12-09T07:58:53.950Z"
   },
   {
    "duration": 61,
    "start_time": "2022-12-09T07:59:00.065Z"
   },
   {
    "duration": 52,
    "start_time": "2022-12-09T07:59:00.128Z"
   },
   {
    "duration": 163,
    "start_time": "2022-12-09T07:59:00.182Z"
   },
   {
    "duration": 6,
    "start_time": "2022-12-09T07:59:00.346Z"
   },
   {
    "duration": 1657,
    "start_time": "2022-12-09T07:59:00.353Z"
   },
   {
    "duration": 633,
    "start_time": "2022-12-09T07:59:02.012Z"
   },
   {
    "duration": 19,
    "start_time": "2022-12-09T07:59:02.647Z"
   },
   {
    "duration": 64,
    "start_time": "2022-12-09T07:59:02.668Z"
   },
   {
    "duration": 38,
    "start_time": "2022-12-09T07:59:48.767Z"
   },
   {
    "duration": 21,
    "start_time": "2022-12-09T07:59:58.176Z"
   },
   {
    "duration": 34,
    "start_time": "2022-12-09T08:04:22.915Z"
   },
   {
    "duration": 27,
    "start_time": "2022-12-09T08:08:07.207Z"
   },
   {
    "duration": 38,
    "start_time": "2022-12-09T08:08:51.942Z"
   },
   {
    "duration": 23,
    "start_time": "2022-12-09T08:09:01.359Z"
   },
   {
    "duration": 15,
    "start_time": "2022-12-09T08:10:38.840Z"
   },
   {
    "duration": 7,
    "start_time": "2022-12-09T08:10:42.904Z"
   },
   {
    "duration": 9,
    "start_time": "2022-12-09T08:10:50.200Z"
   },
   {
    "duration": 6224,
    "start_time": "2022-12-09T08:10:54.901Z"
   },
   {
    "duration": 769,
    "start_time": "2022-12-09T08:11:01.127Z"
   },
   {
    "duration": 13,
    "start_time": "2022-12-09T08:11:01.898Z"
   },
   {
    "duration": 27,
    "start_time": "2022-12-09T08:11:01.922Z"
   },
   {
    "duration": 33,
    "start_time": "2022-12-09T08:11:01.951Z"
   },
   {
    "duration": 28,
    "start_time": "2022-12-09T08:11:01.986Z"
   },
   {
    "duration": 353,
    "start_time": "2022-12-09T08:11:02.016Z"
   },
   {
    "duration": 347,
    "start_time": "2022-12-09T08:11:02.371Z"
   },
   {
    "duration": 405,
    "start_time": "2022-12-09T08:11:02.722Z"
   },
   {
    "duration": 445,
    "start_time": "2022-12-09T08:11:03.129Z"
   },
   {
    "duration": 222,
    "start_time": "2022-12-09T08:11:03.576Z"
   },
   {
    "duration": 28,
    "start_time": "2022-12-09T08:11:03.800Z"
   },
   {
    "duration": 9,
    "start_time": "2022-12-09T08:11:03.829Z"
   },
   {
    "duration": 20,
    "start_time": "2022-12-09T08:11:03.840Z"
   },
   {
    "duration": 98,
    "start_time": "2022-12-09T08:11:03.862Z"
   },
   {
    "duration": 89,
    "start_time": "2022-12-09T08:11:03.961Z"
   },
   {
    "duration": 21,
    "start_time": "2022-12-09T08:11:04.052Z"
   },
   {
    "duration": 6151,
    "start_time": "2022-12-09T08:11:04.075Z"
   },
   {
    "duration": 49,
    "start_time": "2022-12-09T08:11:10.227Z"
   },
   {
    "duration": 62,
    "start_time": "2022-12-09T08:11:10.278Z"
   },
   {
    "duration": 151,
    "start_time": "2022-12-09T08:11:10.341Z"
   },
   {
    "duration": 5,
    "start_time": "2022-12-09T08:11:10.494Z"
   },
   {
    "duration": 1526,
    "start_time": "2022-12-09T08:11:10.500Z"
   },
   {
    "duration": 762,
    "start_time": "2022-12-09T08:11:12.029Z"
   },
   {
    "duration": 42,
    "start_time": "2022-12-09T08:11:12.794Z"
   },
   {
    "duration": 25,
    "start_time": "2022-12-09T08:11:12.838Z"
   },
   {
    "duration": 15,
    "start_time": "2022-12-09T08:11:57.664Z"
   },
   {
    "duration": 8,
    "start_time": "2022-12-09T08:12:00.109Z"
   },
   {
    "duration": 10,
    "start_time": "2022-12-09T08:12:34.011Z"
   },
   {
    "duration": 713,
    "start_time": "2022-12-09T08:12:43.402Z"
   },
   {
    "duration": 366,
    "start_time": "2022-12-09T08:12:48.936Z"
   },
   {
    "duration": 30,
    "start_time": "2022-12-09T08:12:52.032Z"
   },
   {
    "duration": 3,
    "start_time": "2022-12-09T08:13:02.544Z"
   },
   {
    "duration": 331,
    "start_time": "2022-12-09T08:13:07.639Z"
   },
   {
    "duration": 24,
    "start_time": "2022-12-09T08:13:21.372Z"
   },
   {
    "duration": 12,
    "start_time": "2022-12-09T08:13:41.142Z"
   },
   {
    "duration": 25,
    "start_time": "2022-12-09T08:14:09.911Z"
   },
   {
    "duration": 56,
    "start_time": "2022-12-09T08:14:45.195Z"
   },
   {
    "duration": 17,
    "start_time": "2022-12-09T08:14:50.404Z"
   },
   {
    "duration": 58,
    "start_time": "2022-12-09T08:14:57.601Z"
   },
   {
    "duration": 42,
    "start_time": "2022-12-09T08:15:07.913Z"
   },
   {
    "duration": 22,
    "start_time": "2022-12-09T08:15:28.215Z"
   },
   {
    "duration": 42,
    "start_time": "2022-12-09T08:16:36.748Z"
   },
   {
    "duration": 49,
    "start_time": "2022-12-09T08:16:39.403Z"
   },
   {
    "duration": 54,
    "start_time": "2022-12-09T08:16:42.994Z"
   },
   {
    "duration": 47,
    "start_time": "2022-12-09T08:16:53.734Z"
   },
   {
    "duration": 42,
    "start_time": "2022-12-09T08:17:30.186Z"
   },
   {
    "duration": 4,
    "start_time": "2022-12-09T08:22:36.462Z"
   },
   {
    "duration": 11,
    "start_time": "2022-12-09T08:22:41.174Z"
   },
   {
    "duration": 312,
    "start_time": "2022-12-09T08:22:59.264Z"
   },
   {
    "duration": 34,
    "start_time": "2022-12-09T08:23:08.244Z"
   },
   {
    "duration": 10,
    "start_time": "2022-12-09T08:23:17.764Z"
   },
   {
    "duration": 12,
    "start_time": "2022-12-09T08:23:21.700Z"
   },
   {
    "duration": 6302,
    "start_time": "2022-12-09T08:23:31.032Z"
   },
   {
    "duration": 768,
    "start_time": "2022-12-09T08:23:37.336Z"
   },
   {
    "duration": 16,
    "start_time": "2022-12-09T08:23:38.106Z"
   },
   {
    "duration": 3,
    "start_time": "2022-12-09T08:23:38.125Z"
   },
   {
    "duration": 15,
    "start_time": "2022-12-09T08:23:38.129Z"
   },
   {
    "duration": 16,
    "start_time": "2022-12-09T08:23:38.146Z"
   },
   {
    "duration": 345,
    "start_time": "2022-12-09T08:23:38.164Z"
   },
   {
    "duration": 346,
    "start_time": "2022-12-09T08:23:38.511Z"
   },
   {
    "duration": 389,
    "start_time": "2022-12-09T08:23:38.858Z"
   },
   {
    "duration": 375,
    "start_time": "2022-12-09T08:23:39.249Z"
   },
   {
    "duration": 212,
    "start_time": "2022-12-09T08:23:39.626Z"
   },
   {
    "duration": 21,
    "start_time": "2022-12-09T08:23:39.840Z"
   },
   {
    "duration": 8,
    "start_time": "2022-12-09T08:23:39.863Z"
   },
   {
    "duration": 20,
    "start_time": "2022-12-09T08:23:39.872Z"
   },
   {
    "duration": 97,
    "start_time": "2022-12-09T08:23:39.894Z"
   },
   {
    "duration": 92,
    "start_time": "2022-12-09T08:23:39.993Z"
   },
   {
    "duration": 22,
    "start_time": "2022-12-09T08:23:40.087Z"
   },
   {
    "duration": 6165,
    "start_time": "2022-12-09T08:23:40.110Z"
   },
   {
    "duration": 54,
    "start_time": "2022-12-09T08:23:46.276Z"
   },
   {
    "duration": 50,
    "start_time": "2022-12-09T08:23:46.332Z"
   },
   {
    "duration": 167,
    "start_time": "2022-12-09T08:23:46.384Z"
   },
   {
    "duration": 6,
    "start_time": "2022-12-09T08:23:46.552Z"
   },
   {
    "duration": 1674,
    "start_time": "2022-12-09T08:23:46.560Z"
   },
   {
    "duration": 641,
    "start_time": "2022-12-09T08:23:48.237Z"
   },
   {
    "duration": 41,
    "start_time": "2022-12-09T08:23:48.881Z"
   },
   {
    "duration": 24,
    "start_time": "2022-12-09T08:23:48.924Z"
   },
   {
    "duration": 96,
    "start_time": "2022-12-09T08:23:48.950Z"
   },
   {
    "duration": 21,
    "start_time": "2022-12-09T08:25:40.786Z"
   },
   {
    "duration": 29,
    "start_time": "2022-12-09T08:27:11.142Z"
   },
   {
    "duration": 39,
    "start_time": "2022-12-09T08:27:26.461Z"
   },
   {
    "duration": 51,
    "start_time": "2022-12-09T08:28:08.323Z"
   },
   {
    "duration": 253,
    "start_time": "2022-12-09T08:28:12.322Z"
   },
   {
    "duration": 1504,
    "start_time": "2022-12-09T08:28:13.755Z"
   },
   {
    "duration": 1529,
    "start_time": "2022-12-09T08:28:31.546Z"
   },
   {
    "duration": 259,
    "start_time": "2022-12-09T08:28:33.077Z"
   },
   {
    "duration": 6346,
    "start_time": "2022-12-09T08:29:07.146Z"
   },
   {
    "duration": 749,
    "start_time": "2022-12-09T08:29:13.495Z"
   },
   {
    "duration": 12,
    "start_time": "2022-12-09T08:29:14.246Z"
   },
   {
    "duration": 14,
    "start_time": "2022-12-09T08:29:14.261Z"
   },
   {
    "duration": 23,
    "start_time": "2022-12-09T08:29:14.277Z"
   },
   {
    "duration": 25,
    "start_time": "2022-12-09T08:29:14.302Z"
   },
   {
    "duration": 356,
    "start_time": "2022-12-09T08:29:14.329Z"
   },
   {
    "duration": 344,
    "start_time": "2022-12-09T08:29:14.687Z"
   },
   {
    "duration": 441,
    "start_time": "2022-12-09T08:29:15.033Z"
   },
   {
    "duration": 417,
    "start_time": "2022-12-09T08:29:15.476Z"
   },
   {
    "duration": 231,
    "start_time": "2022-12-09T08:29:15.894Z"
   },
   {
    "duration": 22,
    "start_time": "2022-12-09T08:29:16.127Z"
   },
   {
    "duration": 8,
    "start_time": "2022-12-09T08:29:16.151Z"
   },
   {
    "duration": 19,
    "start_time": "2022-12-09T08:29:16.161Z"
   },
   {
    "duration": 101,
    "start_time": "2022-12-09T08:29:16.182Z"
   },
   {
    "duration": 89,
    "start_time": "2022-12-09T08:29:16.285Z"
   },
   {
    "duration": 28,
    "start_time": "2022-12-09T08:29:16.376Z"
   },
   {
    "duration": 6034,
    "start_time": "2022-12-09T08:29:16.406Z"
   },
   {
    "duration": 54,
    "start_time": "2022-12-09T08:29:22.442Z"
   },
   {
    "duration": 63,
    "start_time": "2022-12-09T08:29:22.498Z"
   },
   {
    "duration": 158,
    "start_time": "2022-12-09T08:29:22.563Z"
   },
   {
    "duration": 5,
    "start_time": "2022-12-09T08:29:22.723Z"
   },
   {
    "duration": 1611,
    "start_time": "2022-12-09T08:29:22.730Z"
   },
   {
    "duration": 640,
    "start_time": "2022-12-09T08:29:24.343Z"
   },
   {
    "duration": 41,
    "start_time": "2022-12-09T08:29:24.985Z"
   },
   {
    "duration": 21,
    "start_time": "2022-12-09T08:29:25.028Z"
   },
   {
    "duration": 97,
    "start_time": "2022-12-09T08:29:25.051Z"
   },
   {
    "duration": 34,
    "start_time": "2022-12-09T08:30:54.688Z"
   },
   {
    "duration": 288,
    "start_time": "2022-12-09T08:30:55.228Z"
   },
   {
    "duration": 1295,
    "start_time": "2022-12-09T08:30:56.635Z"
   },
   {
    "duration": 1354,
    "start_time": "2022-12-09T08:30:59.227Z"
   },
   {
    "duration": 154,
    "start_time": "2022-12-09T08:31:00.676Z"
   },
   {
    "duration": 1431,
    "start_time": "2022-12-09T08:39:28.540Z"
   },
   {
    "duration": 212,
    "start_time": "2022-12-09T08:39:29.973Z"
   },
   {
    "duration": 26,
    "start_time": "2022-12-09T08:39:31.054Z"
   },
   {
    "duration": 16,
    "start_time": "2022-12-09T08:39:37.218Z"
   },
   {
    "duration": 1365,
    "start_time": "2022-12-09T08:39:37.452Z"
   },
   {
    "duration": 34,
    "start_time": "2022-12-09T08:39:38.821Z"
   },
   {
    "duration": 71,
    "start_time": "2022-12-09T08:39:38.857Z"
   },
   {
    "duration": 422,
    "start_time": "2022-12-09T08:39:38.999Z"
   },
   {
    "duration": 37,
    "start_time": "2022-12-09T08:39:39.423Z"
   },
   {
    "duration": 16,
    "start_time": "2022-12-09T08:39:39.625Z"
   },
   {
    "duration": 34,
    "start_time": "2022-12-09T08:39:40.164Z"
   },
   {
    "duration": 11,
    "start_time": "2022-12-09T08:39:40.345Z"
   },
   {
    "duration": 7467,
    "start_time": "2022-12-09T08:40:07.474Z"
   },
   {
    "duration": 878,
    "start_time": "2022-12-09T08:40:14.944Z"
   },
   {
    "duration": 14,
    "start_time": "2022-12-09T08:40:15.824Z"
   },
   {
    "duration": 16,
    "start_time": "2022-12-09T08:40:15.840Z"
   },
   {
    "duration": 15,
    "start_time": "2022-12-09T08:40:15.857Z"
   },
   {
    "duration": 33,
    "start_time": "2022-12-09T08:40:15.873Z"
   },
   {
    "duration": 341,
    "start_time": "2022-12-09T08:40:15.907Z"
   },
   {
    "duration": 387,
    "start_time": "2022-12-09T08:40:16.250Z"
   },
   {
    "duration": 402,
    "start_time": "2022-12-09T08:40:16.638Z"
   },
   {
    "duration": 405,
    "start_time": "2022-12-09T08:40:17.043Z"
   },
   {
    "duration": 229,
    "start_time": "2022-12-09T08:40:17.450Z"
   },
   {
    "duration": 24,
    "start_time": "2022-12-09T08:40:17.681Z"
   },
   {
    "duration": 19,
    "start_time": "2022-12-09T08:40:17.708Z"
   },
   {
    "duration": 29,
    "start_time": "2022-12-09T08:40:17.729Z"
   },
   {
    "duration": 88,
    "start_time": "2022-12-09T08:40:17.760Z"
   },
   {
    "duration": 92,
    "start_time": "2022-12-09T08:40:17.850Z"
   },
   {
    "duration": 25,
    "start_time": "2022-12-09T08:40:17.944Z"
   },
   {
    "duration": 5980,
    "start_time": "2022-12-09T08:40:17.971Z"
   },
   {
    "duration": 51,
    "start_time": "2022-12-09T08:40:23.953Z"
   },
   {
    "duration": 71,
    "start_time": "2022-12-09T08:40:24.005Z"
   },
   {
    "duration": 465,
    "start_time": "2022-12-09T08:40:24.078Z"
   },
   {
    "duration": 5,
    "start_time": "2022-12-09T08:40:24.545Z"
   },
   {
    "duration": 1688,
    "start_time": "2022-12-09T08:40:24.551Z"
   },
   {
    "duration": 633,
    "start_time": "2022-12-09T08:40:26.242Z"
   },
   {
    "duration": 45,
    "start_time": "2022-12-09T08:40:26.877Z"
   },
   {
    "duration": 21,
    "start_time": "2022-12-09T08:40:26.924Z"
   },
   {
    "duration": 94,
    "start_time": "2022-12-09T08:40:26.947Z"
   },
   {
    "duration": 86,
    "start_time": "2022-12-09T08:40:27.045Z"
   },
   {
    "duration": 288,
    "start_time": "2022-12-09T08:40:27.133Z"
   },
   {
    "duration": 1517,
    "start_time": "2022-12-09T08:40:27.422Z"
   },
   {
    "duration": 1362,
    "start_time": "2022-12-09T08:40:28.942Z"
   },
   {
    "duration": 273,
    "start_time": "2022-12-09T08:40:30.306Z"
   },
   {
    "duration": 42,
    "start_time": "2022-12-09T08:40:30.581Z"
   },
   {
    "duration": 17,
    "start_time": "2022-12-09T08:40:30.624Z"
   },
   {
    "duration": 1433,
    "start_time": "2022-12-09T08:40:30.643Z"
   },
   {
    "duration": 70,
    "start_time": "2022-12-09T08:40:32.078Z"
   },
   {
    "duration": 73,
    "start_time": "2022-12-09T08:40:32.150Z"
   },
   {
    "duration": 562,
    "start_time": "2022-12-09T08:40:32.226Z"
   },
   {
    "duration": 55,
    "start_time": "2022-12-09T08:40:32.790Z"
   },
   {
    "duration": 31,
    "start_time": "2022-12-09T08:40:32.847Z"
   },
   {
    "duration": 79,
    "start_time": "2022-12-09T08:40:32.879Z"
   },
   {
    "duration": 11,
    "start_time": "2022-12-09T08:40:32.959Z"
   },
   {
    "duration": 21,
    "start_time": "2022-12-09T08:40:33.022Z"
   },
   {
    "duration": 59,
    "start_time": "2022-12-09T08:40:33.044Z"
   },
   {
    "duration": 17,
    "start_time": "2022-12-09T08:40:33.105Z"
   },
   {
    "duration": 2005,
    "start_time": "2022-12-09T08:40:33.123Z"
   },
   {
    "duration": 104,
    "start_time": "2022-12-09T08:40:35.130Z"
   },
   {
    "duration": 21,
    "start_time": "2022-12-09T08:40:35.236Z"
   },
   {
    "duration": 94,
    "start_time": "2022-12-09T08:40:35.259Z"
   },
   {
    "duration": 1878,
    "start_time": "2022-12-09T08:40:35.356Z"
   },
   {
    "duration": 104,
    "start_time": "2022-12-09T08:40:37.237Z"
   },
   {
    "duration": 1349,
    "start_time": "2022-12-09T08:40:37.343Z"
   },
   {
    "duration": 144,
    "start_time": "2022-12-09T08:40:38.695Z"
   },
   {
    "duration": 204,
    "start_time": "2022-12-09T08:40:38.840Z"
   },
   {
    "duration": 471,
    "start_time": "2022-12-09T08:40:39.046Z"
   },
   {
    "duration": 123,
    "start_time": "2022-12-09T08:40:39.519Z"
   },
   {
    "duration": 31,
    "start_time": "2022-12-09T08:40:39.644Z"
   },
   {
    "duration": 8,
    "start_time": "2022-12-09T08:40:39.677Z"
   },
   {
    "duration": 212067,
    "start_time": "2022-12-09T08:40:39.687Z"
   },
   {
    "duration": 14,
    "start_time": "2022-12-09T08:44:11.756Z"
   },
   {
    "duration": 24,
    "start_time": "2022-12-09T08:44:11.772Z"
   },
   {
    "duration": 10,
    "start_time": "2022-12-09T08:44:11.798Z"
   },
   {
    "duration": 350,
    "start_time": "2022-12-09T08:44:11.809Z"
   },
   {
    "duration": 5,
    "start_time": "2022-12-09T08:44:12.161Z"
   },
   {
    "duration": 245,
    "start_time": "2022-12-09T08:44:12.167Z"
   },
   {
    "duration": 8,
    "start_time": "2022-12-09T08:44:12.414Z"
   },
   {
    "duration": 19,
    "start_time": "2022-12-09T08:44:12.423Z"
   },
   {
    "duration": 21,
    "start_time": "2022-12-09T08:44:12.443Z"
   },
   {
    "duration": 99,
    "start_time": "2022-12-09T09:01:45.141Z"
   }
  ],
  "kernelspec": {
   "display_name": "Python 3 (ipykernel)",
   "language": "python",
   "name": "python3"
  },
  "language_info": {
   "codemirror_mode": {
    "name": "ipython",
    "version": 3
   },
   "file_extension": ".py",
   "mimetype": "text/x-python",
   "name": "python",
   "nbconvert_exporter": "python",
   "pygments_lexer": "ipython3",
   "version": "3.9.5"
  },
  "toc": {
   "base_numbering": 1,
   "nav_menu": {},
   "number_sections": true,
   "sideBar": true,
   "skip_h1_title": true,
   "title_cell": "Table of Contents",
   "title_sidebar": "Contents",
   "toc_cell": false,
   "toc_position": {},
   "toc_section_display": true,
   "toc_window_display": false
  }
 },
 "nbformat": 4,
 "nbformat_minor": 2
}

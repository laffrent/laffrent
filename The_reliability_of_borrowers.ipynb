{
 "cells": [
  {
   "cell_type": "markdown",
   "id": "c81daeeb",
   "metadata": {
    "deletable": false,
    "id": "c81daeeb"
   },
   "source": [
    "# Исследование надежности заемщиков\n"
   ]
  },
  {
   "attachments": {},
   "cell_type": "markdown",
   "id": "827c20bf",
   "metadata": {
    "id": "827c20bf"
   },
   "source": [
    "Заказчик — кредитный отдел банка. Нужно разобраться, влияет ли семейное положение и количество детей клиента на факт погашения кредита в срок. Входные данные от банка — статистика о платёжеспособности клиентов.\n",
    "\n",
    "Результаты исследования будут учтены при построении модели кредитного скоринга — специальной системы, которая оценивает способность потенциального заёмщика вернуть кредит банку.\n",
    "\n",
    "**Описание данных**\\\n",
    "`children` — количество детей в семье\\\n",
    "`days_employed` — общий трудовой стаж в днях\\\n",
    "`dob_years` — возраст клиента в годах\\\n",
    "`education` — уровень образования клиента\\\n",
    "`education_id` — идентификатор уровня образования\\\n",
    "`family_status` — семейное положение\\\n",
    "`family_status_id` — идентификатор семейного положения\\\n",
    "`gender` — пол клиента\\\n",
    "`income_type` — тип занятости\\\n",
    "`debt` — имел ли задолженность по возврату кредитов\\\n",
    "`total_income` — ежемесячный доход\\\n",
    "`purpose` — цель получения кредита"
   ]
  },
  {
   "attachments": {},
   "cell_type": "markdown",
   "id": "744d7639",
   "metadata": {
    "deletable": false,
    "id": "744d7639"
   },
   "source": [
    "## Изучим общую информацию о данных"
   ]
  },
  {
   "attachments": {},
   "cell_type": "markdown",
   "id": "e7a14c31",
   "metadata": {
    "deletable": false,
    "id": "e7a14c31"
   },
   "source": [
    "**Импортируем библиотеку pandas. Считаем данные из csv-файла в датафрейм и сохраним в переменную `data`.**"
   ]
  },
  {
   "cell_type": "code",
   "execution_count": 1,
   "id": "7bcf75c9",
   "metadata": {
    "deletable": false,
    "id": "7bcf75c9"
   },
   "outputs": [],
   "source": [
    "import pandas as pd\n",
    "import matplotlib.pyplot as plt #импортируем библиотеку Matplotlib для визуального отображения информации\n",
    "\n",
    "try:\n",
    "    data = pd.read_csv('/datasets/data.csv')\n",
    "except:\n",
    "    data = pd.read_csv('/content/drive/MyDrive/data/data.csv')"
   ]
  },
  {
   "attachments": {},
   "cell_type": "markdown",
   "id": "b8038fe3",
   "metadata": {
    "deletable": false,
    "id": "b8038fe3"
   },
   "source": [
    "**Выведем первые 20 строчек датафрейма `data` на экран.**"
   ]
  },
  {
   "cell_type": "code",
   "execution_count": 2,
   "id": "2a7cab99",
   "metadata": {
    "deletable": false,
    "id": "2a7cab99",
    "outputId": "1a8f3ef2-d323-4ec2-ddf7-89670b5944c4"
   },
   "outputs": [
    {
     "data": {
      "text/html": [
       "<div>\n",
       "<style scoped>\n",
       "    .dataframe tbody tr th:only-of-type {\n",
       "        vertical-align: middle;\n",
       "    }\n",
       "\n",
       "    .dataframe tbody tr th {\n",
       "        vertical-align: top;\n",
       "    }\n",
       "\n",
       "    .dataframe thead th {\n",
       "        text-align: right;\n",
       "    }\n",
       "</style>\n",
       "<table border=\"1\" class=\"dataframe\">\n",
       "  <thead>\n",
       "    <tr style=\"text-align: right;\">\n",
       "      <th></th>\n",
       "      <th>children</th>\n",
       "      <th>days_employed</th>\n",
       "      <th>dob_years</th>\n",
       "      <th>education</th>\n",
       "      <th>education_id</th>\n",
       "      <th>family_status</th>\n",
       "      <th>family_status_id</th>\n",
       "      <th>gender</th>\n",
       "      <th>income_type</th>\n",
       "      <th>debt</th>\n",
       "      <th>total_income</th>\n",
       "      <th>purpose</th>\n",
       "    </tr>\n",
       "  </thead>\n",
       "  <tbody>\n",
       "    <tr>\n",
       "      <th>0</th>\n",
       "      <td>1</td>\n",
       "      <td>-8437.673028</td>\n",
       "      <td>42</td>\n",
       "      <td>высшее</td>\n",
       "      <td>0</td>\n",
       "      <td>женат / замужем</td>\n",
       "      <td>0</td>\n",
       "      <td>F</td>\n",
       "      <td>сотрудник</td>\n",
       "      <td>0</td>\n",
       "      <td>253875.639453</td>\n",
       "      <td>покупка жилья</td>\n",
       "    </tr>\n",
       "    <tr>\n",
       "      <th>1</th>\n",
       "      <td>1</td>\n",
       "      <td>-4024.803754</td>\n",
       "      <td>36</td>\n",
       "      <td>среднее</td>\n",
       "      <td>1</td>\n",
       "      <td>женат / замужем</td>\n",
       "      <td>0</td>\n",
       "      <td>F</td>\n",
       "      <td>сотрудник</td>\n",
       "      <td>0</td>\n",
       "      <td>112080.014102</td>\n",
       "      <td>приобретение автомобиля</td>\n",
       "    </tr>\n",
       "    <tr>\n",
       "      <th>2</th>\n",
       "      <td>0</td>\n",
       "      <td>-5623.422610</td>\n",
       "      <td>33</td>\n",
       "      <td>Среднее</td>\n",
       "      <td>1</td>\n",
       "      <td>женат / замужем</td>\n",
       "      <td>0</td>\n",
       "      <td>M</td>\n",
       "      <td>сотрудник</td>\n",
       "      <td>0</td>\n",
       "      <td>145885.952297</td>\n",
       "      <td>покупка жилья</td>\n",
       "    </tr>\n",
       "    <tr>\n",
       "      <th>3</th>\n",
       "      <td>3</td>\n",
       "      <td>-4124.747207</td>\n",
       "      <td>32</td>\n",
       "      <td>среднее</td>\n",
       "      <td>1</td>\n",
       "      <td>женат / замужем</td>\n",
       "      <td>0</td>\n",
       "      <td>M</td>\n",
       "      <td>сотрудник</td>\n",
       "      <td>0</td>\n",
       "      <td>267628.550329</td>\n",
       "      <td>дополнительное образование</td>\n",
       "    </tr>\n",
       "    <tr>\n",
       "      <th>4</th>\n",
       "      <td>0</td>\n",
       "      <td>340266.072047</td>\n",
       "      <td>53</td>\n",
       "      <td>среднее</td>\n",
       "      <td>1</td>\n",
       "      <td>гражданский брак</td>\n",
       "      <td>1</td>\n",
       "      <td>F</td>\n",
       "      <td>пенсионер</td>\n",
       "      <td>0</td>\n",
       "      <td>158616.077870</td>\n",
       "      <td>сыграть свадьбу</td>\n",
       "    </tr>\n",
       "    <tr>\n",
       "      <th>5</th>\n",
       "      <td>0</td>\n",
       "      <td>-926.185831</td>\n",
       "      <td>27</td>\n",
       "      <td>высшее</td>\n",
       "      <td>0</td>\n",
       "      <td>гражданский брак</td>\n",
       "      <td>1</td>\n",
       "      <td>M</td>\n",
       "      <td>компаньон</td>\n",
       "      <td>0</td>\n",
       "      <td>255763.565419</td>\n",
       "      <td>покупка жилья</td>\n",
       "    </tr>\n",
       "    <tr>\n",
       "      <th>6</th>\n",
       "      <td>0</td>\n",
       "      <td>-2879.202052</td>\n",
       "      <td>43</td>\n",
       "      <td>высшее</td>\n",
       "      <td>0</td>\n",
       "      <td>женат / замужем</td>\n",
       "      <td>0</td>\n",
       "      <td>F</td>\n",
       "      <td>компаньон</td>\n",
       "      <td>0</td>\n",
       "      <td>240525.971920</td>\n",
       "      <td>операции с жильем</td>\n",
       "    </tr>\n",
       "    <tr>\n",
       "      <th>7</th>\n",
       "      <td>0</td>\n",
       "      <td>-152.779569</td>\n",
       "      <td>50</td>\n",
       "      <td>СРЕДНЕЕ</td>\n",
       "      <td>1</td>\n",
       "      <td>женат / замужем</td>\n",
       "      <td>0</td>\n",
       "      <td>M</td>\n",
       "      <td>сотрудник</td>\n",
       "      <td>0</td>\n",
       "      <td>135823.934197</td>\n",
       "      <td>образование</td>\n",
       "    </tr>\n",
       "    <tr>\n",
       "      <th>8</th>\n",
       "      <td>2</td>\n",
       "      <td>-6929.865299</td>\n",
       "      <td>35</td>\n",
       "      <td>ВЫСШЕЕ</td>\n",
       "      <td>0</td>\n",
       "      <td>гражданский брак</td>\n",
       "      <td>1</td>\n",
       "      <td>F</td>\n",
       "      <td>сотрудник</td>\n",
       "      <td>0</td>\n",
       "      <td>95856.832424</td>\n",
       "      <td>на проведение свадьбы</td>\n",
       "    </tr>\n",
       "    <tr>\n",
       "      <th>9</th>\n",
       "      <td>0</td>\n",
       "      <td>-2188.756445</td>\n",
       "      <td>41</td>\n",
       "      <td>среднее</td>\n",
       "      <td>1</td>\n",
       "      <td>женат / замужем</td>\n",
       "      <td>0</td>\n",
       "      <td>M</td>\n",
       "      <td>сотрудник</td>\n",
       "      <td>0</td>\n",
       "      <td>144425.938277</td>\n",
       "      <td>покупка жилья для семьи</td>\n",
       "    </tr>\n",
       "    <tr>\n",
       "      <th>10</th>\n",
       "      <td>2</td>\n",
       "      <td>-4171.483647</td>\n",
       "      <td>36</td>\n",
       "      <td>высшее</td>\n",
       "      <td>0</td>\n",
       "      <td>женат / замужем</td>\n",
       "      <td>0</td>\n",
       "      <td>M</td>\n",
       "      <td>компаньон</td>\n",
       "      <td>0</td>\n",
       "      <td>113943.491460</td>\n",
       "      <td>покупка недвижимости</td>\n",
       "    </tr>\n",
       "    <tr>\n",
       "      <th>11</th>\n",
       "      <td>0</td>\n",
       "      <td>-792.701887</td>\n",
       "      <td>40</td>\n",
       "      <td>среднее</td>\n",
       "      <td>1</td>\n",
       "      <td>женат / замужем</td>\n",
       "      <td>0</td>\n",
       "      <td>F</td>\n",
       "      <td>сотрудник</td>\n",
       "      <td>0</td>\n",
       "      <td>77069.234271</td>\n",
       "      <td>покупка коммерческой недвижимости</td>\n",
       "    </tr>\n",
       "    <tr>\n",
       "      <th>12</th>\n",
       "      <td>0</td>\n",
       "      <td>NaN</td>\n",
       "      <td>65</td>\n",
       "      <td>среднее</td>\n",
       "      <td>1</td>\n",
       "      <td>гражданский брак</td>\n",
       "      <td>1</td>\n",
       "      <td>M</td>\n",
       "      <td>пенсионер</td>\n",
       "      <td>0</td>\n",
       "      <td>NaN</td>\n",
       "      <td>сыграть свадьбу</td>\n",
       "    </tr>\n",
       "    <tr>\n",
       "      <th>13</th>\n",
       "      <td>0</td>\n",
       "      <td>-1846.641941</td>\n",
       "      <td>54</td>\n",
       "      <td>неоконченное высшее</td>\n",
       "      <td>2</td>\n",
       "      <td>женат / замужем</td>\n",
       "      <td>0</td>\n",
       "      <td>F</td>\n",
       "      <td>сотрудник</td>\n",
       "      <td>0</td>\n",
       "      <td>130458.228857</td>\n",
       "      <td>приобретение автомобиля</td>\n",
       "    </tr>\n",
       "    <tr>\n",
       "      <th>14</th>\n",
       "      <td>0</td>\n",
       "      <td>-1844.956182</td>\n",
       "      <td>56</td>\n",
       "      <td>высшее</td>\n",
       "      <td>0</td>\n",
       "      <td>гражданский брак</td>\n",
       "      <td>1</td>\n",
       "      <td>F</td>\n",
       "      <td>компаньон</td>\n",
       "      <td>1</td>\n",
       "      <td>165127.911772</td>\n",
       "      <td>покупка жилой недвижимости</td>\n",
       "    </tr>\n",
       "    <tr>\n",
       "      <th>15</th>\n",
       "      <td>1</td>\n",
       "      <td>-972.364419</td>\n",
       "      <td>26</td>\n",
       "      <td>среднее</td>\n",
       "      <td>1</td>\n",
       "      <td>женат / замужем</td>\n",
       "      <td>0</td>\n",
       "      <td>F</td>\n",
       "      <td>сотрудник</td>\n",
       "      <td>0</td>\n",
       "      <td>116820.904450</td>\n",
       "      <td>строительство собственной недвижимости</td>\n",
       "    </tr>\n",
       "    <tr>\n",
       "      <th>16</th>\n",
       "      <td>0</td>\n",
       "      <td>-1719.934226</td>\n",
       "      <td>35</td>\n",
       "      <td>среднее</td>\n",
       "      <td>1</td>\n",
       "      <td>женат / замужем</td>\n",
       "      <td>0</td>\n",
       "      <td>F</td>\n",
       "      <td>сотрудник</td>\n",
       "      <td>0</td>\n",
       "      <td>289202.704229</td>\n",
       "      <td>недвижимость</td>\n",
       "    </tr>\n",
       "    <tr>\n",
       "      <th>17</th>\n",
       "      <td>0</td>\n",
       "      <td>-2369.999720</td>\n",
       "      <td>33</td>\n",
       "      <td>высшее</td>\n",
       "      <td>0</td>\n",
       "      <td>гражданский брак</td>\n",
       "      <td>1</td>\n",
       "      <td>M</td>\n",
       "      <td>сотрудник</td>\n",
       "      <td>0</td>\n",
       "      <td>90410.586745</td>\n",
       "      <td>строительство недвижимости</td>\n",
       "    </tr>\n",
       "    <tr>\n",
       "      <th>18</th>\n",
       "      <td>0</td>\n",
       "      <td>400281.136913</td>\n",
       "      <td>53</td>\n",
       "      <td>среднее</td>\n",
       "      <td>1</td>\n",
       "      <td>вдовец / вдова</td>\n",
       "      <td>2</td>\n",
       "      <td>F</td>\n",
       "      <td>пенсионер</td>\n",
       "      <td>0</td>\n",
       "      <td>56823.777243</td>\n",
       "      <td>на покупку подержанного автомобиля</td>\n",
       "    </tr>\n",
       "    <tr>\n",
       "      <th>19</th>\n",
       "      <td>0</td>\n",
       "      <td>-10038.818549</td>\n",
       "      <td>48</td>\n",
       "      <td>СРЕДНЕЕ</td>\n",
       "      <td>1</td>\n",
       "      <td>в разводе</td>\n",
       "      <td>3</td>\n",
       "      <td>F</td>\n",
       "      <td>сотрудник</td>\n",
       "      <td>0</td>\n",
       "      <td>242831.107982</td>\n",
       "      <td>на покупку своего автомобиля</td>\n",
       "    </tr>\n",
       "  </tbody>\n",
       "</table>\n",
       "</div>"
      ],
      "text/plain": [
       "    children  days_employed  dob_years            education  education_id  \\\n",
       "0          1   -8437.673028         42               высшее             0   \n",
       "1          1   -4024.803754         36              среднее             1   \n",
       "2          0   -5623.422610         33              Среднее             1   \n",
       "3          3   -4124.747207         32              среднее             1   \n",
       "4          0  340266.072047         53              среднее             1   \n",
       "5          0    -926.185831         27               высшее             0   \n",
       "6          0   -2879.202052         43               высшее             0   \n",
       "7          0    -152.779569         50              СРЕДНЕЕ             1   \n",
       "8          2   -6929.865299         35               ВЫСШЕЕ             0   \n",
       "9          0   -2188.756445         41              среднее             1   \n",
       "10         2   -4171.483647         36               высшее             0   \n",
       "11         0    -792.701887         40              среднее             1   \n",
       "12         0            NaN         65              среднее             1   \n",
       "13         0   -1846.641941         54  неоконченное высшее             2   \n",
       "14         0   -1844.956182         56               высшее             0   \n",
       "15         1    -972.364419         26              среднее             1   \n",
       "16         0   -1719.934226         35              среднее             1   \n",
       "17         0   -2369.999720         33               высшее             0   \n",
       "18         0  400281.136913         53              среднее             1   \n",
       "19         0  -10038.818549         48              СРЕДНЕЕ             1   \n",
       "\n",
       "       family_status  family_status_id gender income_type  debt  \\\n",
       "0    женат / замужем                 0      F   сотрудник     0   \n",
       "1    женат / замужем                 0      F   сотрудник     0   \n",
       "2    женат / замужем                 0      M   сотрудник     0   \n",
       "3    женат / замужем                 0      M   сотрудник     0   \n",
       "4   гражданский брак                 1      F   пенсионер     0   \n",
       "5   гражданский брак                 1      M   компаньон     0   \n",
       "6    женат / замужем                 0      F   компаньон     0   \n",
       "7    женат / замужем                 0      M   сотрудник     0   \n",
       "8   гражданский брак                 1      F   сотрудник     0   \n",
       "9    женат / замужем                 0      M   сотрудник     0   \n",
       "10   женат / замужем                 0      M   компаньон     0   \n",
       "11   женат / замужем                 0      F   сотрудник     0   \n",
       "12  гражданский брак                 1      M   пенсионер     0   \n",
       "13   женат / замужем                 0      F   сотрудник     0   \n",
       "14  гражданский брак                 1      F   компаньон     1   \n",
       "15   женат / замужем                 0      F   сотрудник     0   \n",
       "16   женат / замужем                 0      F   сотрудник     0   \n",
       "17  гражданский брак                 1      M   сотрудник     0   \n",
       "18    вдовец / вдова                 2      F   пенсионер     0   \n",
       "19         в разводе                 3      F   сотрудник     0   \n",
       "\n",
       "     total_income                                 purpose  \n",
       "0   253875.639453                           покупка жилья  \n",
       "1   112080.014102                 приобретение автомобиля  \n",
       "2   145885.952297                           покупка жилья  \n",
       "3   267628.550329              дополнительное образование  \n",
       "4   158616.077870                         сыграть свадьбу  \n",
       "5   255763.565419                           покупка жилья  \n",
       "6   240525.971920                       операции с жильем  \n",
       "7   135823.934197                             образование  \n",
       "8    95856.832424                   на проведение свадьбы  \n",
       "9   144425.938277                 покупка жилья для семьи  \n",
       "10  113943.491460                    покупка недвижимости  \n",
       "11   77069.234271       покупка коммерческой недвижимости  \n",
       "12            NaN                         сыграть свадьбу  \n",
       "13  130458.228857                 приобретение автомобиля  \n",
       "14  165127.911772              покупка жилой недвижимости  \n",
       "15  116820.904450  строительство собственной недвижимости  \n",
       "16  289202.704229                            недвижимость  \n",
       "17   90410.586745              строительство недвижимости  \n",
       "18   56823.777243      на покупку подержанного автомобиля  \n",
       "19  242831.107982            на покупку своего автомобиля  "
      ]
     },
     "execution_count": 2,
     "metadata": {},
     "output_type": "execute_result"
    }
   ],
   "source": [
    "data.head(20)"
   ]
  },
  {
   "attachments": {},
   "cell_type": "markdown",
   "id": "1c12e233",
   "metadata": {
    "deletable": false,
    "id": "1c12e233"
   },
   "source": [
    "**Выведем основную информацию о датафрейме с помощью метода `info()`.**"
   ]
  },
  {
   "cell_type": "code",
   "execution_count": 3,
   "id": "2b757bca",
   "metadata": {
    "deletable": false,
    "id": "2b757bca",
    "outputId": "15376089-8dad-46c9-b520-c05248d43158"
   },
   "outputs": [
    {
     "name": "stdout",
     "output_type": "stream",
     "text": [
      "<class 'pandas.core.frame.DataFrame'>\n",
      "RangeIndex: 21525 entries, 0 to 21524\n",
      "Data columns (total 12 columns):\n",
      " #   Column            Non-Null Count  Dtype  \n",
      "---  ------            --------------  -----  \n",
      " 0   children          21525 non-null  int64  \n",
      " 1   days_employed     19351 non-null  float64\n",
      " 2   dob_years         21525 non-null  int64  \n",
      " 3   education         21525 non-null  object \n",
      " 4   education_id      21525 non-null  int64  \n",
      " 5   family_status     21525 non-null  object \n",
      " 6   family_status_id  21525 non-null  int64  \n",
      " 7   gender            21525 non-null  object \n",
      " 8   income_type       21525 non-null  object \n",
      " 9   debt              21525 non-null  int64  \n",
      " 10  total_income      19351 non-null  float64\n",
      " 11  purpose           21525 non-null  object \n",
      "dtypes: float64(2), int64(5), object(5)\n",
      "memory usage: 2.0+ MB\n"
     ]
    }
   ],
   "source": [
    "data.info()"
   ]
  },
  {
   "cell_type": "markdown",
   "id": "333ec665",
   "metadata": {
    "deletable": false,
    "id": "333ec665"
   },
   "source": [
    "## Предобработка данных"
   ]
  },
  {
   "cell_type": "markdown",
   "id": "02d92d53",
   "metadata": {
    "deletable": false,
    "id": "02d92d53"
   },
   "source": [
    "### Удаление пропусков"
   ]
  },
  {
   "attachments": {},
   "cell_type": "markdown",
   "id": "cd84967c",
   "metadata": {
    "deletable": false,
    "id": "cd84967c"
   },
   "source": [
    "**Выведем количество пропущенных значений для каждого столбца.**"
   ]
  },
  {
   "cell_type": "code",
   "execution_count": 4,
   "id": "7f9b2309",
   "metadata": {
    "deletable": false,
    "id": "7f9b2309",
    "outputId": "81f4d817-781c-465c-ed15-91ce4446810d"
   },
   "outputs": [
    {
     "data": {
      "text/plain": [
       "children               0\n",
       "days_employed       2174\n",
       "dob_years              0\n",
       "education              0\n",
       "education_id           0\n",
       "family_status          0\n",
       "family_status_id       0\n",
       "gender                 0\n",
       "income_type            0\n",
       "debt                   0\n",
       "total_income        2174\n",
       "purpose                0\n",
       "dtype: int64"
      ]
     },
     "execution_count": 4,
     "metadata": {},
     "output_type": "execute_result"
    }
   ],
   "source": [
    "data.isna().sum()"
   ]
  },
  {
   "attachments": {},
   "cell_type": "markdown",
   "id": "db86e27b",
   "metadata": {
    "deletable": false,
    "id": "db86e27b"
   },
   "source": [
    "**В двух столбцах есть пропущенные значения. Пропуски в столбце `days_employed` мы обработаем на следующем этапе. Другой столбец с пропущенными значениями — `total_income` — хранит данные о доходах. На сумму дохода сильнее всего влияет тип занятости, поэтому заполним пропуски в этом столбце медианным значением по каждому типу из столбца `income_type`.**"
   ]
  },
  {
   "cell_type": "code",
   "execution_count": 5,
   "id": "42006a93",
   "metadata": {
    "deletable": false,
    "id": "42006a93"
   },
   "outputs": [],
   "source": [
    "for t in data['income_type'].unique():\n",
    "    data.loc[(data['income_type'] == t) & (data['total_income'].isna()), 'total_income'] = \\\n",
    "    data.loc[(data['income_type'] == t), 'total_income'].median()"
   ]
  },
  {
   "cell_type": "markdown",
   "id": "89da5ece",
   "metadata": {
    "deletable": false,
    "id": "89da5ece"
   },
   "source": [
    "### Обработка аномальных значений"
   ]
  },
  {
   "attachments": {},
   "cell_type": "markdown",
   "id": "57964554",
   "metadata": {
    "deletable": false,
    "id": "57964554"
   },
   "source": [
    "**В данных встречаются артефакты (аномалии) — значения, которые не отражают действительность и появились по какой-то ошибке. таким артефактом будет отрицательное количество дней трудового стажа в столбце `days_employed`. Для реальных данных это нормально. Обработайте значения в этом столбце: замените все отрицательные значения положительными с помощью метода `abs()`.**"
   ]
  },
  {
   "cell_type": "code",
   "execution_count": 6,
   "id": "f6f055bf",
   "metadata": {
    "deletable": false,
    "id": "f6f055bf"
   },
   "outputs": [],
   "source": [
    "data['days_employed'] = data['days_employed'].abs()"
   ]
  },
  {
   "cell_type": "markdown",
   "id": "6107dd2f",
   "metadata": {
    "deletable": false,
    "id": "6107dd2f"
   },
   "source": [
    "**Задание 7. Для каждого типа занятости выведите медианное значение трудового стажа `days_employed` в днях.**"
   ]
  },
  {
   "cell_type": "code",
   "execution_count": 7,
   "id": "85a5faf6",
   "metadata": {
    "deletable": false,
    "id": "85a5faf6",
    "outputId": "801ef80e-522b-4668-f34e-565af7432bcf"
   },
   "outputs": [
    {
     "data": {
      "text/plain": [
       "income_type\n",
       "безработный        366413.652744\n",
       "в декрете            3296.759962\n",
       "госслужащий          2689.368353\n",
       "компаньон            1547.382223\n",
       "пенсионер          365213.306266\n",
       "предприниматель       520.848083\n",
       "сотрудник            1574.202821\n",
       "студент               578.751554\n",
       "Name: days_employed, dtype: float64"
      ]
     },
     "execution_count": 7,
     "metadata": {},
     "output_type": "execute_result"
    }
   ],
   "source": [
    "data.groupby('income_type')['days_employed'].agg('median')"
   ]
  },
  {
   "cell_type": "markdown",
   "id": "38d1a030",
   "metadata": {
    "deletable": false,
    "id": "38d1a030"
   },
   "source": [
    "У двух типов (безработные и пенсионеры) получатся аномально большие значения. Исправить такие значения сложно, поэтому оставьте их как есть. Тем более этот столбец не понадобится вам для исследования."
   ]
  },
  {
   "cell_type": "markdown",
   "id": "d8a9f147",
   "metadata": {
    "deletable": false,
    "id": "d8a9f147"
   },
   "source": [
    "**Задание 8. Выведите перечень уникальных значений столбца `children`.**"
   ]
  },
  {
   "cell_type": "code",
   "execution_count": 8,
   "id": "ef5056eb",
   "metadata": {
    "deletable": false,
    "id": "ef5056eb",
    "outputId": "6975b15c-7f95-4697-d16d-a0c79b657b03"
   },
   "outputs": [
    {
     "data": {
      "text/plain": [
       "array([ 1,  0,  3,  2, -1,  4, 20,  5])"
      ]
     },
     "execution_count": 8,
     "metadata": {},
     "output_type": "execute_result"
    }
   ],
   "source": [
    "data['children'].unique()"
   ]
  },
  {
   "cell_type": "markdown",
   "id": "40b9ebf2",
   "metadata": {
    "deletable": false,
    "id": "40b9ebf2"
   },
   "source": [
    "**Задание 9. В столбце `children` есть два аномальных значения. Удалите строки, в которых встречаются такие аномальные значения из датафрейма `data`.**"
   ]
  },
  {
   "cell_type": "code",
   "execution_count": 9,
   "id": "3ff9801d",
   "metadata": {
    "deletable": false,
    "id": "3ff9801d"
   },
   "outputs": [],
   "source": [
    "data = data[(data['children'] != -1) & (data['children'] != 20)]"
   ]
  },
  {
   "cell_type": "markdown",
   "id": "bbc4d0ce",
   "metadata": {
    "deletable": false,
    "id": "bbc4d0ce"
   },
   "source": [
    "**Задание 10. Ещё раз выведите перечень уникальных значений столбца `children`, чтобы убедиться, что артефакты удалены.**"
   ]
  },
  {
   "cell_type": "code",
   "execution_count": 10,
   "id": "ad4fa8b7",
   "metadata": {
    "deletable": false,
    "id": "ad4fa8b7",
    "outputId": "b2097101-d49d-44d9-901b-32a65c9463d1"
   },
   "outputs": [
    {
     "data": {
      "text/plain": [
       "array([1, 0, 3, 2, 4, 5])"
      ]
     },
     "execution_count": 10,
     "metadata": {},
     "output_type": "execute_result"
    }
   ],
   "source": [
    "data['children'].unique()"
   ]
  },
  {
   "cell_type": "markdown",
   "id": "75440b63",
   "metadata": {
    "deletable": false,
    "id": "75440b63"
   },
   "source": [
    "### Удаление пропусков (продолжение)"
   ]
  },
  {
   "cell_type": "markdown",
   "id": "f4ea573f",
   "metadata": {
    "deletable": false,
    "id": "f4ea573f"
   },
   "source": [
    "**Задание 11. Заполните пропуски в столбце `days_employed` медианными значениями по каждого типа занятости `income_type`.**"
   ]
  },
  {
   "cell_type": "code",
   "execution_count": 11,
   "id": "af6b1a7e",
   "metadata": {
    "deletable": false,
    "id": "af6b1a7e"
   },
   "outputs": [],
   "source": [
    "for t in data['income_type'].unique():\n",
    "    data.loc[(data['income_type'] == t) & (data['days_employed'].isna()), 'days_employed'] = \\\n",
    "    data.loc[(data['income_type'] == t), 'days_employed'].median()"
   ]
  },
  {
   "cell_type": "markdown",
   "id": "2753f40d",
   "metadata": {
    "deletable": false,
    "id": "2753f40d"
   },
   "source": [
    "**Задание 12. Убедитесь, что все пропуски заполнены. Проверьте себя и ещё раз выведите количество пропущенных значений для каждого столбца с помощью двух методов.**"
   ]
  },
  {
   "cell_type": "code",
   "execution_count": 12,
   "id": "55f78bc2",
   "metadata": {
    "deletable": false,
    "id": "55f78bc2",
    "outputId": "8da1e4e1-358e-4e87-98c9-f261bce0a7b2"
   },
   "outputs": [
    {
     "data": {
      "text/plain": [
       "children            0\n",
       "days_employed       0\n",
       "dob_years           0\n",
       "education           0\n",
       "education_id        0\n",
       "family_status       0\n",
       "family_status_id    0\n",
       "gender              0\n",
       "income_type         0\n",
       "debt                0\n",
       "total_income        0\n",
       "purpose             0\n",
       "dtype: int64"
      ]
     },
     "execution_count": 12,
     "metadata": {},
     "output_type": "execute_result"
    }
   ],
   "source": [
    "data.isna().sum()"
   ]
  },
  {
   "cell_type": "markdown",
   "id": "ddc81e43",
   "metadata": {
    "deletable": false,
    "id": "ddc81e43"
   },
   "source": [
    "### Изменение типов данных"
   ]
  },
  {
   "cell_type": "markdown",
   "id": "42d19d24",
   "metadata": {
    "deletable": false,
    "id": "42d19d24"
   },
   "source": [
    "**Задание 13. Замените вещественный тип данных в столбце `total_income` на целочисленный с помощью метода `astype()`.**"
   ]
  },
  {
   "cell_type": "code",
   "execution_count": 13,
   "id": "920b65ad",
   "metadata": {
    "deletable": false,
    "id": "920b65ad"
   },
   "outputs": [],
   "source": [
    "data['total_income'] = data['total_income'].astype(int)"
   ]
  },
  {
   "cell_type": "markdown",
   "id": "80c420ba",
   "metadata": {
    "deletable": false,
    "id": "80c420ba"
   },
   "source": [
    "### Обработка дубликатов"
   ]
  },
  {
   "cell_type": "markdown",
   "id": "dc587695",
   "metadata": {
    "deletable": false,
    "id": "dc587695"
   },
   "source": [
    "**Задание 14. Выведите на экран количество строк-дубликатов в данных. Если такие строки присутствуют, удалите их.**"
   ]
  },
  {
   "cell_type": "code",
   "execution_count": 14,
   "id": "3ee445e4",
   "metadata": {
    "deletable": false,
    "id": "3ee445e4",
    "outputId": "9684deba-1934-42d1-99e1-cda61740f822"
   },
   "outputs": [
    {
     "data": {
      "text/plain": [
       "54"
      ]
     },
     "execution_count": 14,
     "metadata": {},
     "output_type": "execute_result"
    }
   ],
   "source": [
    "data.duplicated().sum()"
   ]
  },
  {
   "cell_type": "code",
   "execution_count": 15,
   "id": "8575fe05",
   "metadata": {
    "deletable": false,
    "id": "8575fe05"
   },
   "outputs": [],
   "source": [
    "data = data.drop_duplicates()"
   ]
  },
  {
   "cell_type": "markdown",
   "id": "9771a76c",
   "metadata": {
    "deletable": false,
    "id": "9771a76c"
   },
   "source": [
    "**Задание 15. Обработайте неявные дубликаты в столбце `education`. В этом столбце есть одни и те же значения, но записанные по-разному: с использованием заглавных и строчных букв. Приведите их к нижнему регистру. Проверьте остальные столбцы.**"
   ]
  },
  {
   "cell_type": "code",
   "execution_count": 16,
   "id": "a9f8e2bf",
   "metadata": {
    "deletable": false,
    "id": "a9f8e2bf"
   },
   "outputs": [],
   "source": [
    "data['education'] = data['education'].str.lower()"
   ]
  },
  {
   "cell_type": "markdown",
   "id": "9904cf55",
   "metadata": {
    "deletable": false,
    "id": "9904cf55"
   },
   "source": [
    "### Категоризация данных"
   ]
  },
  {
   "cell_type": "markdown",
   "id": "72fcc8a2",
   "metadata": {
    "deletable": false,
    "id": "72fcc8a2"
   },
   "source": [
    "**Задание 16. На основании диапазонов, указанных ниже, создайте в датафрейме `data` столбец `total_income_category` с категориями:**\n",
    "\n",
    "- 0–30000 — `'E'`;\n",
    "- 30001–50000 — `'D'`;\n",
    "- 50001–200000 — `'C'`;\n",
    "- 200001–1000000 — `'B'`;\n",
    "- 1000001 и выше — `'A'`.\n",
    "\n",
    "\n",
    "**Например, кредитополучателю с доходом 25000 нужно назначить категорию `'E'`, а клиенту, получающему 235000, — `'B'`. Используйте собственную функцию с именем `categorize_income()` и метод `apply()`.**"
   ]
  },
  {
   "cell_type": "code",
   "execution_count": 17,
   "id": "e1771346",
   "metadata": {
    "deletable": false,
    "id": "e1771346"
   },
   "outputs": [],
   "source": [
    "def categorize_income(income):\n",
    "    try:\n",
    "        if 0 <= income <= 30000:\n",
    "            return 'E'\n",
    "        elif 30001 <= income <= 50000:\n",
    "            return 'D'\n",
    "        elif 50001 <= income <= 200000:\n",
    "            return 'C'\n",
    "        elif 200001 <= income <= 1000000:\n",
    "            return 'B'\n",
    "        elif income >= 1000001:\n",
    "            return 'A'\n",
    "    except:\n",
    "        pass"
   ]
  },
  {
   "cell_type": "code",
   "execution_count": 18,
   "id": "d5f3586d",
   "metadata": {
    "deletable": false,
    "id": "d5f3586d"
   },
   "outputs": [],
   "source": [
    "data['total_income_category'] = data['total_income'].apply(categorize_income)"
   ]
  },
  {
   "cell_type": "markdown",
   "id": "dde49b5c",
   "metadata": {
    "deletable": false,
    "id": "dde49b5c"
   },
   "source": [
    "**Задание 17. Выведите на экран перечень уникальных целей взятия кредита из столбца `purpose`.**"
   ]
  },
  {
   "cell_type": "code",
   "execution_count": 19,
   "id": "f67ce9b3",
   "metadata": {
    "deletable": false,
    "id": "f67ce9b3",
    "outputId": "673c12d9-7d7e-4ae0-9812-c622c89dd244"
   },
   "outputs": [
    {
     "data": {
      "text/plain": [
       "array(['покупка жилья', 'приобретение автомобиля',\n",
       "       'дополнительное образование', 'сыграть свадьбу',\n",
       "       'операции с жильем', 'образование', 'на проведение свадьбы',\n",
       "       'покупка жилья для семьи', 'покупка недвижимости',\n",
       "       'покупка коммерческой недвижимости', 'покупка жилой недвижимости',\n",
       "       'строительство собственной недвижимости', 'недвижимость',\n",
       "       'строительство недвижимости', 'на покупку подержанного автомобиля',\n",
       "       'на покупку своего автомобиля',\n",
       "       'операции с коммерческой недвижимостью',\n",
       "       'строительство жилой недвижимости', 'жилье',\n",
       "       'операции со своей недвижимостью', 'автомобили',\n",
       "       'заняться образованием', 'сделка с подержанным автомобилем',\n",
       "       'получение образования', 'автомобиль', 'свадьба',\n",
       "       'получение дополнительного образования', 'покупка своего жилья',\n",
       "       'операции с недвижимостью', 'получение высшего образования',\n",
       "       'свой автомобиль', 'сделка с автомобилем',\n",
       "       'профильное образование', 'высшее образование',\n",
       "       'покупка жилья для сдачи', 'на покупку автомобиля', 'ремонт жилью',\n",
       "       'заняться высшим образованием'], dtype=object)"
      ]
     },
     "execution_count": 19,
     "metadata": {},
     "output_type": "execute_result"
    }
   ],
   "source": [
    "data['purpose'].unique()"
   ]
  },
  {
   "cell_type": "markdown",
   "id": "85d0aef0",
   "metadata": {
    "deletable": false,
    "id": "85d0aef0"
   },
   "source": [
    "**Задание 18. Создайте функцию, которая на основании данных из столбца `purpose` сформирует новый столбец `purpose_category`, в который войдут следующие категории:**\n",
    "\n",
    "- `'операции с автомобилем'`,\n",
    "- `'операции с недвижимостью'`,\n",
    "- `'проведение свадьбы'`,\n",
    "- `'получение образования'`.\n",
    "\n",
    "**Например, если в столбце `purpose` находится подстрока `'на покупку автомобиля'`, то в столбце `purpose_category` должна появиться строка `'операции с автомобилем'`.**\n",
    "\n",
    "**Используйте собственную функцию с именем `categorize_purpose()` и метод `apply()`. Изучите данные в столбце `purpose` и определите, какие подстроки помогут вам правильно определить категорию.**"
   ]
  },
  {
   "cell_type": "code",
   "execution_count": 20,
   "id": "e149fab4",
   "metadata": {
    "deletable": false,
    "id": "e149fab4"
   },
   "outputs": [],
   "source": [
    "def categorize_purpose(row):\n",
    "    try:\n",
    "        if 'автом' in row:\n",
    "            return 'операции с автомобилем'\n",
    "        elif 'жил' in row or 'недвиж' in row:\n",
    "            return 'операции с недвижимостью'\n",
    "        elif 'свад' in row:\n",
    "            return 'проведение свадьбы'\n",
    "        elif 'образов' in row:\n",
    "            return 'получение образования'\n",
    "    except:\n",
    "        return 'нет категории'"
   ]
  },
  {
   "cell_type": "code",
   "execution_count": 21,
   "id": "bf36e69b",
   "metadata": {
    "deletable": false,
    "id": "bf36e69b"
   },
   "outputs": [],
   "source": [
    "data['purpose_category'] = data['purpose'].apply(categorize_purpose)"
   ]
  },
  {
   "cell_type": "markdown",
   "id": "09b242bf",
   "metadata": {
    "deletable": false,
    "editable": false,
    "id": "09b242bf"
   },
   "source": [
    "## Исследуйте данные и ответьте на вопросы"
   ]
  },
  {
   "cell_type": "markdown",
   "id": "3ce3dec3",
   "metadata": {},
   "source": [
    "<div class=\"alert alert-danger\">\n",
    "<b>Комментарий ревьюера №1</b> Замечание по всему разделу ответов на вопросы\n",
    "    \n",
    "Гораздо рациональнее здесь воспользоваться `pivot_table()` и выводить результаты в каждом из вопросов в одной табличке.\n",
    "    \n",
    "Долю должников можно найти с помощью функции агрегации `mean`\n",
    "    \n",
    "Попробуй получить сводную следующего вида. В индексе столбец, который исследуем (в первом вопросе это количество детей), а столбцы: 'Всего кредитополучателей', 'Всего должников', 'Доля должников'. Учитывай, что использовать параметр columns не обязательно, а в параметр aggfunc можно указывать несколько функций агрегации сразу.\n",
    "    \n",
    "Также могу посоветовать переименовать столбцы и написать функцию для построения сводных во всех вопросах.\n",
    "</div>"
   ]
  },
  {
   "cell_type": "markdown",
   "id": "c5d66278",
   "metadata": {
    "deletable": false,
    "editable": false,
    "id": "c5d66278"
   },
   "source": [
    "**Задание 19. Есть ли зависимость между количеством детей и возвратом кредита в срок?**"
   ]
  },
  {
   "cell_type": "code",
   "execution_count": 22,
   "id": "106ef27f",
   "metadata": {},
   "outputs": [],
   "source": [
    "#импорт библиотеки Matplotlib перенесен в начало кода"
   ]
  },
  {
   "cell_type": "markdown",
   "id": "153ac22e",
   "metadata": {},
   "source": [
    "<div class=\"alert alert-warning\">\n",
    "<b>Комментарий ревьюера №1</b> \n",
    "    \n",
    "Импорт всех библиотек нужно делать в отдельной ячейке в начале всего кода, это соответствует стилевому гайду <a href=\"https://peps.python.org/pep-0008/\">pep-8</a>\n",
    "</div>"
   ]
  },
  {
   "cell_type": "code",
   "execution_count": 23,
   "id": "63070a85",
   "metadata": {},
   "outputs": [
    {
     "data": {
      "text/html": [
       "<div>\n",
       "<style scoped>\n",
       "    .dataframe tbody tr th:only-of-type {\n",
       "        vertical-align: middle;\n",
       "    }\n",
       "\n",
       "    .dataframe tbody tr th {\n",
       "        vertical-align: top;\n",
       "    }\n",
       "\n",
       "    .dataframe thead tr th {\n",
       "        text-align: left;\n",
       "    }\n",
       "</style>\n",
       "<table border=\"1\" class=\"dataframe\">\n",
       "  <thead>\n",
       "    <tr>\n",
       "      <th></th>\n",
       "      <th>children</th>\n",
       "      <th>Всего кредитополучателей</th>\n",
       "      <th>Всего должников</th>\n",
       "      <th>Доля должников</th>\n",
       "    </tr>\n",
       "    <tr>\n",
       "      <th></th>\n",
       "      <th></th>\n",
       "      <th></th>\n",
       "      <th></th>\n",
       "      <th></th>\n",
       "    </tr>\n",
       "  </thead>\n",
       "  <tbody>\n",
       "    <tr>\n",
       "      <th>0</th>\n",
       "      <td>0</td>\n",
       "      <td>14107</td>\n",
       "      <td>1063</td>\n",
       "      <td>0.075353</td>\n",
       "    </tr>\n",
       "    <tr>\n",
       "      <th>1</th>\n",
       "      <td>1</td>\n",
       "      <td>4809</td>\n",
       "      <td>444</td>\n",
       "      <td>0.092327</td>\n",
       "    </tr>\n",
       "    <tr>\n",
       "      <th>2</th>\n",
       "      <td>2</td>\n",
       "      <td>2052</td>\n",
       "      <td>194</td>\n",
       "      <td>0.094542</td>\n",
       "    </tr>\n",
       "    <tr>\n",
       "      <th>3</th>\n",
       "      <td>3</td>\n",
       "      <td>330</td>\n",
       "      <td>27</td>\n",
       "      <td>0.081818</td>\n",
       "    </tr>\n",
       "    <tr>\n",
       "      <th>4</th>\n",
       "      <td>4</td>\n",
       "      <td>41</td>\n",
       "      <td>4</td>\n",
       "      <td>0.097561</td>\n",
       "    </tr>\n",
       "    <tr>\n",
       "      <th>5</th>\n",
       "      <td>5</td>\n",
       "      <td>9</td>\n",
       "      <td>0</td>\n",
       "      <td>0.000000</td>\n",
       "    </tr>\n",
       "  </tbody>\n",
       "</table>\n",
       "</div>"
      ],
      "text/plain": [
       "  children Всего кредитополучателей Всего должников Доля должников\n",
       "                                                                  \n",
       "0        0                    14107            1063       0.075353\n",
       "1        1                     4809             444       0.092327\n",
       "2        2                     2052             194       0.094542\n",
       "3        3                      330              27       0.081818\n",
       "4        4                       41               4       0.097561\n",
       "5        5                        9               0       0.000000"
      ]
     },
     "execution_count": 23,
     "metadata": {},
     "output_type": "execute_result"
    }
   ],
   "source": [
    "def category_debt_pivot(category):\n",
    "    debt_pivot = data.pivot_table(index=[category],\n",
    "                                  values='debt',\n",
    "                                  aggfunc=['count', 'sum', 'mean']).reset_index()\n",
    "    debt_pivot.rename(columns={'count': 'Всего кредитополучателей',\n",
    "                               'sum': 'Всего должников',\n",
    "                               'mean': 'Доля должников',\n",
    "                               'debt': ''}, inplace=True)\n",
    "    return debt_pivot\n",
    "\n",
    "\n",
    "category_debt_pivot('children')\n",
    "\n",
    "# Напишем функцию которая считает 'Всего кредитополучателей', 'Всего должников', 'Доля должников' для заданного столбца"
   ]
  },
  {
   "cell_type": "code",
   "execution_count": 24,
   "id": "0648abd1",
   "metadata": {},
   "outputs": [
    {
     "data": {
      "image/png": "[encoded data removed]",
      "text/plain": [
       "<Figure size 432x288 with 1 Axes>"
      ]
     },
     "metadata": {
      "needs_background": "light"
     },
     "output_type": "display_data"
    }
   ],
   "source": [
    "plt.scatter(category_debt_pivot('children')['children'], \n",
    "            category_debt_pivot('children')['Доля должников'])\n",
    "plt.grid(linestyle=':', linewidth=0.5)\n",
    "plt.gca().set(\n",
    "              xlim=(-0.2, 5.5), ylim=(-0.01, 0.12),\n",
    "              xlabel='Количество детей', \n",
    "              ylabel='Доля задолженностей по кредитам',\n",
    "              title='Зависимость между количеством детей' \n",
    "              ' и возвратом кредита в срок\\n'\n",
    "              )\n",
    "plt.show()\n",
    "\n",
    "#zorder=2 ставил так как у меня grid поверх кружков был, хотел так исправить)"
   ]
  },
  {
   "cell_type": "markdown",
   "id": "50c08b61",
   "metadata": {},
   "source": [
    "<div class=\"alert alert-warning\">\n",
    "<b>Комментарий ревьюера №1</b> \n",
    "    \n",
    "`zorder` отвечает за порядок наложения линий, он здесь не нужен\n",
    "</div>"
   ]
  },
  {
   "cell_type": "markdown",
   "id": "3a6b99ec",
   "metadata": {
    "deletable": false,
    "id": "3a6b99ec"
   },
   "source": [
    "**Вывод:** На основании полученных результатов с увеличением количества детей доля имевших задолженность по кредиту возрастает. Доля задолженностей по кредитам у клиентов с 3-я детьми немного выбивается из общей тенденции как и с 5-ю, возможно влияет сравнительно небольшое количество клиентов с 3-я, 4-я и 5-ю детьми в данной выборке.Также можно предположить что клиенты с 3-я, 4-я и 5-ю сами по себе реже обращаются за кредитами или таких заемщиков просто меньше чем в других группах, а заемщики без детей берут кредит чаще всего.\n",
    "Рост количества задолженностей с увеличение количества детей у клиентов скорее всего связан с тем, что клиенты предпочитают допустить просрочку по выплате кредита чем  сэкономить на содержании детей."
   ]
  },
  {
   "cell_type": "markdown",
   "id": "46daeb4e",
   "metadata": {},
   "source": [
    "<div class=\"alert alert-success\">\n",
    "<b>Комментарий ревьюера №1</b> \n",
    "    \n",
    "Хороший вывод\n",
    "</div>"
   ]
  },
  {
   "cell_type": "markdown",
   "id": "97be82ca",
   "metadata": {
    "deletable": false,
    "editable": false,
    "id": "97be82ca"
   },
   "source": [
    "**Задание 20. Есть ли зависимость между семейным положением и возвратом кредита в срок?**"
   ]
  },
  {
   "cell_type": "code",
   "execution_count": 25,
   "id": "955dafcc",
   "metadata": {},
   "outputs": [
    {
     "data": {
      "text/html": [
       "<div>\n",
       "<style scoped>\n",
       "    .dataframe tbody tr th:only-of-type {\n",
       "        vertical-align: middle;\n",
       "    }\n",
       "\n",
       "    .dataframe tbody tr th {\n",
       "        vertical-align: top;\n",
       "    }\n",
       "\n",
       "    .dataframe thead tr th {\n",
       "        text-align: left;\n",
       "    }\n",
       "</style>\n",
       "<table border=\"1\" class=\"dataframe\">\n",
       "  <thead>\n",
       "    <tr>\n",
       "      <th></th>\n",
       "      <th>family_status</th>\n",
       "      <th>Всего кредитополучателей</th>\n",
       "      <th>Всего должников</th>\n",
       "      <th>Доля должников</th>\n",
       "    </tr>\n",
       "    <tr>\n",
       "      <th></th>\n",
       "      <th></th>\n",
       "      <th></th>\n",
       "      <th></th>\n",
       "      <th></th>\n",
       "    </tr>\n",
       "  </thead>\n",
       "  <tbody>\n",
       "    <tr>\n",
       "      <th>0</th>\n",
       "      <td>Не женат / не замужем</td>\n",
       "      <td>2796</td>\n",
       "      <td>273</td>\n",
       "      <td>0.097639</td>\n",
       "    </tr>\n",
       "    <tr>\n",
       "      <th>1</th>\n",
       "      <td>в разводе</td>\n",
       "      <td>1189</td>\n",
       "      <td>84</td>\n",
       "      <td>0.070648</td>\n",
       "    </tr>\n",
       "    <tr>\n",
       "      <th>2</th>\n",
       "      <td>вдовец / вдова</td>\n",
       "      <td>951</td>\n",
       "      <td>63</td>\n",
       "      <td>0.066246</td>\n",
       "    </tr>\n",
       "    <tr>\n",
       "      <th>3</th>\n",
       "      <td>гражданский брак</td>\n",
       "      <td>4146</td>\n",
       "      <td>385</td>\n",
       "      <td>0.092861</td>\n",
       "    </tr>\n",
       "    <tr>\n",
       "      <th>4</th>\n",
       "      <td>женат / замужем</td>\n",
       "      <td>12266</td>\n",
       "      <td>927</td>\n",
       "      <td>0.075575</td>\n",
       "    </tr>\n",
       "  </tbody>\n",
       "</table>\n",
       "</div>"
      ],
      "text/plain": [
       "           family_status Всего кредитополучателей Всего должников  \\\n",
       "                                                                    \n",
       "0  Не женат / не замужем                     2796             273   \n",
       "1              в разводе                     1189              84   \n",
       "2         вдовец / вдова                      951              63   \n",
       "3       гражданский брак                     4146             385   \n",
       "4        женат / замужем                    12266             927   \n",
       "\n",
       "  Доля должников  \n",
       "                  \n",
       "0       0.097639  \n",
       "1       0.070648  \n",
       "2       0.066246  \n",
       "3       0.092861  \n",
       "4       0.075575  "
      ]
     },
     "execution_count": 25,
     "metadata": {},
     "output_type": "execute_result"
    }
   ],
   "source": [
    "category_debt_pivot('family_status') # Воспользуемся функцией category_debt_pivot для построения сводной таблицы"
   ]
  },
  {
   "cell_type": "code",
   "execution_count": 26,
   "id": "9056c3db",
   "metadata": {},
   "outputs": [
    {
     "data": {
      "image/png": "[encoded data removed]",
      "text/plain": [
       "<Figure size 432x288 with 1 Axes>"
      ]
     },
     "metadata": {
      "needs_background": "light"
     },
     "output_type": "display_data"
    }
   ],
   "source": [
    "plt.bar(category_debt_pivot('family_status')['family_status'], \n",
    "        category_debt_pivot('family_status')['Доля должников'])\n",
    "plt.gca().set(\n",
    "              xlabel='Семейное положение', \n",
    "              ylabel='Доля задолженностей по кредитам',\n",
    "              title='Зависимость между семейным положением' \n",
    "              ' и возвратом кредита в срок\\n'\n",
    "              )\n",
    "plt.xticks(rotation=45) #изменил наклон с 90 на 45\n",
    "plt.show()"
   ]
  },
  {
   "cell_type": "markdown",
   "id": "2aaec817",
   "metadata": {},
   "source": [
    "<div class=\"alert alert-success\">\n",
    "<b>Комментарий ревьюера №1</b> \n",
    "    \n",
    "Мне больше нравится, когда подписи расположены под углом 45 или 30 градусов. Так удобнее читать, и меньше места они занимают\n",
    "</div>"
   ]
  },
  {
   "cell_type": "markdown",
   "id": "1cef7837",
   "metadata": {
    "deletable": false,
    "id": "1cef7837"
   },
   "source": [
    "Требуется уточнение насколько точно заемщики делятся по данным категориям, так как статус \"Не женат/не замужем\", \"гражданский брак\" ,\"в разводе\" и \"вдовец/вдова\" означает что человек в текущий момент не состоит в законных отношениях. Проверим данную гипотезу объеденив эти группы и сравним с группой 'женат/замужем'"
   ]
  },
  {
   "cell_type": "code",
   "execution_count": 27,
   "id": "a686c354",
   "metadata": {},
   "outputs": [],
   "source": [
    "# Убрал все подсчеты количества и доли должников, свел все в сводную таблицу"
   ]
  },
  {
   "cell_type": "markdown",
   "id": "4255bc27",
   "metadata": {},
   "source": [
    "<div class=\"alert alert-warning\">\n",
    "<b>Комментарий ревьюера №1</b> \n",
    "    \n",
    "Вместо `.value_counts().sum()` лучше использовать `.count()` или `len()`\n",
    "</div>"
   ]
  },
  {
   "cell_type": "code",
   "execution_count": 225,
   "id": "7676d751",
   "metadata": {},
   "outputs": [
    {
     "data": {
      "text/html": [
       "<div>\n",
       "<style scoped>\n",
       "    .dataframe tbody tr th:only-of-type {\n",
       "        vertical-align: middle;\n",
       "    }\n",
       "\n",
       "    .dataframe tbody tr th {\n",
       "        vertical-align: top;\n",
       "    }\n",
       "\n",
       "    .dataframe thead tr th {\n",
       "        text-align: left;\n",
       "    }\n",
       "</style>\n",
       "<table border=\"1\" class=\"dataframe\">\n",
       "  <thead>\n",
       "    <tr>\n",
       "      <th></th>\n",
       "      <th>family_status</th>\n",
       "      <th>Всего кредитополучателей</th>\n",
       "      <th>Всего должников</th>\n",
       "      <th>Доля должников</th>\n",
       "    </tr>\n",
       "    <tr>\n",
       "      <th></th>\n",
       "      <th></th>\n",
       "      <th></th>\n",
       "      <th></th>\n",
       "      <th></th>\n",
       "    </tr>\n",
       "  </thead>\n",
       "  <tbody>\n",
       "    <tr>\n",
       "      <th>0</th>\n",
       "      <td>Не женат / не замужем</td>\n",
       "      <td>9082</td>\n",
       "      <td>805</td>\n",
       "      <td>0.088637</td>\n",
       "    </tr>\n",
       "    <tr>\n",
       "      <th>1</th>\n",
       "      <td>Женат / замужем</td>\n",
       "      <td>12266</td>\n",
       "      <td>927</td>\n",
       "      <td>0.075575</td>\n",
       "    </tr>\n",
       "  </tbody>\n",
       "</table>\n",
       "</div>"
      ],
      "text/plain": [
       "           family_status Всего кредитополучателей Всего должников  \\\n",
       "                                                                    \n",
       "0  Не женат / не замужем                     9082             805   \n",
       "1        Женат / замужем                    12266             927   \n",
       "\n",
       "  Доля должников  \n",
       "                  \n",
       "0       0.088637  \n",
       "1       0.075575  "
      ]
     },
     "execution_count": 225,
     "metadata": {},
     "output_type": "execute_result"
    }
   ],
   "source": [
    "category_debt_pivot_family_status = category_debt_pivot(data['family_status'] == 'женат / замужем')\n",
    "category_debt_pivot_family_status['family_status'] = \\\n",
    "    category_debt_pivot_family_status['family_status'].map({False: 'Не женат / не замужем', True: 'Женат / замужем'}) \n",
    "category_debt_pivot_family_status\n",
    "# Воспользовался функцией category_debt_pivot для проверки доли должников 'Женат/замужем' / 'Не женат/не замужем'\n",
    "# Переименовал строки для информативного отображения в таблице и на гистограмме"
   ]
  },
  {
   "cell_type": "markdown",
   "id": "8b9402ce",
   "metadata": {},
   "source": [
    "Количество клиентов находящихся в браке больше, но размер групп примерно сопоставим"
   ]
  },
  {
   "cell_type": "code",
   "execution_count": 226,
   "id": "7a9011d2",
   "metadata": {},
   "outputs": [
    {
     "data": {
      "image/png": "[encoded data removed]",
      "text/plain": [
       "<Figure size 432x288 with 1 Axes>"
      ]
     },
     "metadata": {
      "needs_background": "light"
     },
     "output_type": "display_data"
    }
   ],
   "source": [
    "plt.bar(category_debt_pivot_family_status['family_status'], \n",
    "        category_debt_pivot_family_status['Доля должников'])\n",
    "plt.gca().set(\n",
    "              xlabel='Семейное положение', \n",
    "              ylabel='Доля задолженностей по кредитам',\n",
    "              title='Зависимость между семейным положением' \n",
    "              ' и возвратом кредита в срок\\n'\n",
    "              )\n",
    "plt.show() #Добавил гистограмму"
   ]
  },
  {
   "cell_type": "markdown",
   "id": "d87aeca2",
   "metadata": {},
   "source": [
    "**Вывод:** Судя по полученным данным, те заемщики которые не были женаты или находятся в гражданском браке, чаще имеют проблемы с выплатой по кредиты. А клиенты имеющие семейное положение 'женат/замужем' реже имеют проблемы с выплатой кредита в срок.\n",
    "\n",
    "Клиенты находящиеся в законных отношениях являются более надежными заемщиками."
   ]
  },
  {
   "cell_type": "markdown",
   "id": "e55b3db5",
   "metadata": {},
   "source": [
    "<div class=\"alert alert-success\">\n",
    "<b>Комментарий ревьюера №1</b> \n",
    "    \n",
    "Согласна\n",
    "</div>"
   ]
  },
  {
   "cell_type": "markdown",
   "id": "1e8b2fca",
   "metadata": {
    "deletable": false,
    "editable": false,
    "id": "1e8b2fca"
   },
   "source": [
    "**Задание 21. Есть ли зависимость между уровнем дохода и возвратом кредита в срок?**"
   ]
  },
  {
   "cell_type": "code",
   "execution_count": 227,
   "id": "cd7e3720",
   "metadata": {
    "id": "cd7e3720"
   },
   "outputs": [
    {
     "data": {
      "text/plain": [
       "C    15938\n",
       "B     5014\n",
       "D      349\n",
       "A       25\n",
       "E       22\n",
       "Name: total_income_category, dtype: int64"
      ]
     },
     "execution_count": 227,
     "metadata": {},
     "output_type": "execute_result"
    }
   ],
   "source": [
    "data['total_income_category'].value_counts() # Посмотрим распределение клиентов по ранее созданным группам ежемесяного дохода"
   ]
  },
  {
   "cell_type": "markdown",
   "id": "65d1607a",
   "metadata": {},
   "source": [
    "Большая часть клиентов попали в группу 'С' часть попали в группу 'B' в остальные группы попало небольшое количество клиентов, что может исказить результаты исследования. Сгруппируем клиентов по группам так чтобы их количество в каждой группе было примерно одинаково. И увеличим количество групп для увеличения разрешения, так при новой группировке интервалы дохода могут сильно измениться."
   ]
  },
  {
   "cell_type": "code",
   "execution_count": 228,
   "id": "4201b7b8",
   "metadata": {},
   "outputs": [],
   "source": [
    "data['total_income_new_category'] = pd.qcut(data['total_income'], q=8, labels=['H', 'G', 'F', 'E', 'D', 'C', 'B', 'A'])\n",
    "# Совместил поиск интервалов с помощью qcut и именование категорий с созданием нового столбца"
   ]
  },
  {
   "cell_type": "markdown",
   "id": "39bc9da1",
   "metadata": {},
   "source": [
    "<div class=\"alert alert-warning\">\n",
    "<b>Комментарий ревьюера №1</b> \n",
    "    \n",
    "Можно было сделать проще \n",
    "    \n",
    "    data['total_income_new_category'] = pd.qcut(data['total_income'], q=8, labels=['H', 'G', 'F', 'E', 'D', 'C', 'B', 'A']) \n",
    "</div>"
   ]
  },
  {
   "cell_type": "code",
   "execution_count": 229,
   "id": "0179180e",
   "metadata": {},
   "outputs": [
    {
     "data": {
      "text/html": [
       "<div>\n",
       "<style scoped>\n",
       "    .dataframe tbody tr th:only-of-type {\n",
       "        vertical-align: middle;\n",
       "    }\n",
       "\n",
       "    .dataframe tbody tr th {\n",
       "        vertical-align: top;\n",
       "    }\n",
       "\n",
       "    .dataframe thead tr th {\n",
       "        text-align: left;\n",
       "    }\n",
       "</style>\n",
       "<table border=\"1\" class=\"dataframe\">\n",
       "  <thead>\n",
       "    <tr>\n",
       "      <th></th>\n",
       "      <th>total_income_new_category</th>\n",
       "      <th>Всего кредитополучателей</th>\n",
       "      <th>Всего должников</th>\n",
       "      <th>Доля должников</th>\n",
       "    </tr>\n",
       "    <tr>\n",
       "      <th></th>\n",
       "      <th></th>\n",
       "      <th></th>\n",
       "      <th></th>\n",
       "      <th></th>\n",
       "    </tr>\n",
       "  </thead>\n",
       "  <tbody>\n",
       "    <tr>\n",
       "      <th>0</th>\n",
       "      <td>H</td>\n",
       "      <td>2669</td>\n",
       "      <td>206</td>\n",
       "      <td>0.077182</td>\n",
       "    </tr>\n",
       "    <tr>\n",
       "      <th>1</th>\n",
       "      <td>G</td>\n",
       "      <td>2668</td>\n",
       "      <td>221</td>\n",
       "      <td>0.082834</td>\n",
       "    </tr>\n",
       "    <tr>\n",
       "      <th>2</th>\n",
       "      <td>F</td>\n",
       "      <td>2669</td>\n",
       "      <td>233</td>\n",
       "      <td>0.087299</td>\n",
       "    </tr>\n",
       "    <tr>\n",
       "      <th>3</th>\n",
       "      <td>E</td>\n",
       "      <td>2792</td>\n",
       "      <td>247</td>\n",
       "      <td>0.088467</td>\n",
       "    </tr>\n",
       "    <tr>\n",
       "      <th>4</th>\n",
       "      <td>D</td>\n",
       "      <td>2544</td>\n",
       "      <td>223</td>\n",
       "      <td>0.087657</td>\n",
       "    </tr>\n",
       "    <tr>\n",
       "      <th>5</th>\n",
       "      <td>C</td>\n",
       "      <td>2669</td>\n",
       "      <td>221</td>\n",
       "      <td>0.082803</td>\n",
       "    </tr>\n",
       "    <tr>\n",
       "      <th>6</th>\n",
       "      <td>B</td>\n",
       "      <td>2668</td>\n",
       "      <td>196</td>\n",
       "      <td>0.073463</td>\n",
       "    </tr>\n",
       "    <tr>\n",
       "      <th>7</th>\n",
       "      <td>A</td>\n",
       "      <td>2669</td>\n",
       "      <td>185</td>\n",
       "      <td>0.069314</td>\n",
       "    </tr>\n",
       "  </tbody>\n",
       "</table>\n",
       "</div>"
      ],
      "text/plain": [
       "  total_income_new_category Всего кредитополучателей Всего должников  \\\n",
       "                                                                       \n",
       "0                         H                     2669             206   \n",
       "1                         G                     2668             221   \n",
       "2                         F                     2669             233   \n",
       "3                         E                     2792             247   \n",
       "4                         D                     2544             223   \n",
       "5                         C                     2669             221   \n",
       "6                         B                     2668             196   \n",
       "7                         A                     2669             185   \n",
       "\n",
       "  Доля должников  \n",
       "                  \n",
       "0       0.077182  \n",
       "1       0.082834  \n",
       "2       0.087299  \n",
       "3       0.088467  \n",
       "4       0.087657  \n",
       "5       0.082803  \n",
       "6       0.073463  \n",
       "7       0.069314  "
      ]
     },
     "execution_count": 229,
     "metadata": {},
     "output_type": "execute_result"
    }
   ],
   "source": [
    "category_debt_pivot('total_income_new_category') \n",
    "# Проверяем распределение по группам и считаем долю должников в сводной таблице с помощью функции"
   ]
  },
  {
   "cell_type": "code",
   "execution_count": 230,
   "id": "65f0d468",
   "metadata": {},
   "outputs": [
    {
     "data": {
      "image/png": "[encoded data removed]",
      "text/plain": [
       "<Figure size 432x288 with 1 Axes>"
      ]
     },
     "metadata": {
      "needs_background": "light"
     },
     "output_type": "display_data"
    }
   ],
   "source": [
    "plt.bar(category_debt_pivot('total_income_new_category')['total_income_new_category'], \n",
    "        category_debt_pivot('total_income_new_category')['Доля должников'])\n",
    "plt.gca().set(ylim=(0.05, 0.10),\n",
    "              xlabel='Группа по доходу', \n",
    "              ylabel='Доля задолженностей по кредитам',\n",
    "              title='Зависимость между доходом' \n",
    "              ' и возвратом кредита в срок\\n')\n",
    "plt.show()"
   ]
  },
  {
   "cell_type": "markdown",
   "id": "e8593def",
   "metadata": {
    "deletable": false,
    "id": "e8593def"
   },
   "source": [
    "**Вывод:** Исследовав зависимость между месячным доходом и имел ли задолженность клиент по возврату кредитов наблюдается рост доли задолженостей вместе с ростом ежемесячного дохода примерно до уровня в 142000. Далее происходит снижение доли задолженностей до минимального значения для клиентов с доходом свыше 254000.\n",
    "Таким образом более надежные клиенты находятся по краям диапазона доходов менее 83000 и свыше 200000, а самые ненадежные в его середине от 107000 до 166000."
   ]
  },
  {
   "cell_type": "markdown",
   "id": "318a72cf",
   "metadata": {},
   "source": [
    "<div class=\"alert alert-success\">\n",
    "<b>Комментарий ревьюера №1</b> \n",
    "    \n",
    "👍\n",
    "</div>"
   ]
  },
  {
   "cell_type": "markdown",
   "id": "99ecbd1f",
   "metadata": {
    "deletable": false,
    "editable": false,
    "id": "99ecbd1f"
   },
   "source": [
    "**Задание 22. Как разные цели кредита влияют на его возврат в срок?**"
   ]
  },
  {
   "cell_type": "code",
   "execution_count": 231,
   "id": "2b687290",
   "metadata": {
    "id": "2b687290"
   },
   "outputs": [
    {
     "data": {
      "text/html": [
       "<div>\n",
       "<style scoped>\n",
       "    .dataframe tbody tr th:only-of-type {\n",
       "        vertical-align: middle;\n",
       "    }\n",
       "\n",
       "    .dataframe tbody tr th {\n",
       "        vertical-align: top;\n",
       "    }\n",
       "\n",
       "    .dataframe thead tr th {\n",
       "        text-align: left;\n",
       "    }\n",
       "</style>\n",
       "<table border=\"1\" class=\"dataframe\">\n",
       "  <thead>\n",
       "    <tr>\n",
       "      <th></th>\n",
       "      <th>purpose_category</th>\n",
       "      <th>Всего кредитополучателей</th>\n",
       "      <th>Всего должников</th>\n",
       "      <th>Доля должников</th>\n",
       "    </tr>\n",
       "    <tr>\n",
       "      <th></th>\n",
       "      <th></th>\n",
       "      <th></th>\n",
       "      <th></th>\n",
       "      <th></th>\n",
       "    </tr>\n",
       "  </thead>\n",
       "  <tbody>\n",
       "    <tr>\n",
       "      <th>0</th>\n",
       "      <td>операции с автомобилем</td>\n",
       "      <td>4281</td>\n",
       "      <td>400</td>\n",
       "      <td>0.093436</td>\n",
       "    </tr>\n",
       "    <tr>\n",
       "      <th>1</th>\n",
       "      <td>операции с недвижимостью</td>\n",
       "      <td>10754</td>\n",
       "      <td>780</td>\n",
       "      <td>0.072531</td>\n",
       "    </tr>\n",
       "    <tr>\n",
       "      <th>2</th>\n",
       "      <td>получение образования</td>\n",
       "      <td>3989</td>\n",
       "      <td>369</td>\n",
       "      <td>0.092504</td>\n",
       "    </tr>\n",
       "    <tr>\n",
       "      <th>3</th>\n",
       "      <td>проведение свадьбы</td>\n",
       "      <td>2324</td>\n",
       "      <td>183</td>\n",
       "      <td>0.078744</td>\n",
       "    </tr>\n",
       "  </tbody>\n",
       "</table>\n",
       "</div>"
      ],
      "text/plain": [
       "           purpose_category Всего кредитополучателей Всего должников  \\\n",
       "                                                                       \n",
       "0    операции с автомобилем                     4281             400   \n",
       "1  операции с недвижимостью                    10754             780   \n",
       "2     получение образования                     3989             369   \n",
       "3        проведение свадьбы                     2324             183   \n",
       "\n",
       "  Доля должников  \n",
       "                  \n",
       "0       0.093436  \n",
       "1       0.072531  \n",
       "2       0.092504  \n",
       "3       0.078744  "
      ]
     },
     "execution_count": 231,
     "metadata": {},
     "output_type": "execute_result"
    }
   ],
   "source": [
    "category_debt_pivot('purpose_category') \n",
    "# Проверяем распределение по по целям кредита и считаем долю должников в сводной таблице с помощью функции"
   ]
  },
  {
   "cell_type": "markdown",
   "id": "54449c21",
   "metadata": {},
   "source": [
    "Чаще всего клиенты берут кредит на недвижимость. Операции с автомобилем и образование примерно одинаковы по популярности и реже всего берут кредит на проведение свадьбы."
   ]
  },
  {
   "cell_type": "code",
   "execution_count": 232,
   "id": "3fcf875d",
   "metadata": {},
   "outputs": [
    {
     "data": {
      "image/png": "[encoded data removed]",
      "text/plain": [
       "<Figure size 432x288 with 1 Axes>"
      ]
     },
     "metadata": {
      "needs_background": "light"
     },
     "output_type": "display_data"
    }
   ],
   "source": [
    "plt.bar(category_debt_pivot('purpose_category')['purpose_category'], \n",
    "        category_debt_pivot('purpose_category')['Доля должников'])\n",
    "plt.gca().set(ylim=(0.05, 0.10),\n",
    "              xlabel='Группа по цели', \n",
    "              ylabel='Доля задолженностей по кредитам',\n",
    "              title='Зависимость между целью кредита' \n",
    "              ' и возвратом кредита в срок\\n')\n",
    "plt.xticks(rotation=90)\n",
    "plt.show()"
   ]
  },
  {
   "cell_type": "markdown",
   "id": "b4bb2ce6",
   "metadata": {
    "deletable": false,
    "id": "b4bb2ce6"
   },
   "source": [
    "**Вывод:** Чаще всего клиенты задерживают выплаты по кредитам взятых с целями: операции с автомобилем и получение образования. Реже на проведение свадьбы и и операции с недвижимостью.\n",
    "Можно предположить что полученненные результаты в категориях операции с недвижимостью и операции с автомобилем, показывают что  клиенты меньше допускают просрочек с выплатой по кредитам для цели операции с недвижимостью чем с целью операции с автомобилем возможно из-за того, что в этих категориях часто кредит выдается или под залог цели кредита или до выплаты кредита, банк является владельцем цели кредита."
   ]
  },
  {
   "cell_type": "markdown",
   "id": "09c3ac4c",
   "metadata": {
    "deletable": false,
    "editable": false,
    "id": "09c3ac4c"
   },
   "source": [
    "**Задание 23. Приведите возможные причины появления пропусков в исходных данных.**"
   ]
  },
  {
   "cell_type": "markdown",
   "id": "9da2ceda",
   "metadata": {
    "deletable": false,
    "id": "9da2ceda"
   },
   "source": [
    "*Ответ:* Пропуски в исходных данных были выявлены в двух столбцах days_employed и total_income причем в одинаковом количестве. Возможно total_income и days_employed считается по формуле и зависят друг от друга, и если отсутствует(или не предоставлен клиентом) одно значение, то второе тоже будет не определено.\n",
    "\n",
    "Добавил:\n",
    "Также данная проблема могла возникнуть на этапе выгрузки данных, из-за неправильного запроса или при объединении таблиц, в которых отсутствовали столбцы с пропущенными значениями и автоматически были заполнены NaN."
   ]
  },
  {
   "cell_type": "markdown",
   "id": "204181d9",
   "metadata": {},
   "source": [
    "<div class=\"alert alert-danger\">\n",
    "<b>Комментарий ревьюера №1</b> \n",
    "    \n",
    "Не нужно забывать, что проблемы могли возникнуть и на этапе выгрузки данных. Неправильный запрос, объединение таблиц также может быть причиной. \n",
    "</div>"
   ]
  },
  {
   "cell_type": "markdown",
   "id": "7b0487d6",
   "metadata": {
    "deletable": false,
    "editable": false,
    "id": "7b0487d6"
   },
   "source": [
    "**Задание 24. Объясните, почему заполнить пропуски медианным значением — лучшее решение для количественных переменных.**"
   ]
  },
  {
   "cell_type": "markdown",
   "id": "7ecf2b8e",
   "metadata": {
    "deletable": false,
    "id": "7ecf2b8e"
   },
   "source": [
    "*Ответ:* Медианное значение для количественных переменных не чувствительно к выбросам (как среднее арифметическое) и в целом отражает середину значений в ряду данных. При отсутствии возможности восстановить данные, медианное значение лучше всего подходит для замены отсутствующих значений"
   ]
  },
  {
   "cell_type": "markdown",
   "id": "a3c58ec1",
   "metadata": {},
   "source": [
    "<div class=\"alert alert-success\">\n",
    "<b>Комментарий ревьюера №1</b> \n",
    "    \n",
    "Да, смотрим на наличие выбросов👍\n",
    "</div>"
   ]
  },
  {
   "cell_type": "markdown",
   "id": "6db5255a",
   "metadata": {
    "deletable": false,
    "editable": false,
    "id": "6db5255a"
   },
   "source": [
    "## Общий вывод."
   ]
  },
  {
   "cell_type": "markdown",
   "id": "bad65432",
   "metadata": {
    "id": "bad65432"
   },
   "source": [
    "На основании полученных результатов по исследованию статистики платежеспособности клиентов можно сделать вывод о том, что самыми надежными заемщиками являются клиенты без детей, находящиеся в законных отношениях, с доходом свыше 200000, цель кредита которых являются операции с недвижимостью.\n",
    "\n",
    "В противоположность  к ним по результатам исследования самыми ненадежными клиентами являются\n",
    "\n"
   ]
  },
  {
   "cell_type": "markdown",
   "id": "6aad7bcc",
   "metadata": {},
   "source": [
    "<div class=\"alert alert-success\">\n",
    "<b>Комментарий ревьюера №1</b> \n",
    "    \n",
    "Здорово, что описал портрет \"идеального\" клиента! Также можно добавить рекомендации банку-заказчику, описать портрет наиболее рискованного клиента.\n",
    "</div>"
   ]
  },
  {
   "cell_type": "markdown",
   "id": "20584209",
   "metadata": {},
   "source": [
    "<div style=\"border:solid purple 2px; padding: 20px\"> \n",
    "<b> <font color='purple' >   \n",
    "    \n",
    "В целом, работа хорошая. У тебя отличные аналитические навыки, но остались небольшие доработки. Доделывай и присылай на повторную проверку.\n",
    "        \n",
    "Жду твоих исправлений 😊\n",
    "</font></b>\n",
    "</div>"
   ]
  },
  {
   "cell_type": "markdown",
   "id": "49eab175",
   "metadata": {},
   "source": [
    "<div style=\"border:solid purple 2px; padding: 20px\"> \n",
    "<b> <font color='purple' >   \n",
    "Отлично! Критических замечаний больше нет. Проект принят! 👏 Поздравляю и желаю удачи!\n",
    "</font></b>\n",
    "</div>"
   ]
  }
 ],
 "metadata": {
  "ExecuteTimeLog": [
   {
    "duration": 639,
    "start_time": "2022-07-28T18:42:58.373Z"
   },
   {
    "duration": 27,
    "start_time": "2022-07-28T18:42:59.014Z"
   },
   {
    "duration": 47,
    "start_time": "2022-07-28T18:42:59.043Z"
   },
   {
    "duration": 37,
    "start_time": "2022-07-28T18:42:59.093Z"
   },
   {
    "duration": 47,
    "start_time": "2022-07-28T18:42:59.132Z"
   },
   {
    "duration": 4,
    "start_time": "2022-07-28T18:42:59.181Z"
   },
   {
    "duration": 26,
    "start_time": "2022-07-28T18:42:59.187Z"
   },
   {
    "duration": 15,
    "start_time": "2022-07-28T18:42:59.215Z"
   },
   {
    "duration": 19,
    "start_time": "2022-07-28T18:42:59.232Z"
   },
   {
    "duration": 45,
    "start_time": "2022-07-28T18:42:59.254Z"
   },
   {
    "duration": 66,
    "start_time": "2022-07-28T18:42:59.301Z"
   },
   {
    "duration": 12,
    "start_time": "2022-07-28T18:42:59.369Z"
   },
   {
    "duration": 23,
    "start_time": "2022-07-28T18:42:59.384Z"
   },
   {
    "duration": 32,
    "start_time": "2022-07-28T18:42:59.409Z"
   },
   {
    "duration": 43,
    "start_time": "2022-07-28T18:42:59.443Z"
   },
   {
    "duration": 14,
    "start_time": "2022-07-28T18:42:59.489Z"
   },
   {
    "duration": 36,
    "start_time": "2022-07-28T18:42:59.506Z"
   },
   {
    "duration": 22,
    "start_time": "2022-07-28T18:42:59.544Z"
   },
   {
    "duration": 14,
    "start_time": "2022-07-28T18:42:59.569Z"
   },
   {
    "duration": 24,
    "start_time": "2022-07-28T18:42:59.585Z"
   },
   {
    "duration": 32,
    "start_time": "2022-07-28T18:42:59.612Z"
   },
   {
    "duration": 78,
    "start_time": "2022-07-28T18:43:02.655Z"
   },
   {
    "duration": 12,
    "start_time": "2022-07-28T18:43:10.006Z"
   },
   {
    "duration": 8,
    "start_time": "2022-07-28T18:54:51.261Z"
   },
   {
    "duration": 8,
    "start_time": "2022-07-28T18:56:26.116Z"
   },
   {
    "duration": 6,
    "start_time": "2022-07-28T18:56:42.195Z"
   },
   {
    "duration": 7,
    "start_time": "2022-07-28T18:58:55.927Z"
   },
   {
    "duration": 13,
    "start_time": "2022-07-28T19:01:53.254Z"
   },
   {
    "duration": 12,
    "start_time": "2022-07-28T19:06:41.779Z"
   },
   {
    "duration": 10,
    "start_time": "2022-07-28T19:07:44.328Z"
   },
   {
    "duration": 1002,
    "start_time": "2022-07-29T13:35:57.729Z"
   },
   {
    "duration": 23,
    "start_time": "2022-07-29T13:35:58.733Z"
   },
   {
    "duration": 15,
    "start_time": "2022-07-29T13:35:58.758Z"
   },
   {
    "duration": 11,
    "start_time": "2022-07-29T13:35:58.775Z"
   },
   {
    "duration": 52,
    "start_time": "2022-07-29T13:35:58.787Z"
   },
   {
    "duration": 4,
    "start_time": "2022-07-29T13:35:58.840Z"
   },
   {
    "duration": 19,
    "start_time": "2022-07-29T13:35:58.845Z"
   },
   {
    "duration": 11,
    "start_time": "2022-07-29T13:35:58.866Z"
   },
   {
    "duration": 12,
    "start_time": "2022-07-29T13:35:58.879Z"
   },
   {
    "duration": 4,
    "start_time": "2022-07-29T13:35:58.895Z"
   },
   {
    "duration": 53,
    "start_time": "2022-07-29T13:35:58.924Z"
   },
   {
    "duration": 12,
    "start_time": "2022-07-29T13:35:58.980Z"
   },
   {
    "duration": 7,
    "start_time": "2022-07-29T13:35:58.994Z"
   },
   {
    "duration": 33,
    "start_time": "2022-07-29T13:35:59.003Z"
   },
   {
    "duration": 20,
    "start_time": "2022-07-29T13:35:59.038Z"
   },
   {
    "duration": 15,
    "start_time": "2022-07-29T13:35:59.060Z"
   },
   {
    "duration": 8,
    "start_time": "2022-07-29T13:35:59.078Z"
   },
   {
    "duration": 35,
    "start_time": "2022-07-29T13:35:59.088Z"
   },
   {
    "duration": 10,
    "start_time": "2022-07-29T13:35:59.126Z"
   },
   {
    "duration": 4,
    "start_time": "2022-07-29T13:35:59.138Z"
   },
   {
    "duration": 19,
    "start_time": "2022-07-29T13:35:59.144Z"
   },
   {
    "duration": 462,
    "start_time": "2022-07-29T13:35:59.165Z"
   },
   {
    "duration": 6,
    "start_time": "2022-07-29T13:35:59.629Z"
   },
   {
    "duration": 13,
    "start_time": "2022-07-29T13:35:59.637Z"
   },
   {
    "duration": 75,
    "start_time": "2022-07-29T13:36:20.988Z"
   },
   {
    "duration": 10,
    "start_time": "2022-07-29T13:37:11.137Z"
   },
   {
    "duration": 197,
    "start_time": "2022-07-29T13:37:25.871Z"
   },
   {
    "duration": 167,
    "start_time": "2022-07-29T13:37:48.760Z"
   },
   {
    "duration": 6,
    "start_time": "2022-07-29T13:46:29.478Z"
   },
   {
    "duration": 6,
    "start_time": "2022-07-29T13:47:47.527Z"
   },
   {
    "duration": 8,
    "start_time": "2022-07-29T13:47:49.659Z"
   },
   {
    "duration": 9,
    "start_time": "2022-07-29T13:47:52.326Z"
   },
   {
    "duration": 156,
    "start_time": "2022-07-29T13:47:55.729Z"
   },
   {
    "duration": 8,
    "start_time": "2022-07-29T13:48:58.978Z"
   },
   {
    "duration": 12,
    "start_time": "2022-07-29T13:53:57.345Z"
   },
   {
    "duration": 151,
    "start_time": "2022-07-29T13:55:37.911Z"
   },
   {
    "duration": 170,
    "start_time": "2022-07-29T13:57:26.421Z"
   },
   {
    "duration": 151,
    "start_time": "2022-07-29T13:57:34.353Z"
   },
   {
    "duration": 658,
    "start_time": "2022-07-29T18:32:10.226Z"
   },
   {
    "duration": 33,
    "start_time": "2022-07-29T18:32:10.887Z"
   },
   {
    "duration": 22,
    "start_time": "2022-07-29T18:32:10.922Z"
   },
   {
    "duration": 18,
    "start_time": "2022-07-29T18:32:10.946Z"
   },
   {
    "duration": 61,
    "start_time": "2022-07-29T18:32:10.967Z"
   },
   {
    "duration": 4,
    "start_time": "2022-07-29T18:32:11.031Z"
   },
   {
    "duration": 12,
    "start_time": "2022-07-29T18:32:11.037Z"
   },
   {
    "duration": 7,
    "start_time": "2022-07-29T18:32:11.051Z"
   },
   {
    "duration": 9,
    "start_time": "2022-07-29T18:32:11.060Z"
   },
   {
    "duration": 6,
    "start_time": "2022-07-29T18:32:11.071Z"
   },
   {
    "duration": 72,
    "start_time": "2022-07-29T18:32:11.078Z"
   },
   {
    "duration": 10,
    "start_time": "2022-07-29T18:32:11.152Z"
   },
   {
    "duration": 6,
    "start_time": "2022-07-29T18:32:11.164Z"
   },
   {
    "duration": 23,
    "start_time": "2022-07-29T18:32:11.172Z"
   },
   {
    "duration": 20,
    "start_time": "2022-07-29T18:32:11.209Z"
   },
   {
    "duration": 13,
    "start_time": "2022-07-29T18:32:11.231Z"
   },
   {
    "duration": 8,
    "start_time": "2022-07-29T18:32:11.246Z"
   },
   {
    "duration": 15,
    "start_time": "2022-07-29T18:32:11.256Z"
   },
   {
    "duration": 7,
    "start_time": "2022-07-29T18:32:11.273Z"
   },
   {
    "duration": 29,
    "start_time": "2022-07-29T18:32:11.282Z"
   },
   {
    "duration": 15,
    "start_time": "2022-07-29T18:32:11.313Z"
   },
   {
    "duration": 861,
    "start_time": "2022-07-29T18:32:11.330Z"
   },
   {
    "duration": 8,
    "start_time": "2022-07-29T18:32:12.193Z"
   },
   {
    "duration": 12,
    "start_time": "2022-07-29T18:32:12.210Z"
   },
   {
    "duration": 225,
    "start_time": "2022-07-29T18:32:12.224Z"
   },
   {
    "duration": 8,
    "start_time": "2022-07-29T18:32:12.450Z"
   },
   {
    "duration": 20,
    "start_time": "2022-07-29T18:32:12.460Z"
   },
   {
    "duration": 176,
    "start_time": "2022-07-29T18:32:12.482Z"
   },
   {
    "duration": 151,
    "start_time": "2022-07-29T18:49:32.556Z"
   },
   {
    "duration": 75,
    "start_time": "2022-07-29T18:50:30.271Z"
   },
   {
    "duration": 79,
    "start_time": "2022-07-29T18:51:35.238Z"
   },
   {
    "duration": 4,
    "start_time": "2022-07-29T18:51:56.145Z"
   },
   {
    "duration": 5,
    "start_time": "2022-07-29T18:53:51.488Z"
   },
   {
    "duration": 32,
    "start_time": "2022-07-29T18:54:10.439Z"
   },
   {
    "duration": 20,
    "start_time": "2022-07-29T18:55:09.789Z"
   },
   {
    "duration": 20,
    "start_time": "2022-07-29T18:57:29.964Z"
   },
   {
    "duration": 20,
    "start_time": "2022-07-29T19:01:53.576Z"
   },
   {
    "duration": 26,
    "start_time": "2022-07-29T19:01:54.107Z"
   },
   {
    "duration": 78,
    "start_time": "2022-07-29T19:01:54.800Z"
   },
   {
    "duration": 8,
    "start_time": "2022-07-29T19:09:42.110Z"
   },
   {
    "duration": 9,
    "start_time": "2022-07-29T19:10:12.281Z"
   },
   {
    "duration": 10,
    "start_time": "2022-07-29T19:10:18.059Z"
   },
   {
    "duration": 18,
    "start_time": "2022-07-29T19:13:39.809Z"
   },
   {
    "duration": 19,
    "start_time": "2022-07-29T19:13:40.467Z"
   },
   {
    "duration": 8,
    "start_time": "2022-07-29T19:16:05.955Z"
   },
   {
    "duration": 685,
    "start_time": "2022-07-30T17:42:30.438Z"
   },
   {
    "duration": 22,
    "start_time": "2022-07-30T17:42:31.125Z"
   },
   {
    "duration": 16,
    "start_time": "2022-07-30T17:42:31.148Z"
   },
   {
    "duration": 11,
    "start_time": "2022-07-30T17:42:31.166Z"
   },
   {
    "duration": 35,
    "start_time": "2022-07-30T17:42:31.178Z"
   },
   {
    "duration": 3,
    "start_time": "2022-07-30T17:42:31.215Z"
   },
   {
    "duration": 7,
    "start_time": "2022-07-30T17:42:31.237Z"
   },
   {
    "duration": 18,
    "start_time": "2022-07-30T17:42:31.246Z"
   },
   {
    "duration": 22,
    "start_time": "2022-07-30T17:42:31.265Z"
   },
   {
    "duration": 4,
    "start_time": "2022-07-30T17:42:31.291Z"
   },
   {
    "duration": 59,
    "start_time": "2022-07-30T17:42:31.296Z"
   },
   {
    "duration": 9,
    "start_time": "2022-07-30T17:42:31.357Z"
   },
   {
    "duration": 4,
    "start_time": "2022-07-30T17:42:31.367Z"
   },
   {
    "duration": 19,
    "start_time": "2022-07-30T17:42:31.373Z"
   },
   {
    "duration": 16,
    "start_time": "2022-07-30T17:42:31.393Z"
   },
   {
    "duration": 11,
    "start_time": "2022-07-30T17:42:31.410Z"
   },
   {
    "duration": 4,
    "start_time": "2022-07-30T17:42:31.437Z"
   },
   {
    "duration": 17,
    "start_time": "2022-07-30T17:42:31.442Z"
   },
   {
    "duration": 7,
    "start_time": "2022-07-30T17:42:31.460Z"
   },
   {
    "duration": 5,
    "start_time": "2022-07-30T17:42:31.468Z"
   },
   {
    "duration": 14,
    "start_time": "2022-07-30T17:42:31.475Z"
   },
   {
    "duration": 413,
    "start_time": "2022-07-30T17:42:31.491Z"
   },
   {
    "duration": 5,
    "start_time": "2022-07-30T17:42:31.906Z"
   },
   {
    "duration": 10,
    "start_time": "2022-07-30T17:42:31.912Z"
   },
   {
    "duration": 170,
    "start_time": "2022-07-30T17:42:31.923Z"
   },
   {
    "duration": 9,
    "start_time": "2022-07-30T17:42:32.095Z"
   },
   {
    "duration": 16,
    "start_time": "2022-07-30T17:42:32.106Z"
   },
   {
    "duration": 138,
    "start_time": "2022-07-30T17:42:32.139Z"
   },
   {
    "duration": 11,
    "start_time": "2022-07-30T17:42:32.279Z"
   },
   {
    "duration": 11,
    "start_time": "2022-07-30T17:42:32.291Z"
   },
   {
    "duration": 40,
    "start_time": "2022-07-30T17:42:32.304Z"
   },
   {
    "duration": 16,
    "start_time": "2022-07-30T17:42:32.345Z"
   },
   {
    "duration": 6,
    "start_time": "2022-07-30T17:42:32.362Z"
   },
   {
    "duration": 13,
    "start_time": "2022-07-30T18:46:27.709Z"
   },
   {
    "duration": 12,
    "start_time": "2022-07-30T18:47:39.347Z"
   },
   {
    "duration": 13,
    "start_time": "2022-07-30T18:51:00.899Z"
   },
   {
    "duration": 1816,
    "start_time": "2022-07-30T18:51:23.141Z"
   },
   {
    "duration": 7,
    "start_time": "2022-07-30T18:51:32.175Z"
   },
   {
    "duration": 12,
    "start_time": "2022-07-30T18:57:37.320Z"
   },
   {
    "duration": 10,
    "start_time": "2022-07-30T18:58:08.145Z"
   },
   {
    "duration": 133,
    "start_time": "2022-07-30T18:58:56.432Z"
   },
   {
    "duration": 119,
    "start_time": "2022-07-30T18:59:28.047Z"
   },
   {
    "duration": 8,
    "start_time": "2022-07-30T19:00:15.603Z"
   },
   {
    "duration": 8,
    "start_time": "2022-07-30T19:00:53.864Z"
   },
   {
    "duration": 10,
    "start_time": "2022-07-30T19:08:45.012Z"
   },
   {
    "duration": 188,
    "start_time": "2022-07-30T19:08:49.024Z"
   },
   {
    "duration": 7,
    "start_time": "2022-07-30T19:23:49.250Z"
   },
   {
    "duration": 13,
    "start_time": "2022-07-30T19:27:32.762Z"
   },
   {
    "duration": 124,
    "start_time": "2022-07-30T19:27:35.842Z"
   },
   {
    "duration": 123,
    "start_time": "2022-07-30T19:27:47.471Z"
   },
   {
    "duration": 122,
    "start_time": "2022-07-30T19:31:58.686Z"
   },
   {
    "duration": 71,
    "start_time": "2022-07-30T20:01:09.287Z"
   },
   {
    "duration": 15,
    "start_time": "2022-07-30T20:01:09.359Z"
   },
   {
    "duration": 16,
    "start_time": "2022-07-30T20:01:09.375Z"
   },
   {
    "duration": 9,
    "start_time": "2022-07-30T20:01:09.394Z"
   },
   {
    "duration": 60,
    "start_time": "2022-07-30T20:01:09.404Z"
   },
   {
    "duration": 3,
    "start_time": "2022-07-30T20:01:09.466Z"
   },
   {
    "duration": 11,
    "start_time": "2022-07-30T20:01:09.470Z"
   },
   {
    "duration": 4,
    "start_time": "2022-07-30T20:01:09.482Z"
   },
   {
    "duration": 9,
    "start_time": "2022-07-30T20:01:09.487Z"
   },
   {
    "duration": 5,
    "start_time": "2022-07-30T20:01:09.498Z"
   },
   {
    "duration": 55,
    "start_time": "2022-07-30T20:01:09.504Z"
   },
   {
    "duration": 10,
    "start_time": "2022-07-30T20:01:09.560Z"
   },
   {
    "duration": 4,
    "start_time": "2022-07-30T20:01:09.571Z"
   },
   {
    "duration": 19,
    "start_time": "2022-07-30T20:01:09.577Z"
   },
   {
    "duration": 16,
    "start_time": "2022-07-30T20:01:09.597Z"
   },
   {
    "duration": 30,
    "start_time": "2022-07-30T20:01:09.614Z"
   },
   {
    "duration": 6,
    "start_time": "2022-07-30T20:01:09.645Z"
   },
   {
    "duration": 12,
    "start_time": "2022-07-30T20:01:09.652Z"
   },
   {
    "duration": 9,
    "start_time": "2022-07-30T20:01:09.665Z"
   },
   {
    "duration": 3,
    "start_time": "2022-07-30T20:01:09.675Z"
   },
   {
    "duration": 11,
    "start_time": "2022-07-30T20:01:09.680Z"
   },
   {
    "duration": 5,
    "start_time": "2022-07-30T20:01:09.693Z"
   },
   {
    "duration": 7,
    "start_time": "2022-07-30T20:01:09.699Z"
   },
   {
    "duration": 35,
    "start_time": "2022-07-30T20:01:09.707Z"
   },
   {
    "duration": 147,
    "start_time": "2022-07-30T20:01:09.744Z"
   },
   {
    "duration": 6,
    "start_time": "2022-07-30T20:01:09.892Z"
   },
   {
    "duration": 14,
    "start_time": "2022-07-30T20:01:09.900Z"
   },
   {
    "duration": 143,
    "start_time": "2022-07-30T20:01:09.917Z"
   },
   {
    "duration": 8,
    "start_time": "2022-07-30T20:01:10.062Z"
   },
   {
    "duration": 9,
    "start_time": "2022-07-30T20:01:10.071Z"
   },
   {
    "duration": 21,
    "start_time": "2022-07-30T20:01:10.082Z"
   },
   {
    "duration": 33,
    "start_time": "2022-07-30T20:01:10.104Z"
   },
   {
    "duration": 6,
    "start_time": "2022-07-30T20:01:10.139Z"
   },
   {
    "duration": 13,
    "start_time": "2022-07-30T20:01:10.147Z"
   },
   {
    "duration": 12,
    "start_time": "2022-07-30T20:01:10.161Z"
   },
   {
    "duration": 7,
    "start_time": "2022-07-30T20:01:10.174Z"
   },
   {
    "duration": 23,
    "start_time": "2022-07-30T20:01:10.182Z"
   },
   {
    "duration": 145,
    "start_time": "2022-07-30T20:01:10.207Z"
   },
   {
    "duration": 7,
    "start_time": "2022-07-30T20:01:10.354Z"
   },
   {
    "duration": 13,
    "start_time": "2022-07-30T20:01:10.362Z"
   },
   {
    "duration": 134,
    "start_time": "2022-07-30T20:01:10.376Z"
   },
   {
    "duration": 69,
    "start_time": "2022-07-30T23:07:51.136Z"
   },
   {
    "duration": 14,
    "start_time": "2022-07-30T23:07:51.207Z"
   },
   {
    "duration": 23,
    "start_time": "2022-07-30T23:07:51.223Z"
   },
   {
    "duration": 12,
    "start_time": "2022-07-30T23:07:51.248Z"
   },
   {
    "duration": 37,
    "start_time": "2022-07-30T23:07:51.262Z"
   },
   {
    "duration": 3,
    "start_time": "2022-07-30T23:07:51.301Z"
   },
   {
    "duration": 12,
    "start_time": "2022-07-30T23:07:51.305Z"
   },
   {
    "duration": 3,
    "start_time": "2022-07-30T23:07:51.336Z"
   },
   {
    "duration": 9,
    "start_time": "2022-07-30T23:07:51.341Z"
   },
   {
    "duration": 4,
    "start_time": "2022-07-30T23:07:51.352Z"
   },
   {
    "duration": 49,
    "start_time": "2022-07-30T23:07:51.357Z"
   },
   {
    "duration": 9,
    "start_time": "2022-07-30T23:07:51.407Z"
   },
   {
    "duration": 4,
    "start_time": "2022-07-30T23:07:51.418Z"
   },
   {
    "duration": 23,
    "start_time": "2022-07-30T23:07:51.424Z"
   },
   {
    "duration": 16,
    "start_time": "2022-07-30T23:07:51.448Z"
   },
   {
    "duration": 10,
    "start_time": "2022-07-30T23:07:51.465Z"
   },
   {
    "duration": 10,
    "start_time": "2022-07-30T23:07:51.477Z"
   },
   {
    "duration": 21,
    "start_time": "2022-07-30T23:07:51.488Z"
   },
   {
    "duration": 21,
    "start_time": "2022-07-30T23:07:51.510Z"
   },
   {
    "duration": 4,
    "start_time": "2022-07-30T23:07:51.533Z"
   },
   {
    "duration": 16,
    "start_time": "2022-07-30T23:07:51.539Z"
   },
   {
    "duration": 22,
    "start_time": "2022-07-30T23:07:51.556Z"
   },
   {
    "duration": 6,
    "start_time": "2022-07-30T23:07:51.579Z"
   },
   {
    "duration": 15,
    "start_time": "2022-07-30T23:07:51.586Z"
   },
   {
    "duration": 139,
    "start_time": "2022-07-30T23:07:51.602Z"
   },
   {
    "duration": 7,
    "start_time": "2022-07-30T23:07:51.743Z"
   },
   {
    "duration": 17,
    "start_time": "2022-07-30T23:07:51.752Z"
   },
   {
    "duration": 136,
    "start_time": "2022-07-30T23:07:51.773Z"
   },
   {
    "duration": 8,
    "start_time": "2022-07-30T23:07:51.911Z"
   },
   {
    "duration": 20,
    "start_time": "2022-07-30T23:07:51.921Z"
   },
   {
    "duration": 19,
    "start_time": "2022-07-30T23:07:51.942Z"
   },
   {
    "duration": 16,
    "start_time": "2022-07-30T23:07:51.963Z"
   },
   {
    "duration": 6,
    "start_time": "2022-07-30T23:07:51.981Z"
   },
   {
    "duration": 18,
    "start_time": "2022-07-30T23:07:51.989Z"
   },
   {
    "duration": 13,
    "start_time": "2022-07-30T23:07:52.037Z"
   },
   {
    "duration": 10,
    "start_time": "2022-07-30T23:07:52.052Z"
   },
   {
    "duration": 16,
    "start_time": "2022-07-30T23:07:52.063Z"
   },
   {
    "duration": 137,
    "start_time": "2022-07-30T23:07:52.081Z"
   },
   {
    "duration": 7,
    "start_time": "2022-07-30T23:07:52.220Z"
   },
   {
    "duration": 12,
    "start_time": "2022-07-30T23:07:52.237Z"
   },
   {
    "duration": 193,
    "start_time": "2022-07-30T23:07:52.251Z"
   },
   {
    "duration": 64,
    "start_time": "2022-07-31T07:53:11.715Z"
   },
   {
    "duration": 0,
    "start_time": "2022-07-31T07:53:11.780Z"
   },
   {
    "duration": 566,
    "start_time": "2022-07-31T07:53:17.615Z"
   },
   {
    "duration": 24,
    "start_time": "2022-07-31T07:53:18.183Z"
   },
   {
    "duration": 17,
    "start_time": "2022-07-31T07:53:18.209Z"
   },
   {
    "duration": 10,
    "start_time": "2022-07-31T07:53:18.228Z"
   },
   {
    "duration": 38,
    "start_time": "2022-07-31T07:53:18.240Z"
   },
   {
    "duration": 4,
    "start_time": "2022-07-31T07:53:18.280Z"
   },
   {
    "duration": 9,
    "start_time": "2022-07-31T07:53:18.311Z"
   },
   {
    "duration": 5,
    "start_time": "2022-07-31T07:53:18.322Z"
   },
   {
    "duration": 10,
    "start_time": "2022-07-31T07:53:18.328Z"
   },
   {
    "duration": 8,
    "start_time": "2022-07-31T07:53:18.341Z"
   },
   {
    "duration": 70,
    "start_time": "2022-07-31T07:53:18.351Z"
   },
   {
    "duration": 14,
    "start_time": "2022-07-31T07:53:18.424Z"
   },
   {
    "duration": 6,
    "start_time": "2022-07-31T07:53:18.440Z"
   },
   {
    "duration": 32,
    "start_time": "2022-07-31T07:53:18.447Z"
   },
   {
    "duration": 44,
    "start_time": "2022-07-31T07:53:18.481Z"
   },
   {
    "duration": 16,
    "start_time": "2022-07-31T07:53:18.527Z"
   },
   {
    "duration": 5,
    "start_time": "2022-07-31T07:53:18.545Z"
   },
   {
    "duration": 14,
    "start_time": "2022-07-31T07:53:18.552Z"
   },
   {
    "duration": 10,
    "start_time": "2022-07-31T07:53:18.568Z"
   },
   {
    "duration": 3,
    "start_time": "2022-07-31T07:53:18.580Z"
   },
   {
    "duration": 36,
    "start_time": "2022-07-31T07:53:18.585Z"
   },
   {
    "duration": 424,
    "start_time": "2022-07-31T07:53:18.623Z"
   },
   {
    "duration": 8,
    "start_time": "2022-07-31T07:53:19.049Z"
   },
   {
    "duration": 11,
    "start_time": "2022-07-31T07:53:19.058Z"
   },
   {
    "duration": 196,
    "start_time": "2022-07-31T07:53:19.071Z"
   },
   {
    "duration": 9,
    "start_time": "2022-07-31T07:53:19.268Z"
   },
   {
    "duration": 29,
    "start_time": "2022-07-31T07:53:23.493Z"
   },
   {
    "duration": 148,
    "start_time": "2022-07-31T07:53:34.915Z"
   },
   {
    "duration": 19,
    "start_time": "2022-07-31T07:56:17.312Z"
   },
   {
    "duration": 44,
    "start_time": "2022-07-31T07:57:45.620Z"
   },
   {
    "duration": 86,
    "start_time": "2022-07-31T07:57:49.974Z"
   },
   {
    "duration": 48,
    "start_time": "2022-07-31T07:57:50.062Z"
   },
   {
    "duration": 27,
    "start_time": "2022-07-31T07:57:50.113Z"
   },
   {
    "duration": 12,
    "start_time": "2022-07-31T07:57:50.143Z"
   },
   {
    "duration": 72,
    "start_time": "2022-07-31T07:57:50.157Z"
   },
   {
    "duration": 4,
    "start_time": "2022-07-31T07:57:50.230Z"
   },
   {
    "duration": 14,
    "start_time": "2022-07-31T07:57:50.236Z"
   },
   {
    "duration": 7,
    "start_time": "2022-07-31T07:57:50.252Z"
   },
   {
    "duration": 10,
    "start_time": "2022-07-31T07:57:50.261Z"
   },
   {
    "duration": 39,
    "start_time": "2022-07-31T07:57:50.275Z"
   },
   {
    "duration": 46,
    "start_time": "2022-07-31T07:57:50.316Z"
   },
   {
    "duration": 17,
    "start_time": "2022-07-31T07:57:50.364Z"
   },
   {
    "duration": 6,
    "start_time": "2022-07-31T07:57:50.383Z"
   },
   {
    "duration": 31,
    "start_time": "2022-07-31T07:57:50.411Z"
   },
   {
    "duration": 21,
    "start_time": "2022-07-31T07:57:50.444Z"
   },
   {
    "duration": 44,
    "start_time": "2022-07-31T07:57:50.467Z"
   },
   {
    "duration": 8,
    "start_time": "2022-07-31T07:57:50.514Z"
   },
   {
    "duration": 23,
    "start_time": "2022-07-31T07:57:50.524Z"
   },
   {
    "duration": 9,
    "start_time": "2022-07-31T07:57:50.550Z"
   },
   {
    "duration": 21,
    "start_time": "2022-07-31T07:57:50.562Z"
   },
   {
    "duration": 21,
    "start_time": "2022-07-31T07:57:50.585Z"
   },
   {
    "duration": 12,
    "start_time": "2022-07-31T07:57:50.609Z"
   },
   {
    "duration": 13,
    "start_time": "2022-07-31T07:57:50.624Z"
   },
   {
    "duration": 29,
    "start_time": "2022-07-31T07:57:50.639Z"
   },
   {
    "duration": 187,
    "start_time": "2022-07-31T07:57:50.670Z"
   },
   {
    "duration": 11,
    "start_time": "2022-07-31T07:57:50.859Z"
   },
   {
    "duration": 54,
    "start_time": "2022-07-31T07:57:50.872Z"
   },
   {
    "duration": 185,
    "start_time": "2022-07-31T07:57:50.931Z"
   },
   {
    "duration": 9,
    "start_time": "2022-07-31T07:57:51.117Z"
   },
   {
    "duration": 14,
    "start_time": "2022-07-31T07:57:51.128Z"
   },
   {
    "duration": 23,
    "start_time": "2022-07-31T07:57:51.144Z"
   },
   {
    "duration": 42,
    "start_time": "2022-07-31T07:57:51.169Z"
   },
   {
    "duration": 9,
    "start_time": "2022-07-31T07:57:51.213Z"
   },
   {
    "duration": 89,
    "start_time": "2022-07-31T07:57:51.223Z"
   },
   {
    "duration": 14,
    "start_time": "2022-07-31T07:57:51.313Z"
   },
   {
    "duration": 26,
    "start_time": "2022-07-31T07:57:51.329Z"
   },
   {
    "duration": 56,
    "start_time": "2022-07-31T07:57:51.357Z"
   },
   {
    "duration": 24,
    "start_time": "2022-07-31T07:59:13.611Z"
   },
   {
    "duration": 162,
    "start_time": "2022-07-31T08:09:16.728Z"
   },
   {
    "duration": 150,
    "start_time": "2022-07-31T08:14:42.570Z"
   },
   {
    "duration": 78,
    "start_time": "2022-07-31T08:22:34.203Z"
   },
   {
    "duration": 16,
    "start_time": "2022-07-31T08:22:34.283Z"
   },
   {
    "duration": 20,
    "start_time": "2022-07-31T08:22:34.310Z"
   },
   {
    "duration": 12,
    "start_time": "2022-07-31T08:22:34.332Z"
   },
   {
    "duration": 70,
    "start_time": "2022-07-31T08:22:34.347Z"
   },
   {
    "duration": 4,
    "start_time": "2022-07-31T08:22:34.420Z"
   },
   {
    "duration": 21,
    "start_time": "2022-07-31T08:22:34.425Z"
   },
   {
    "duration": 16,
    "start_time": "2022-07-31T08:22:34.447Z"
   },
   {
    "duration": 19,
    "start_time": "2022-07-31T08:22:34.465Z"
   },
   {
    "duration": 11,
    "start_time": "2022-07-31T08:22:34.485Z"
   },
   {
    "duration": 44,
    "start_time": "2022-07-31T08:22:34.498Z"
   },
   {
    "duration": 11,
    "start_time": "2022-07-31T08:22:34.544Z"
   },
   {
    "duration": 15,
    "start_time": "2022-07-31T08:22:34.557Z"
   },
   {
    "duration": 28,
    "start_time": "2022-07-31T08:22:34.575Z"
   },
   {
    "duration": 27,
    "start_time": "2022-07-31T08:22:34.605Z"
   },
   {
    "duration": 13,
    "start_time": "2022-07-31T08:22:34.633Z"
   },
   {
    "duration": 10,
    "start_time": "2022-07-31T08:22:34.648Z"
   },
   {
    "duration": 22,
    "start_time": "2022-07-31T08:22:34.660Z"
   },
   {
    "duration": 28,
    "start_time": "2022-07-31T08:22:34.684Z"
   },
   {
    "duration": 4,
    "start_time": "2022-07-31T08:22:34.714Z"
   },
   {
    "duration": 32,
    "start_time": "2022-07-31T08:22:34.719Z"
   },
   {
    "duration": 32,
    "start_time": "2022-07-31T08:22:34.753Z"
   },
   {
    "duration": 14,
    "start_time": "2022-07-31T08:22:34.787Z"
   },
   {
    "duration": 27,
    "start_time": "2022-07-31T08:22:34.803Z"
   },
   {
    "duration": 164,
    "start_time": "2022-07-31T08:22:34.832Z"
   },
   {
    "duration": 15,
    "start_time": "2022-07-31T08:22:34.997Z"
   },
   {
    "duration": 40,
    "start_time": "2022-07-31T08:22:35.013Z"
   },
   {
    "duration": 155,
    "start_time": "2022-07-31T08:22:35.055Z"
   },
   {
    "duration": 9,
    "start_time": "2022-07-31T08:22:35.212Z"
   },
   {
    "duration": 31,
    "start_time": "2022-07-31T08:22:35.224Z"
   },
   {
    "duration": 32,
    "start_time": "2022-07-31T08:22:35.258Z"
   },
   {
    "duration": 26,
    "start_time": "2022-07-31T08:22:35.292Z"
   },
   {
    "duration": 19,
    "start_time": "2022-07-31T08:22:35.320Z"
   },
   {
    "duration": 56,
    "start_time": "2022-07-31T08:22:35.341Z"
   },
   {
    "duration": 15,
    "start_time": "2022-07-31T08:22:35.399Z"
   },
   {
    "duration": 42,
    "start_time": "2022-07-31T08:22:35.416Z"
   },
   {
    "duration": 60,
    "start_time": "2022-07-31T08:22:35.459Z"
   },
   {
    "duration": 158,
    "start_time": "2022-07-31T08:22:35.521Z"
   },
   {
    "duration": 9,
    "start_time": "2022-07-31T08:22:35.680Z"
   },
   {
    "duration": 45,
    "start_time": "2022-07-31T08:22:35.690Z"
   },
   {
    "duration": 158,
    "start_time": "2022-07-31T08:22:35.739Z"
   },
   {
    "duration": 83,
    "start_time": "2022-07-31T08:23:41.173Z"
   },
   {
    "duration": 17,
    "start_time": "2022-07-31T08:23:41.258Z"
   },
   {
    "duration": 36,
    "start_time": "2022-07-31T08:23:41.276Z"
   },
   {
    "duration": 17,
    "start_time": "2022-07-31T08:23:41.315Z"
   },
   {
    "duration": 37,
    "start_time": "2022-07-31T08:23:41.333Z"
   },
   {
    "duration": 3,
    "start_time": "2022-07-31T08:23:41.372Z"
   },
   {
    "duration": 34,
    "start_time": "2022-07-31T08:23:41.377Z"
   },
   {
    "duration": 11,
    "start_time": "2022-07-31T08:23:41.414Z"
   },
   {
    "duration": 12,
    "start_time": "2022-07-31T08:23:41.427Z"
   },
   {
    "duration": 5,
    "start_time": "2022-07-31T08:23:41.443Z"
   },
   {
    "duration": 60,
    "start_time": "2022-07-31T08:23:41.450Z"
   },
   {
    "duration": 18,
    "start_time": "2022-07-31T08:23:41.513Z"
   },
   {
    "duration": 4,
    "start_time": "2022-07-31T08:23:41.532Z"
   },
   {
    "duration": 19,
    "start_time": "2022-07-31T08:23:41.538Z"
   },
   {
    "duration": 19,
    "start_time": "2022-07-31T08:23:41.558Z"
   },
   {
    "duration": 46,
    "start_time": "2022-07-31T08:23:41.578Z"
   },
   {
    "duration": 4,
    "start_time": "2022-07-31T08:23:41.626Z"
   },
   {
    "duration": 16,
    "start_time": "2022-07-31T08:23:41.631Z"
   },
   {
    "duration": 9,
    "start_time": "2022-07-31T08:23:41.648Z"
   },
   {
    "duration": 3,
    "start_time": "2022-07-31T08:23:41.659Z"
   },
   {
    "duration": 12,
    "start_time": "2022-07-31T08:23:41.664Z"
   },
   {
    "duration": 32,
    "start_time": "2022-07-31T08:23:41.678Z"
   },
   {
    "duration": 11,
    "start_time": "2022-07-31T08:23:41.713Z"
   },
   {
    "duration": 28,
    "start_time": "2022-07-31T08:23:41.727Z"
   },
   {
    "duration": 210,
    "start_time": "2022-07-31T08:23:41.757Z"
   },
   {
    "duration": 9,
    "start_time": "2022-07-31T08:23:41.968Z"
   },
   {
    "duration": 53,
    "start_time": "2022-07-31T08:23:41.979Z"
   },
   {
    "duration": 204,
    "start_time": "2022-07-31T08:23:42.037Z"
   },
   {
    "duration": 9,
    "start_time": "2022-07-31T08:23:42.243Z"
   },
   {
    "duration": 10,
    "start_time": "2022-07-31T08:23:42.254Z"
   },
   {
    "duration": 18,
    "start_time": "2022-07-31T08:23:42.266Z"
   },
   {
    "duration": 27,
    "start_time": "2022-07-31T08:23:42.311Z"
   },
   {
    "duration": 8,
    "start_time": "2022-07-31T08:23:42.339Z"
   },
   {
    "duration": 16,
    "start_time": "2022-07-31T08:23:42.348Z"
   },
   {
    "duration": 46,
    "start_time": "2022-07-31T08:23:42.366Z"
   },
   {
    "duration": 16,
    "start_time": "2022-07-31T08:23:42.415Z"
   },
   {
    "duration": 27,
    "start_time": "2022-07-31T08:23:42.433Z"
   },
   {
    "duration": 180,
    "start_time": "2022-07-31T08:23:42.462Z"
   },
   {
    "duration": 8,
    "start_time": "2022-07-31T08:23:42.643Z"
   },
   {
    "duration": 26,
    "start_time": "2022-07-31T08:23:42.653Z"
   },
   {
    "duration": 175,
    "start_time": "2022-07-31T08:23:42.681Z"
   },
   {
    "duration": 658,
    "start_time": "2022-07-31T14:31:21.292Z"
   },
   {
    "duration": 31,
    "start_time": "2022-07-31T14:31:21.952Z"
   },
   {
    "duration": 14,
    "start_time": "2022-07-31T14:31:21.985Z"
   },
   {
    "duration": 9,
    "start_time": "2022-07-31T14:31:22.001Z"
   },
   {
    "duration": 31,
    "start_time": "2022-07-31T14:31:22.011Z"
   },
   {
    "duration": 28,
    "start_time": "2022-07-31T14:31:22.044Z"
   },
   {
    "duration": 12,
    "start_time": "2022-07-31T14:31:22.073Z"
   },
   {
    "duration": 3,
    "start_time": "2022-07-31T14:31:22.087Z"
   },
   {
    "duration": 10,
    "start_time": "2022-07-31T14:31:22.091Z"
   },
   {
    "duration": 4,
    "start_time": "2022-07-31T14:31:22.103Z"
   },
   {
    "duration": 36,
    "start_time": "2022-07-31T14:31:22.108Z"
   },
   {
    "duration": 25,
    "start_time": "2022-07-31T14:31:22.145Z"
   },
   {
    "duration": 7,
    "start_time": "2022-07-31T14:31:22.173Z"
   },
   {
    "duration": 19,
    "start_time": "2022-07-31T14:31:22.182Z"
   },
   {
    "duration": 14,
    "start_time": "2022-07-31T14:31:22.203Z"
   },
   {
    "duration": 9,
    "start_time": "2022-07-31T14:31:22.219Z"
   },
   {
    "duration": 11,
    "start_time": "2022-07-31T14:31:22.230Z"
   },
   {
    "duration": 30,
    "start_time": "2022-07-31T14:31:22.242Z"
   },
   {
    "duration": 7,
    "start_time": "2022-07-31T14:31:22.274Z"
   },
   {
    "duration": 5,
    "start_time": "2022-07-31T14:31:22.283Z"
   },
   {
    "duration": 17,
    "start_time": "2022-07-31T14:31:22.289Z"
   },
   {
    "duration": 239,
    "start_time": "2022-07-31T14:31:22.307Z"
   },
   {
    "duration": 5,
    "start_time": "2022-07-31T14:31:22.548Z"
   },
   {
    "duration": 33,
    "start_time": "2022-07-31T14:31:22.554Z"
   },
   {
    "duration": 154,
    "start_time": "2022-07-31T14:31:26.232Z"
   },
   {
    "duration": 107,
    "start_time": "2022-07-31T14:31:30.225Z"
   },
   {
    "duration": 129,
    "start_time": "2022-07-31T14:31:34.673Z"
   },
   {
    "duration": 117,
    "start_time": "2022-07-31T14:31:44.356Z"
   },
   {
    "duration": 106,
    "start_time": "2022-07-31T14:31:54.235Z"
   },
   {
    "duration": 175,
    "start_time": "2022-07-31T14:32:11.634Z"
   },
   {
    "duration": 131,
    "start_time": "2022-07-31T14:32:14.047Z"
   },
   {
    "duration": 122,
    "start_time": "2022-07-31T14:33:08.118Z"
   },
   {
    "duration": 118,
    "start_time": "2022-07-31T14:33:15.313Z"
   },
   {
    "duration": 117,
    "start_time": "2022-07-31T14:33:42.623Z"
   },
   {
    "duration": 124,
    "start_time": "2022-07-31T14:33:46.698Z"
   },
   {
    "duration": 116,
    "start_time": "2022-07-31T14:33:52.743Z"
   },
   {
    "duration": 120,
    "start_time": "2022-07-31T14:33:56.583Z"
   },
   {
    "duration": 131,
    "start_time": "2022-07-31T14:33:59.790Z"
   },
   {
    "duration": 128,
    "start_time": "2022-07-31T14:34:14.346Z"
   },
   {
    "duration": 112,
    "start_time": "2022-07-31T14:34:18.835Z"
   },
   {
    "duration": 177,
    "start_time": "2022-07-31T14:34:22.867Z"
   },
   {
    "duration": 115,
    "start_time": "2022-07-31T14:34:32.990Z"
   },
   {
    "duration": 138,
    "start_time": "2022-07-31T14:37:23.974Z"
   },
   {
    "duration": 7,
    "start_time": "2022-07-31T14:37:24.115Z"
   },
   {
    "duration": 22,
    "start_time": "2022-07-31T14:37:24.124Z"
   },
   {
    "duration": 137,
    "start_time": "2022-07-31T14:37:24.166Z"
   },
   {
    "duration": 8,
    "start_time": "2022-07-31T14:37:24.306Z"
   },
   {
    "duration": 9,
    "start_time": "2022-07-31T14:37:24.316Z"
   },
   {
    "duration": 18,
    "start_time": "2022-07-31T14:37:24.327Z"
   },
   {
    "duration": 31,
    "start_time": "2022-07-31T14:37:24.360Z"
   },
   {
    "duration": 7,
    "start_time": "2022-07-31T14:37:24.393Z"
   },
   {
    "duration": 34,
    "start_time": "2022-07-31T14:37:24.401Z"
   },
   {
    "duration": 20,
    "start_time": "2022-07-31T14:37:24.437Z"
   },
   {
    "duration": 25,
    "start_time": "2022-07-31T14:37:24.459Z"
   },
   {
    "duration": 33,
    "start_time": "2022-07-31T14:37:24.485Z"
   },
   {
    "duration": 130,
    "start_time": "2022-07-31T14:37:24.520Z"
   },
   {
    "duration": 14,
    "start_time": "2022-07-31T14:37:24.651Z"
   },
   {
    "duration": 45,
    "start_time": "2022-07-31T14:37:24.666Z"
   },
   {
    "duration": 130,
    "start_time": "2022-07-31T14:37:24.713Z"
   },
   {
    "duration": 446,
    "start_time": "2022-07-31T14:37:38.099Z"
   },
   {
    "duration": 28,
    "start_time": "2022-07-31T14:37:38.547Z"
   },
   {
    "duration": 34,
    "start_time": "2022-07-31T14:37:38.576Z"
   },
   {
    "duration": 13,
    "start_time": "2022-07-31T14:37:38.612Z"
   },
   {
    "duration": 62,
    "start_time": "2022-07-31T14:37:38.626Z"
   },
   {
    "duration": 4,
    "start_time": "2022-07-31T14:37:38.690Z"
   },
   {
    "duration": 34,
    "start_time": "2022-07-31T14:37:38.696Z"
   },
   {
    "duration": 44,
    "start_time": "2022-07-31T14:37:38.732Z"
   },
   {
    "duration": 29,
    "start_time": "2022-07-31T14:37:38.778Z"
   },
   {
    "duration": 22,
    "start_time": "2022-07-31T14:37:38.812Z"
   },
   {
    "duration": 76,
    "start_time": "2022-07-31T14:37:38.836Z"
   },
   {
    "duration": 14,
    "start_time": "2022-07-31T14:37:38.915Z"
   },
   {
    "duration": 27,
    "start_time": "2022-07-31T14:37:38.931Z"
   },
   {
    "duration": 63,
    "start_time": "2022-07-31T14:37:38.960Z"
   },
   {
    "duration": 16,
    "start_time": "2022-07-31T14:37:39.025Z"
   },
   {
    "duration": 29,
    "start_time": "2022-07-31T14:37:39.043Z"
   },
   {
    "duration": 7,
    "start_time": "2022-07-31T14:37:39.074Z"
   },
   {
    "duration": 37,
    "start_time": "2022-07-31T14:37:39.082Z"
   },
   {
    "duration": 29,
    "start_time": "2022-07-31T14:37:39.120Z"
   },
   {
    "duration": 33,
    "start_time": "2022-07-31T14:37:39.151Z"
   },
   {
    "duration": 22,
    "start_time": "2022-07-31T14:37:39.186Z"
   },
   {
    "duration": 264,
    "start_time": "2022-07-31T14:37:39.209Z"
   },
   {
    "duration": 10,
    "start_time": "2022-07-31T14:37:39.474Z"
   },
   {
    "duration": 36,
    "start_time": "2022-07-31T14:37:39.485Z"
   },
   {
    "duration": 156,
    "start_time": "2022-07-31T14:37:39.523Z"
   },
   {
    "duration": 7,
    "start_time": "2022-07-31T14:37:39.681Z"
   },
   {
    "duration": 63,
    "start_time": "2022-07-31T14:37:39.689Z"
   },
   {
    "duration": 147,
    "start_time": "2022-07-31T14:37:39.755Z"
   },
   {
    "duration": 8,
    "start_time": "2022-07-31T14:37:39.904Z"
   },
   {
    "duration": 19,
    "start_time": "2022-07-31T14:37:39.914Z"
   },
   {
    "duration": 46,
    "start_time": "2022-07-31T14:37:39.934Z"
   },
   {
    "duration": 56,
    "start_time": "2022-07-31T14:37:39.982Z"
   },
   {
    "duration": 36,
    "start_time": "2022-07-31T14:37:40.040Z"
   },
   {
    "duration": 33,
    "start_time": "2022-07-31T14:37:40.079Z"
   },
   {
    "duration": 28,
    "start_time": "2022-07-31T14:37:40.113Z"
   },
   {
    "duration": 55,
    "start_time": "2022-07-31T14:37:40.142Z"
   },
   {
    "duration": 42,
    "start_time": "2022-07-31T14:37:40.199Z"
   },
   {
    "duration": 158,
    "start_time": "2022-07-31T14:37:40.243Z"
   },
   {
    "duration": 7,
    "start_time": "2022-07-31T14:37:40.403Z"
   },
   {
    "duration": 60,
    "start_time": "2022-07-31T14:37:40.412Z"
   },
   {
    "duration": 152,
    "start_time": "2022-07-31T14:37:40.475Z"
   },
   {
    "duration": 7,
    "start_time": "2022-07-31T14:45:10.281Z"
   },
   {
    "duration": 6,
    "start_time": "2022-07-31T14:46:25.746Z"
   },
   {
    "duration": 693,
    "start_time": "2022-07-31T15:06:56.196Z"
   },
   {
    "duration": 23,
    "start_time": "2022-07-31T15:06:56.891Z"
   },
   {
    "duration": 24,
    "start_time": "2022-07-31T15:06:56.916Z"
   },
   {
    "duration": 15,
    "start_time": "2022-07-31T15:06:56.942Z"
   },
   {
    "duration": 42,
    "start_time": "2022-07-31T15:06:56.959Z"
   },
   {
    "duration": 4,
    "start_time": "2022-07-31T15:06:57.004Z"
   },
   {
    "duration": 39,
    "start_time": "2022-07-31T15:06:57.010Z"
   },
   {
    "duration": 4,
    "start_time": "2022-07-31T15:06:57.051Z"
   },
   {
    "duration": 13,
    "start_time": "2022-07-31T15:06:57.056Z"
   },
   {
    "duration": 5,
    "start_time": "2022-07-31T15:06:57.072Z"
   },
   {
    "duration": 68,
    "start_time": "2022-07-31T15:06:57.079Z"
   },
   {
    "duration": 15,
    "start_time": "2022-07-31T15:06:57.149Z"
   },
   {
    "duration": 9,
    "start_time": "2022-07-31T15:06:57.166Z"
   },
   {
    "duration": 25,
    "start_time": "2022-07-31T15:06:57.176Z"
   },
   {
    "duration": 43,
    "start_time": "2022-07-31T15:06:57.203Z"
   },
   {
    "duration": 14,
    "start_time": "2022-07-31T15:06:57.248Z"
   },
   {
    "duration": 9,
    "start_time": "2022-07-31T15:06:57.264Z"
   },
   {
    "duration": 22,
    "start_time": "2022-07-31T15:06:57.275Z"
   },
   {
    "duration": 9,
    "start_time": "2022-07-31T15:06:57.299Z"
   },
   {
    "duration": 6,
    "start_time": "2022-07-31T15:06:57.310Z"
   },
   {
    "duration": 17,
    "start_time": "2022-07-31T15:06:57.317Z"
   },
   {
    "duration": 442,
    "start_time": "2022-07-31T15:06:57.337Z"
   },
   {
    "duration": 8,
    "start_time": "2022-07-31T15:06:57.781Z"
   },
   {
    "duration": 28,
    "start_time": "2022-07-31T15:06:57.790Z"
   },
   {
    "duration": 183,
    "start_time": "2022-07-31T15:06:57.837Z"
   },
   {
    "duration": 16,
    "start_time": "2022-07-31T15:06:58.022Z"
   },
   {
    "duration": 30,
    "start_time": "2022-07-31T15:06:58.040Z"
   },
   {
    "duration": 196,
    "start_time": "2022-07-31T15:06:58.074Z"
   },
   {
    "duration": 9,
    "start_time": "2022-07-31T15:06:58.272Z"
   },
   {
    "duration": 22,
    "start_time": "2022-07-31T15:06:58.283Z"
   },
   {
    "duration": 21,
    "start_time": "2022-07-31T15:06:58.306Z"
   },
   {
    "duration": 20,
    "start_time": "2022-07-31T15:06:58.337Z"
   },
   {
    "duration": 10,
    "start_time": "2022-07-31T15:06:58.359Z"
   },
   {
    "duration": 27,
    "start_time": "2022-07-31T15:06:58.370Z"
   },
   {
    "duration": 89,
    "start_time": "2022-07-31T15:06:59.697Z"
   },
   {
    "duration": 9,
    "start_time": "2022-07-31T15:07:16.315Z"
   },
   {
    "duration": 6,
    "start_time": "2022-07-31T15:07:29.244Z"
   },
   {
    "duration": 97,
    "start_time": "2022-07-31T15:08:27.026Z"
   },
   {
    "duration": 7,
    "start_time": "2022-07-31T15:08:31.551Z"
   },
   {
    "duration": 7,
    "start_time": "2022-07-31T15:08:34.512Z"
   },
   {
    "duration": 14,
    "start_time": "2022-07-31T15:08:40.961Z"
   },
   {
    "duration": 29,
    "start_time": "2022-07-31T15:08:46.523Z"
   },
   {
    "duration": 496,
    "start_time": "2022-07-31T15:10:33.616Z"
   },
   {
    "duration": 23,
    "start_time": "2022-07-31T15:10:34.114Z"
   },
   {
    "duration": 16,
    "start_time": "2022-07-31T15:10:34.139Z"
   },
   {
    "duration": 10,
    "start_time": "2022-07-31T15:10:34.157Z"
   },
   {
    "duration": 36,
    "start_time": "2022-07-31T15:10:34.169Z"
   },
   {
    "duration": 3,
    "start_time": "2022-07-31T15:10:34.207Z"
   },
   {
    "duration": 11,
    "start_time": "2022-07-31T15:10:34.238Z"
   },
   {
    "duration": 5,
    "start_time": "2022-07-31T15:10:34.251Z"
   },
   {
    "duration": 11,
    "start_time": "2022-07-31T15:10:34.257Z"
   },
   {
    "duration": 6,
    "start_time": "2022-07-31T15:10:34.272Z"
   },
   {
    "duration": 72,
    "start_time": "2022-07-31T15:10:34.279Z"
   },
   {
    "duration": 11,
    "start_time": "2022-07-31T15:10:34.353Z"
   },
   {
    "duration": 14,
    "start_time": "2022-07-31T15:10:34.366Z"
   },
   {
    "duration": 19,
    "start_time": "2022-07-31T15:10:34.382Z"
   },
   {
    "duration": 39,
    "start_time": "2022-07-31T15:10:34.403Z"
   },
   {
    "duration": 17,
    "start_time": "2022-07-31T15:10:34.444Z"
   },
   {
    "duration": 6,
    "start_time": "2022-07-31T15:10:34.462Z"
   },
   {
    "duration": 16,
    "start_time": "2022-07-31T15:10:34.470Z"
   },
   {
    "duration": 8,
    "start_time": "2022-07-31T15:10:34.488Z"
   },
   {
    "duration": 3,
    "start_time": "2022-07-31T15:10:34.498Z"
   },
   {
    "duration": 13,
    "start_time": "2022-07-31T15:10:34.503Z"
   },
   {
    "duration": 291,
    "start_time": "2022-07-31T15:10:34.537Z"
   },
   {
    "duration": 11,
    "start_time": "2022-07-31T15:10:34.829Z"
   },
   {
    "duration": 25,
    "start_time": "2022-07-31T15:10:34.842Z"
   },
   {
    "duration": 179,
    "start_time": "2022-07-31T15:10:34.869Z"
   },
   {
    "duration": 9,
    "start_time": "2022-07-31T15:10:35.050Z"
   },
   {
    "duration": 27,
    "start_time": "2022-07-31T15:10:35.061Z"
   },
   {
    "duration": 162,
    "start_time": "2022-07-31T15:10:35.091Z"
   },
   {
    "duration": 9,
    "start_time": "2022-07-31T15:10:35.255Z"
   },
   {
    "duration": 12,
    "start_time": "2022-07-31T15:10:35.266Z"
   },
   {
    "duration": 19,
    "start_time": "2022-07-31T15:10:35.280Z"
   },
   {
    "duration": 45,
    "start_time": "2022-07-31T15:10:35.301Z"
   },
   {
    "duration": 8,
    "start_time": "2022-07-31T15:10:35.348Z"
   },
   {
    "duration": 21,
    "start_time": "2022-07-31T15:10:35.358Z"
   },
   {
    "duration": 19,
    "start_time": "2022-07-31T15:10:35.381Z"
   },
   {
    "duration": 36,
    "start_time": "2022-07-31T15:10:35.402Z"
   },
   {
    "duration": 39,
    "start_time": "2022-07-31T15:10:35.441Z"
   },
   {
    "duration": 161,
    "start_time": "2022-07-31T15:10:35.482Z"
   },
   {
    "duration": 9,
    "start_time": "2022-07-31T15:10:35.645Z"
   },
   {
    "duration": 38,
    "start_time": "2022-07-31T15:10:35.671Z"
   },
   {
    "duration": 142,
    "start_time": "2022-07-31T15:10:35.711Z"
   },
   {
    "duration": 478,
    "start_time": "2022-07-31T15:20:49.081Z"
   },
   {
    "duration": 31,
    "start_time": "2022-07-31T15:20:49.561Z"
   },
   {
    "duration": 18,
    "start_time": "2022-07-31T15:20:49.594Z"
   },
   {
    "duration": 28,
    "start_time": "2022-07-31T15:20:49.615Z"
   },
   {
    "duration": 52,
    "start_time": "2022-07-31T15:20:49.644Z"
   },
   {
    "duration": 4,
    "start_time": "2022-07-31T15:20:49.698Z"
   },
   {
    "duration": 12,
    "start_time": "2022-07-31T15:20:49.704Z"
   },
   {
    "duration": 32,
    "start_time": "2022-07-31T15:20:49.718Z"
   },
   {
    "duration": 14,
    "start_time": "2022-07-31T15:20:49.752Z"
   },
   {
    "duration": 5,
    "start_time": "2022-07-31T15:20:49.772Z"
   },
   {
    "duration": 38,
    "start_time": "2022-07-31T15:20:49.779Z"
   },
   {
    "duration": 22,
    "start_time": "2022-07-31T15:20:49.819Z"
   },
   {
    "duration": 12,
    "start_time": "2022-07-31T15:20:49.847Z"
   },
   {
    "duration": 21,
    "start_time": "2022-07-31T15:20:49.860Z"
   },
   {
    "duration": 17,
    "start_time": "2022-07-31T15:20:49.882Z"
   },
   {
    "duration": 11,
    "start_time": "2022-07-31T15:20:49.900Z"
   },
   {
    "duration": 5,
    "start_time": "2022-07-31T15:20:49.913Z"
   },
   {
    "duration": 26,
    "start_time": "2022-07-31T15:20:49.920Z"
   },
   {
    "duration": 16,
    "start_time": "2022-07-31T15:20:49.948Z"
   },
   {
    "duration": 4,
    "start_time": "2022-07-31T15:20:49.966Z"
   },
   {
    "duration": 12,
    "start_time": "2022-07-31T15:20:49.972Z"
   },
   {
    "duration": 269,
    "start_time": "2022-07-31T15:20:49.985Z"
   },
   {
    "duration": 7,
    "start_time": "2022-07-31T15:20:50.256Z"
   },
   {
    "duration": 34,
    "start_time": "2022-07-31T15:20:50.264Z"
   },
   {
    "duration": 173,
    "start_time": "2022-07-31T15:20:50.300Z"
   },
   {
    "duration": 8,
    "start_time": "2022-07-31T15:20:50.475Z"
   },
   {
    "duration": 27,
    "start_time": "2022-07-31T15:20:50.485Z"
   },
   {
    "duration": 161,
    "start_time": "2022-07-31T15:20:50.516Z"
   },
   {
    "duration": 8,
    "start_time": "2022-07-31T15:20:50.679Z"
   },
   {
    "duration": 13,
    "start_time": "2022-07-31T15:20:50.689Z"
   },
   {
    "duration": 52,
    "start_time": "2022-07-31T15:20:50.704Z"
   },
   {
    "duration": 16,
    "start_time": "2022-07-31T15:20:50.758Z"
   },
   {
    "duration": 7,
    "start_time": "2022-07-31T15:20:50.776Z"
   },
   {
    "duration": 21,
    "start_time": "2022-07-31T15:20:50.785Z"
   },
   {
    "duration": 14,
    "start_time": "2022-07-31T15:20:50.808Z"
   },
   {
    "duration": 17,
    "start_time": "2022-07-31T15:20:50.842Z"
   },
   {
    "duration": 29,
    "start_time": "2022-07-31T15:20:50.861Z"
   },
   {
    "duration": 144,
    "start_time": "2022-07-31T15:20:50.892Z"
   },
   {
    "duration": 20,
    "start_time": "2022-07-31T15:20:51.038Z"
   },
   {
    "duration": 24,
    "start_time": "2022-07-31T15:20:51.059Z"
   },
   {
    "duration": 137,
    "start_time": "2022-07-31T15:20:51.085Z"
   },
   {
    "duration": 58,
    "start_time": "2022-07-31T18:41:59.943Z"
   },
   {
    "duration": 1099,
    "start_time": "2022-07-31T18:42:05.979Z"
   },
   {
    "duration": 20,
    "start_time": "2022-07-31T18:42:07.080Z"
   },
   {
    "duration": 15,
    "start_time": "2022-07-31T18:42:07.102Z"
   },
   {
    "duration": 9,
    "start_time": "2022-07-31T18:42:07.119Z"
   },
   {
    "duration": 38,
    "start_time": "2022-07-31T18:42:07.130Z"
   },
   {
    "duration": 3,
    "start_time": "2022-07-31T18:42:07.170Z"
   },
   {
    "duration": 10,
    "start_time": "2022-07-31T18:42:07.175Z"
   },
   {
    "duration": 4,
    "start_time": "2022-07-31T18:42:07.187Z"
   },
   {
    "duration": 7,
    "start_time": "2022-07-31T18:42:07.192Z"
   },
   {
    "duration": 4,
    "start_time": "2022-07-31T18:42:07.201Z"
   },
   {
    "duration": 57,
    "start_time": "2022-07-31T18:42:07.207Z"
   },
   {
    "duration": 11,
    "start_time": "2022-07-31T18:42:07.266Z"
   },
   {
    "duration": 10,
    "start_time": "2022-07-31T18:42:07.279Z"
   },
   {
    "duration": 23,
    "start_time": "2022-07-31T18:42:07.291Z"
   },
   {
    "duration": 45,
    "start_time": "2022-07-31T18:42:07.316Z"
   },
   {
    "duration": 18,
    "start_time": "2022-07-31T18:42:07.363Z"
   },
   {
    "duration": 11,
    "start_time": "2022-07-31T18:42:07.382Z"
   },
   {
    "duration": 13,
    "start_time": "2022-07-31T18:42:07.395Z"
   },
   {
    "duration": 6,
    "start_time": "2022-07-31T18:42:07.409Z"
   },
   {
    "duration": 3,
    "start_time": "2022-07-31T18:42:07.417Z"
   },
   {
    "duration": 22,
    "start_time": "2022-07-31T18:42:07.421Z"
   },
   {
    "duration": 11,
    "start_time": "2022-07-31T18:42:07.445Z"
   },
   {
    "duration": 7,
    "start_time": "2022-07-31T18:42:07.458Z"
   },
   {
    "duration": 23,
    "start_time": "2022-07-31T18:42:07.466Z"
   },
   {
    "duration": 188,
    "start_time": "2022-07-31T18:42:07.491Z"
   },
   {
    "duration": 7,
    "start_time": "2022-07-31T18:42:07.680Z"
   },
   {
    "duration": 21,
    "start_time": "2022-07-31T18:42:07.689Z"
   },
   {
    "duration": 136,
    "start_time": "2022-07-31T18:42:13.955Z"
   },
   {
    "duration": 134,
    "start_time": "2022-07-31T18:42:22.055Z"
   },
   {
    "duration": 136,
    "start_time": "2022-07-31T18:42:31.251Z"
   },
   {
    "duration": 196,
    "start_time": "2022-07-31T18:42:37.447Z"
   },
   {
    "duration": 141,
    "start_time": "2022-07-31T18:42:43.269Z"
   },
   {
    "duration": 149,
    "start_time": "2022-07-31T18:42:51.069Z"
   },
   {
    "duration": 142,
    "start_time": "2022-07-31T18:43:03.971Z"
   },
   {
    "duration": 160,
    "start_time": "2022-07-31T18:43:10.156Z"
   },
   {
    "duration": 136,
    "start_time": "2022-07-31T18:45:05.668Z"
   },
   {
    "duration": 144,
    "start_time": "2022-07-31T18:45:13.334Z"
   },
   {
    "duration": 166,
    "start_time": "2022-07-31T18:46:48.013Z"
   },
   {
    "duration": 203,
    "start_time": "2022-07-31T18:47:38.956Z"
   },
   {
    "duration": 170,
    "start_time": "2022-07-31T18:47:47.127Z"
   },
   {
    "duration": 142,
    "start_time": "2022-07-31T18:50:30.413Z"
   },
   {
    "duration": 8,
    "start_time": "2022-07-31T18:53:58.793Z"
   },
   {
    "duration": 6,
    "start_time": "2022-07-31T18:54:01.228Z"
   },
   {
    "duration": 18,
    "start_time": "2022-07-31T18:54:03.549Z"
   },
   {
    "duration": 9,
    "start_time": "2022-07-31T18:55:01.483Z"
   },
   {
    "duration": 9,
    "start_time": "2022-07-31T18:55:03.847Z"
   },
   {
    "duration": 8,
    "start_time": "2022-07-31T18:55:06.104Z"
   },
   {
    "duration": 96,
    "start_time": "2022-07-31T18:55:07.419Z"
   },
   {
    "duration": 158,
    "start_time": "2022-07-31T18:55:09.017Z"
   },
   {
    "duration": 21,
    "start_time": "2022-07-31T18:59:59.636Z"
   },
   {
    "duration": 147,
    "start_time": "2022-07-31T19:08:05.690Z"
   },
   {
    "duration": 1115,
    "start_time": "2022-08-01T06:56:00.374Z"
   },
   {
    "duration": 20,
    "start_time": "2022-08-01T06:56:01.491Z"
   },
   {
    "duration": 31,
    "start_time": "2022-08-01T06:56:01.513Z"
   },
   {
    "duration": 21,
    "start_time": "2022-08-01T06:56:01.547Z"
   },
   {
    "duration": 53,
    "start_time": "2022-08-01T06:56:01.570Z"
   },
   {
    "duration": 3,
    "start_time": "2022-08-01T06:56:01.625Z"
   },
   {
    "duration": 24,
    "start_time": "2022-08-01T06:56:01.630Z"
   },
   {
    "duration": 39,
    "start_time": "2022-08-01T06:56:01.656Z"
   },
   {
    "duration": 60,
    "start_time": "2022-08-01T06:56:01.697Z"
   },
   {
    "duration": 5,
    "start_time": "2022-08-01T06:56:01.759Z"
   },
   {
    "duration": 36,
    "start_time": "2022-08-01T06:56:01.765Z"
   },
   {
    "duration": 9,
    "start_time": "2022-08-01T06:56:01.802Z"
   },
   {
    "duration": 19,
    "start_time": "2022-08-01T06:56:01.812Z"
   },
   {
    "duration": 76,
    "start_time": "2022-08-01T06:56:01.832Z"
   },
   {
    "duration": 16,
    "start_time": "2022-08-01T06:56:01.910Z"
   },
   {
    "duration": 16,
    "start_time": "2022-08-01T06:56:01.928Z"
   },
   {
    "duration": 22,
    "start_time": "2022-08-01T06:56:01.945Z"
   },
   {
    "duration": 15,
    "start_time": "2022-08-01T06:56:01.969Z"
   },
   {
    "duration": 21,
    "start_time": "2022-08-01T06:56:01.986Z"
   },
   {
    "duration": 12,
    "start_time": "2022-08-01T06:56:02.009Z"
   },
   {
    "duration": 36,
    "start_time": "2022-08-01T06:56:02.022Z"
   },
   {
    "duration": 15,
    "start_time": "2022-08-01T06:56:02.060Z"
   },
   {
    "duration": 4,
    "start_time": "2022-08-01T06:56:05.430Z"
   },
   {
    "duration": 34,
    "start_time": "2022-08-01T06:57:18.681Z"
   },
   {
    "duration": 29,
    "start_time": "2022-08-01T06:57:41.181Z"
   },
   {
    "duration": 194,
    "start_time": "2022-08-01T07:04:49.450Z"
   },
   {
    "duration": 31,
    "start_time": "2022-08-01T07:06:31.348Z"
   },
   {
    "duration": 198,
    "start_time": "2022-08-01T07:09:23.041Z"
   },
   {
    "duration": 201,
    "start_time": "2022-08-01T07:09:38.614Z"
   },
   {
    "duration": 189,
    "start_time": "2022-08-01T07:09:49.159Z"
   },
   {
    "duration": 240,
    "start_time": "2022-08-01T07:09:56.974Z"
   },
   {
    "duration": 188,
    "start_time": "2022-08-01T07:10:10.131Z"
   },
   {
    "duration": 101,
    "start_time": "2022-08-01T07:10:46.709Z"
   },
   {
    "duration": 6,
    "start_time": "2022-08-01T07:10:52.481Z"
   },
   {
    "duration": 10,
    "start_time": "2022-08-01T07:11:59.603Z"
   },
   {
    "duration": 50,
    "start_time": "2022-08-01T17:38:40.830Z"
   },
   {
    "duration": 913,
    "start_time": "2022-08-01T17:38:51.178Z"
   },
   {
    "duration": 23,
    "start_time": "2022-08-01T17:38:52.093Z"
   },
   {
    "duration": 17,
    "start_time": "2022-08-01T17:38:52.117Z"
   },
   {
    "duration": 24,
    "start_time": "2022-08-01T17:38:52.137Z"
   },
   {
    "duration": 39,
    "start_time": "2022-08-01T17:38:52.163Z"
   },
   {
    "duration": 4,
    "start_time": "2022-08-01T17:38:52.204Z"
   },
   {
    "duration": 10,
    "start_time": "2022-08-01T17:38:52.210Z"
   },
   {
    "duration": 4,
    "start_time": "2022-08-01T17:38:52.222Z"
   },
   {
    "duration": 28,
    "start_time": "2022-08-01T17:38:52.228Z"
   },
   {
    "duration": 5,
    "start_time": "2022-08-01T17:38:52.259Z"
   },
   {
    "duration": 41,
    "start_time": "2022-08-01T17:38:52.266Z"
   },
   {
    "duration": 10,
    "start_time": "2022-08-01T17:38:52.309Z"
   },
   {
    "duration": 3,
    "start_time": "2022-08-01T17:38:52.321Z"
   },
   {
    "duration": 43,
    "start_time": "2022-08-01T17:38:52.326Z"
   },
   {
    "duration": 18,
    "start_time": "2022-08-01T17:38:52.371Z"
   },
   {
    "duration": 12,
    "start_time": "2022-08-01T17:38:52.390Z"
   },
   {
    "duration": 5,
    "start_time": "2022-08-01T17:38:52.404Z"
   },
   {
    "duration": 16,
    "start_time": "2022-08-01T17:38:52.411Z"
   },
   {
    "duration": 26,
    "start_time": "2022-08-01T17:38:52.429Z"
   },
   {
    "duration": 5,
    "start_time": "2022-08-01T17:38:52.457Z"
   },
   {
    "duration": 15,
    "start_time": "2022-08-01T17:38:52.464Z"
   },
   {
    "duration": 6,
    "start_time": "2022-08-01T17:38:52.481Z"
   },
   {
    "duration": 32,
    "start_time": "2022-08-01T17:38:52.489Z"
   },
   {
    "duration": 204,
    "start_time": "2022-08-01T17:38:52.552Z"
   },
   {
    "duration": 8,
    "start_time": "2022-08-01T17:38:52.758Z"
   },
   {
    "duration": 34,
    "start_time": "2022-08-01T17:38:52.768Z"
   },
   {
    "duration": 211,
    "start_time": "2022-08-01T17:38:52.804Z"
   },
   {
    "duration": 8,
    "start_time": "2022-08-01T17:38:53.018Z"
   },
   {
    "duration": 25,
    "start_time": "2022-08-01T17:38:53.028Z"
   },
   {
    "duration": 19,
    "start_time": "2022-08-01T17:38:53.055Z"
   },
   {
    "duration": 22,
    "start_time": "2022-08-01T17:38:53.076Z"
   },
   {
    "duration": 9,
    "start_time": "2022-08-01T17:38:53.100Z"
   },
   {
    "duration": 41,
    "start_time": "2022-08-01T17:38:53.111Z"
   },
   {
    "duration": 6,
    "start_time": "2022-08-01T17:39:04.316Z"
   },
   {
    "duration": 7,
    "start_time": "2022-08-01T17:39:12.520Z"
   },
   {
    "duration": 33,
    "start_time": "2022-08-01T17:39:33.512Z"
   },
   {
    "duration": 169,
    "start_time": "2022-08-01T17:40:51.272Z"
   },
   {
    "duration": 179,
    "start_time": "2022-08-01T17:43:46.544Z"
   },
   {
    "duration": 46,
    "start_time": "2022-08-01T17:45:25.655Z"
   },
   {
    "duration": 239,
    "start_time": "2022-08-01T17:46:43.522Z"
   },
   {
    "duration": 32,
    "start_time": "2022-08-01T17:47:26.628Z"
   },
   {
    "duration": 173,
    "start_time": "2022-08-01T17:47:28.890Z"
   },
   {
    "duration": 71,
    "start_time": "2022-08-01T17:47:49.763Z"
   },
   {
    "duration": 15,
    "start_time": "2022-08-01T17:47:49.835Z"
   },
   {
    "duration": 15,
    "start_time": "2022-08-01T17:47:49.852Z"
   },
   {
    "duration": 9,
    "start_time": "2022-08-01T17:47:49.869Z"
   },
   {
    "duration": 34,
    "start_time": "2022-08-01T17:47:49.879Z"
   },
   {
    "duration": 4,
    "start_time": "2022-08-01T17:47:49.914Z"
   },
   {
    "duration": 35,
    "start_time": "2022-08-01T17:47:49.919Z"
   },
   {
    "duration": 5,
    "start_time": "2022-08-01T17:47:49.956Z"
   },
   {
    "duration": 7,
    "start_time": "2022-08-01T17:47:49.963Z"
   },
   {
    "duration": 5,
    "start_time": "2022-08-01T17:47:49.972Z"
   },
   {
    "duration": 34,
    "start_time": "2022-08-01T17:47:49.978Z"
   },
   {
    "duration": 9,
    "start_time": "2022-08-01T17:47:50.014Z"
   },
   {
    "duration": 4,
    "start_time": "2022-08-01T17:47:50.053Z"
   },
   {
    "duration": 20,
    "start_time": "2022-08-01T17:47:50.058Z"
   },
   {
    "duration": 17,
    "start_time": "2022-08-01T17:47:50.079Z"
   },
   {
    "duration": 11,
    "start_time": "2022-08-01T17:47:50.097Z"
   },
   {
    "duration": 5,
    "start_time": "2022-08-01T17:47:50.109Z"
   },
   {
    "duration": 37,
    "start_time": "2022-08-01T17:47:50.115Z"
   },
   {
    "duration": 5,
    "start_time": "2022-08-01T17:47:50.154Z"
   },
   {
    "duration": 4,
    "start_time": "2022-08-01T17:47:50.161Z"
   },
   {
    "duration": 9,
    "start_time": "2022-08-01T17:47:50.167Z"
   },
   {
    "duration": 6,
    "start_time": "2022-08-01T17:47:50.177Z"
   },
   {
    "duration": 34,
    "start_time": "2022-08-01T17:47:50.185Z"
   },
   {
    "duration": 194,
    "start_time": "2022-08-01T17:47:50.220Z"
   },
   {
    "duration": 7,
    "start_time": "2022-08-01T17:47:50.415Z"
   },
   {
    "duration": 49,
    "start_time": "2022-08-01T17:47:50.424Z"
   },
   {
    "duration": 193,
    "start_time": "2022-08-01T17:47:50.475Z"
   },
   {
    "duration": 8,
    "start_time": "2022-08-01T17:47:50.671Z"
   },
   {
    "duration": 10,
    "start_time": "2022-08-01T17:47:50.681Z"
   },
   {
    "duration": 20,
    "start_time": "2022-08-01T17:47:50.692Z"
   },
   {
    "duration": 43,
    "start_time": "2022-08-01T17:47:50.714Z"
   },
   {
    "duration": 7,
    "start_time": "2022-08-01T17:47:50.759Z"
   },
   {
    "duration": 11,
    "start_time": "2022-08-01T17:47:50.768Z"
   },
   {
    "duration": 38,
    "start_time": "2022-08-01T17:47:50.781Z"
   },
   {
    "duration": 189,
    "start_time": "2022-08-01T17:47:50.821Z"
   },
   {
    "duration": 40,
    "start_time": "2022-08-01T17:47:51.013Z"
   },
   {
    "duration": 189,
    "start_time": "2022-08-01T17:47:51.055Z"
   },
   {
    "duration": 65,
    "start_time": "2022-08-01T18:06:00.221Z"
   },
   {
    "duration": 14,
    "start_time": "2022-08-01T18:06:00.288Z"
   },
   {
    "duration": 15,
    "start_time": "2022-08-01T18:06:00.304Z"
   },
   {
    "duration": 32,
    "start_time": "2022-08-01T18:06:00.321Z"
   },
   {
    "duration": 41,
    "start_time": "2022-08-01T18:06:00.355Z"
   },
   {
    "duration": 3,
    "start_time": "2022-08-01T18:06:00.397Z"
   },
   {
    "duration": 10,
    "start_time": "2022-08-01T18:06:00.402Z"
   },
   {
    "duration": 6,
    "start_time": "2022-08-01T18:06:00.413Z"
   },
   {
    "duration": 33,
    "start_time": "2022-08-01T18:06:00.421Z"
   },
   {
    "duration": 5,
    "start_time": "2022-08-01T18:06:00.457Z"
   },
   {
    "duration": 36,
    "start_time": "2022-08-01T18:06:00.464Z"
   },
   {
    "duration": 10,
    "start_time": "2022-08-01T18:06:00.502Z"
   },
   {
    "duration": 4,
    "start_time": "2022-08-01T18:06:00.514Z"
   },
   {
    "duration": 46,
    "start_time": "2022-08-01T18:06:00.520Z"
   },
   {
    "duration": 17,
    "start_time": "2022-08-01T18:06:00.569Z"
   },
   {
    "duration": 17,
    "start_time": "2022-08-01T18:06:00.588Z"
   },
   {
    "duration": 11,
    "start_time": "2022-08-01T18:06:00.607Z"
   },
   {
    "duration": 33,
    "start_time": "2022-08-01T18:06:00.620Z"
   },
   {
    "duration": 7,
    "start_time": "2022-08-01T18:06:00.655Z"
   },
   {
    "duration": 9,
    "start_time": "2022-08-01T18:06:00.664Z"
   },
   {
    "duration": 26,
    "start_time": "2022-08-01T18:06:00.675Z"
   },
   {
    "duration": 25,
    "start_time": "2022-08-01T18:06:00.703Z"
   },
   {
    "duration": 45,
    "start_time": "2022-08-01T18:06:00.729Z"
   },
   {
    "duration": 194,
    "start_time": "2022-08-01T18:06:00.775Z"
   },
   {
    "duration": 8,
    "start_time": "2022-08-01T18:06:00.971Z"
   },
   {
    "duration": 39,
    "start_time": "2022-08-01T18:06:00.981Z"
   },
   {
    "duration": 219,
    "start_time": "2022-08-01T18:06:01.022Z"
   },
   {
    "duration": 13,
    "start_time": "2022-08-01T18:06:01.244Z"
   },
   {
    "duration": 16,
    "start_time": "2022-08-01T18:06:01.258Z"
   },
   {
    "duration": 46,
    "start_time": "2022-08-01T18:06:01.275Z"
   },
   {
    "duration": 18,
    "start_time": "2022-08-01T18:06:01.322Z"
   },
   {
    "duration": 7,
    "start_time": "2022-08-01T18:06:01.342Z"
   },
   {
    "duration": 20,
    "start_time": "2022-08-01T18:06:01.351Z"
   },
   {
    "duration": 31,
    "start_time": "2022-08-01T18:06:01.373Z"
   },
   {
    "duration": 180,
    "start_time": "2022-08-01T18:06:01.406Z"
   },
   {
    "duration": 33,
    "start_time": "2022-08-01T18:06:01.588Z"
   },
   {
    "duration": 202,
    "start_time": "2022-08-01T18:06:01.623Z"
   },
   {
    "duration": 3,
    "start_time": "2022-08-01T18:10:40.126Z"
   },
   {
    "duration": 3,
    "start_time": "2022-08-01T18:10:44.333Z"
   },
   {
    "duration": 37,
    "start_time": "2022-08-01T18:10:46.324Z"
   },
   {
    "duration": 182,
    "start_time": "2022-08-01T18:10:48.311Z"
   },
   {
    "duration": 30,
    "start_time": "2022-08-01T18:11:13.259Z"
   },
   {
    "duration": 256,
    "start_time": "2022-08-01T18:11:14.663Z"
   },
   {
    "duration": 7,
    "start_time": "2022-08-01T18:11:26.307Z"
   },
   {
    "duration": 8,
    "start_time": "2022-08-01T18:11:27.563Z"
   },
   {
    "duration": 29,
    "start_time": "2022-08-01T18:13:07.497Z"
   },
   {
    "duration": 3,
    "start_time": "2022-08-01T18:17:10.107Z"
   },
   {
    "duration": 256,
    "start_time": "2022-08-01T18:18:36.888Z"
   },
   {
    "duration": 163,
    "start_time": "2022-08-01T18:19:39.353Z"
   },
   {
    "duration": 30,
    "start_time": "2022-08-01T18:20:25.111Z"
   },
   {
    "duration": 195,
    "start_time": "2022-08-01T18:20:43.196Z"
   },
   {
    "duration": 35,
    "start_time": "2022-08-01T18:21:32.687Z"
   },
   {
    "duration": 207,
    "start_time": "2022-08-01T18:21:43.348Z"
   },
   {
    "duration": 4,
    "start_time": "2022-08-01T18:22:08.021Z"
   },
   {
    "duration": 330,
    "start_time": "2022-08-01T18:22:22.769Z"
   },
   {
    "duration": 212,
    "start_time": "2022-08-01T18:22:42.694Z"
   },
   {
    "duration": 29,
    "start_time": "2022-08-01T18:23:41.574Z"
   },
   {
    "duration": 216,
    "start_time": "2022-08-01T18:24:05.626Z"
   },
   {
    "duration": 367,
    "start_time": "2022-08-01T18:24:26.438Z"
   },
   {
    "duration": 261,
    "start_time": "2022-08-01T18:24:35.913Z"
   },
   {
    "duration": 235,
    "start_time": "2022-08-01T18:24:56.030Z"
   },
   {
    "duration": 49,
    "start_time": "2022-08-01T18:38:57.510Z"
   },
   {
    "duration": 85,
    "start_time": "2022-08-01T18:39:10.216Z"
   },
   {
    "duration": 40,
    "start_time": "2022-08-01T18:39:56.171Z"
   },
   {
    "duration": 37,
    "start_time": "2022-08-01T18:40:02.603Z"
   },
   {
    "duration": 35,
    "start_time": "2022-08-01T18:40:13.381Z"
   },
   {
    "duration": 282,
    "start_time": "2022-08-01T18:40:16.143Z"
   },
   {
    "duration": 55,
    "start_time": "2022-08-01T18:41:26.923Z"
   },
   {
    "duration": 35,
    "start_time": "2022-08-01T18:41:41.289Z"
   },
   {
    "duration": 194,
    "start_time": "2022-08-01T18:41:43.621Z"
   },
   {
    "duration": 111,
    "start_time": "2022-08-01T18:42:17.694Z"
   },
   {
    "duration": 36,
    "start_time": "2022-08-01T18:43:32.354Z"
   },
   {
    "duration": 127,
    "start_time": "2022-08-01T18:43:33.422Z"
   },
   {
    "duration": 36,
    "start_time": "2022-08-01T18:47:04.850Z"
   },
   {
    "duration": 123,
    "start_time": "2022-08-01T18:47:08.428Z"
   },
   {
    "duration": 37,
    "start_time": "2022-08-01T18:56:43.327Z"
   },
   {
    "duration": 137,
    "start_time": "2022-08-01T18:56:45.365Z"
   },
   {
    "duration": 108,
    "start_time": "2022-08-01T19:00:32.143Z"
   },
   {
    "duration": 31,
    "start_time": "2022-08-01T19:01:15.138Z"
   },
   {
    "duration": 68,
    "start_time": "2022-08-01T19:03:53.479Z"
   },
   {
    "duration": 15,
    "start_time": "2022-08-01T19:03:53.550Z"
   },
   {
    "duration": 15,
    "start_time": "2022-08-01T19:03:53.566Z"
   },
   {
    "duration": 9,
    "start_time": "2022-08-01T19:03:53.583Z"
   },
   {
    "duration": 31,
    "start_time": "2022-08-01T19:03:53.594Z"
   },
   {
    "duration": 4,
    "start_time": "2022-08-01T19:03:53.651Z"
   },
   {
    "duration": 10,
    "start_time": "2022-08-01T19:03:53.657Z"
   },
   {
    "duration": 4,
    "start_time": "2022-08-01T19:03:53.669Z"
   },
   {
    "duration": 6,
    "start_time": "2022-08-01T19:03:53.674Z"
   },
   {
    "duration": 5,
    "start_time": "2022-08-01T19:03:53.683Z"
   },
   {
    "duration": 67,
    "start_time": "2022-08-01T19:03:53.690Z"
   },
   {
    "duration": 9,
    "start_time": "2022-08-01T19:03:53.759Z"
   },
   {
    "duration": 4,
    "start_time": "2022-08-01T19:03:53.770Z"
   },
   {
    "duration": 18,
    "start_time": "2022-08-01T19:03:53.775Z"
   },
   {
    "duration": 17,
    "start_time": "2022-08-01T19:03:53.795Z"
   },
   {
    "duration": 10,
    "start_time": "2022-08-01T19:03:53.813Z"
   },
   {
    "duration": 4,
    "start_time": "2022-08-01T19:03:53.852Z"
   },
   {
    "duration": 11,
    "start_time": "2022-08-01T19:03:53.858Z"
   },
   {
    "duration": 9,
    "start_time": "2022-08-01T19:03:53.870Z"
   },
   {
    "duration": 4,
    "start_time": "2022-08-01T19:03:53.881Z"
   },
   {
    "duration": 21,
    "start_time": "2022-08-01T19:03:53.887Z"
   },
   {
    "duration": 3,
    "start_time": "2022-08-01T19:03:53.910Z"
   },
   {
    "duration": 70,
    "start_time": "2022-08-01T19:03:53.916Z"
   },
   {
    "duration": 192,
    "start_time": "2022-08-01T19:03:53.988Z"
   },
   {
    "duration": 33,
    "start_time": "2022-08-01T19:03:54.182Z"
   },
   {
    "duration": 202,
    "start_time": "2022-08-01T19:03:54.217Z"
   },
   {
    "duration": 3,
    "start_time": "2022-08-01T19:03:54.420Z"
   },
   {
    "duration": 46,
    "start_time": "2022-08-01T19:03:54.425Z"
   },
   {
    "duration": 141,
    "start_time": "2022-08-01T19:03:54.473Z"
   },
   {
    "duration": 6,
    "start_time": "2022-08-01T19:03:54.616Z"
   },
   {
    "duration": 13,
    "start_time": "2022-08-01T19:03:54.624Z"
   },
   {
    "duration": 41,
    "start_time": "2022-08-01T19:03:54.639Z"
   },
   {
    "duration": 195,
    "start_time": "2022-08-01T19:03:54.682Z"
   },
   {
    "duration": 31,
    "start_time": "2022-08-01T19:03:54.879Z"
   },
   {
    "duration": 262,
    "start_time": "2022-08-01T19:03:54.912Z"
   },
   {
    "duration": 112,
    "start_time": "2022-08-01T19:05:01.995Z"
   },
   {
    "duration": 102,
    "start_time": "2022-08-01T19:05:09.703Z"
   },
   {
    "duration": 8,
    "start_time": "2022-08-01T19:05:34.721Z"
   },
   {
    "duration": 66,
    "start_time": "2022-08-01T19:07:56.924Z"
   },
   {
    "duration": 17,
    "start_time": "2022-08-01T19:07:56.992Z"
   },
   {
    "duration": 14,
    "start_time": "2022-08-01T19:07:57.011Z"
   },
   {
    "duration": 9,
    "start_time": "2022-08-01T19:07:57.052Z"
   },
   {
    "duration": 42,
    "start_time": "2022-08-01T19:07:57.063Z"
   },
   {
    "duration": 5,
    "start_time": "2022-08-01T19:07:57.106Z"
   },
   {
    "duration": 12,
    "start_time": "2022-08-01T19:07:57.112Z"
   },
   {
    "duration": 5,
    "start_time": "2022-08-01T19:07:57.125Z"
   },
   {
    "duration": 6,
    "start_time": "2022-08-01T19:07:57.153Z"
   },
   {
    "duration": 8,
    "start_time": "2022-08-01T19:07:57.163Z"
   },
   {
    "duration": 32,
    "start_time": "2022-08-01T19:07:57.173Z"
   },
   {
    "duration": 8,
    "start_time": "2022-08-01T19:07:57.207Z"
   },
   {
    "duration": 3,
    "start_time": "2022-08-01T19:07:57.217Z"
   },
   {
    "duration": 21,
    "start_time": "2022-08-01T19:07:57.251Z"
   },
   {
    "duration": 16,
    "start_time": "2022-08-01T19:07:57.273Z"
   },
   {
    "duration": 11,
    "start_time": "2022-08-01T19:07:57.291Z"
   },
   {
    "duration": 8,
    "start_time": "2022-08-01T19:07:57.304Z"
   },
   {
    "duration": 18,
    "start_time": "2022-08-01T19:07:57.313Z"
   },
   {
    "duration": 24,
    "start_time": "2022-08-01T19:07:57.333Z"
   },
   {
    "duration": 5,
    "start_time": "2022-08-01T19:07:57.359Z"
   },
   {
    "duration": 12,
    "start_time": "2022-08-01T19:07:57.366Z"
   },
   {
    "duration": 8,
    "start_time": "2022-08-01T19:07:57.380Z"
   },
   {
    "duration": 32,
    "start_time": "2022-08-01T19:07:57.390Z"
   },
   {
    "duration": 202,
    "start_time": "2022-08-01T19:07:57.424Z"
   },
   {
    "duration": 40,
    "start_time": "2022-08-01T19:07:57.628Z"
   },
   {
    "duration": 184,
    "start_time": "2022-08-01T19:07:57.670Z"
   },
   {
    "duration": 2,
    "start_time": "2022-08-01T19:07:57.856Z"
   },
   {
    "duration": 32,
    "start_time": "2022-08-01T19:07:57.861Z"
   },
   {
    "duration": 135,
    "start_time": "2022-08-01T19:07:57.894Z"
   },
   {
    "duration": 7,
    "start_time": "2022-08-01T19:07:58.031Z"
   },
   {
    "duration": 17,
    "start_time": "2022-08-01T19:07:58.041Z"
   },
   {
    "duration": 30,
    "start_time": "2022-08-01T19:07:58.059Z"
   },
   {
    "duration": 185,
    "start_time": "2022-08-01T19:07:58.091Z"
   },
   {
    "duration": 35,
    "start_time": "2022-08-01T19:07:58.277Z"
   },
   {
    "duration": 205,
    "start_time": "2022-08-01T19:07:58.314Z"
   },
   {
    "duration": 1010,
    "start_time": "2022-08-02T05:11:00.232Z"
   },
   {
    "duration": 23,
    "start_time": "2022-08-02T05:11:01.246Z"
   },
   {
    "duration": 17,
    "start_time": "2022-08-02T05:11:01.271Z"
   },
   {
    "duration": 15,
    "start_time": "2022-08-02T05:11:01.290Z"
   },
   {
    "duration": 40,
    "start_time": "2022-08-02T05:11:01.306Z"
   },
   {
    "duration": 3,
    "start_time": "2022-08-02T05:11:01.348Z"
   },
   {
    "duration": 17,
    "start_time": "2022-08-02T05:11:01.353Z"
   },
   {
    "duration": 11,
    "start_time": "2022-08-02T05:11:01.372Z"
   },
   {
    "duration": 8,
    "start_time": "2022-08-02T05:11:01.403Z"
   },
   {
    "duration": 6,
    "start_time": "2022-08-02T05:11:01.414Z"
   },
   {
    "duration": 60,
    "start_time": "2022-08-02T05:11:01.422Z"
   },
   {
    "duration": 12,
    "start_time": "2022-08-02T05:11:01.485Z"
   },
   {
    "duration": 7,
    "start_time": "2022-08-02T05:11:01.504Z"
   },
   {
    "duration": 34,
    "start_time": "2022-08-02T05:11:01.512Z"
   },
   {
    "duration": 19,
    "start_time": "2022-08-02T05:11:01.548Z"
   },
   {
    "duration": 14,
    "start_time": "2022-08-02T05:11:01.569Z"
   },
   {
    "duration": 23,
    "start_time": "2022-08-02T05:11:01.585Z"
   },
   {
    "duration": 29,
    "start_time": "2022-08-02T05:11:01.610Z"
   },
   {
    "duration": 17,
    "start_time": "2022-08-02T05:11:01.641Z"
   },
   {
    "duration": 21,
    "start_time": "2022-08-02T05:11:01.660Z"
   },
   {
    "duration": 19,
    "start_time": "2022-08-02T05:11:01.683Z"
   },
   {
    "duration": 9,
    "start_time": "2022-08-02T05:11:01.704Z"
   },
   {
    "duration": 56,
    "start_time": "2022-08-02T05:11:01.714Z"
   },
   {
    "duration": 216,
    "start_time": "2022-08-02T05:11:01.771Z"
   },
   {
    "duration": 44,
    "start_time": "2022-08-02T05:11:01.989Z"
   },
   {
    "duration": 222,
    "start_time": "2022-08-02T05:11:02.034Z"
   },
   {
    "duration": 3,
    "start_time": "2022-08-02T05:11:02.258Z"
   },
   {
    "duration": 71,
    "start_time": "2022-08-02T05:11:09.374Z"
   },
   {
    "duration": 29,
    "start_time": "2022-08-02T05:11:18.445Z"
   },
   {
    "duration": 30,
    "start_time": "2022-08-02T05:11:31.661Z"
   }
  ],
  "celltoolbar": "Edit Metadata",
  "colab": {
   "name": "dpp_template_part2.ipynb",
   "provenance": []
  },
  "kernelspec": {
   "display_name": ".venv",
   "language": "python",
   "name": "python3"
  },
  "language_info": {
   "codemirror_mode": {
    "name": "ipython",
    "version": 3
   },
   "file_extension": ".py",
   "mimetype": "text/x-python",
   "name": "python",
   "nbconvert_exporter": "python",
   "pygments_lexer": "ipython3",
   "version": "3.10.2 (tags/v3.10.2:a58ebcc, Jan 17 2022, 14:12:15) [MSC v.1929 64 bit (AMD64)]"
  },
  "toc": {
   "base_numbering": 1,
   "nav_menu": {},
   "number_sections": true,
   "sideBar": true,
   "skip_h1_title": true,
   "title_cell": "Table of Contents",
   "title_sidebar": "Contents",
   "toc_cell": false,
   "toc_position": {},
   "toc_section_display": true,
   "toc_window_display": false
  },
  "vscode": {
   "interpreter": {
    "hash": "1553483f914e8e552c4e7427a7195941d34726064a017c39b729512391ee886f"
   }
  }
 },
 "nbformat": 4,
 "nbformat_minor": 5
}
